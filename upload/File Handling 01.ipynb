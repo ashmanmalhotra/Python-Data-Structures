{
 "cells": [
  {
   "cell_type": "markdown",
   "id": "ecabbdf9-06ce-4e63-9f57-49428debd845",
   "metadata": {},
   "source": [
    "# <span style=\"color:red;\">Built-in File Handling (open Function)</span>"
   ]
  },
  {
   "cell_type": "markdown",
   "id": "b3e15eb5-c290-4b33-b703-90b88f8310a8",
   "metadata": {},
   "source": [
    "- open(): It is a basic built-in way to work with files in Python.\n",
    "- It allows:\n",
    "    -  open\n",
    "    -  read\n",
    "    -  write\n",
    "    -  append, or\n",
    "    -  create a file\n",
    "\n",
    "**Syntax:**   \n",
    "```python\n",
    "file = open('filename or path', 'mode') \n",
    "        Modes:\n",
    "        'r': Read (default) – opens the file for reading. If the file doesn't exist, it raises an error.\n",
    "        'w': Write – opens the file for writing (overwrites if the file exists, creates if it doesn't).\n",
    "        'x': Exclusive creation – opens the file for writing, but raises an error if the file exists.\n",
    "        'a': Append – opens the file for appending. Creates the file if it doesn't exist.\n",
    "        'b': Binary mode – used with other modes to handle binary files (e.g., images, videos).\n",
    "        't': Text mode (default) – handles text files.\n",
    "        '+': Read and write mode (can be combined with other modes).\n",
    "```"
   ]
  },
  {
   "cell_type": "code",
   "execution_count": null,
   "id": "4791af3e-e901-4eb3-b9cc-ed1eb6683006",
   "metadata": {},
   "outputs": [],
   "source": []
  },
  {
   "cell_type": "markdown",
   "id": "0740b5a9-abe4-4f01-9021-b6937bf15641",
   "metadata": {},
   "source": [
    "### 1. Example: Reading a File"
   ]
  },
  {
   "cell_type": "code",
   "execution_count": 1,
   "id": "cfbca4fb-99e9-4c8f-bec0-2b227a042b29",
   "metadata": {},
   "outputs": [
    {
     "name": "stdout",
     "output_type": "stream",
     "text": [
      "This is a dummy text file containing random information.\n",
      "This is the second line inside this text file.\n",
      "This is the third line inside this text file.\n",
      "This is the fourth line inside this text file.\n"
     ]
    }
   ],
   "source": [
    "with open('textfile.txt', 'r') as file:\n",
    "    data = file.read()\n",
    "    print(data)"
   ]
  },
  {
   "cell_type": "code",
   "execution_count": null,
   "id": "933e9697-95cc-4eff-8841-807814decea8",
   "metadata": {},
   "outputs": [],
   "source": []
  },
  {
   "cell_type": "markdown",
   "id": "674a8dd9-9f77-4ea4-8938-80f3d0853a05",
   "metadata": {},
   "source": [
    "**Another way of working with files....**"
   ]
  },
  {
   "cell_type": "code",
   "execution_count": 3,
   "id": "5da17549-644c-4191-92ef-c871735f1e65",
   "metadata": {},
   "outputs": [
    {
     "name": "stdout",
     "output_type": "stream",
     "text": [
      "This is a dummy text file containing random information.\n",
      "This is the second line inside this text file.\n",
      "This is the third line inside this text file.\n",
      "This is the fourth line inside this text file.\n"
     ]
    }
   ],
   "source": [
    "file = open('textfile.txt', 'r')\n",
    "data = file.read()\n",
    "print(data)"
   ]
  },
  {
   "cell_type": "code",
   "execution_count": null,
   "id": "7e61945c-96af-4d46-b3ac-4302251c3836",
   "metadata": {},
   "outputs": [],
   "source": []
  },
  {
   "cell_type": "markdown",
   "id": "1d142de9-290e-401d-a0a0-7ed583cd647e",
   "metadata": {},
   "source": [
    "**readline() method will read individual line of the text and returns it.**"
   ]
  },
  {
   "cell_type": "code",
   "execution_count": 4,
   "id": "cd1141bc-baee-4293-9e4f-9e8ad8948b00",
   "metadata": {},
   "outputs": [
    {
     "name": "stdout",
     "output_type": "stream",
     "text": [
      "This is a dummy text file containing random information.\n",
      "\n",
      "This is the second line inside this text file.\n",
      "\n",
      "This is the third line inside this text file.\n",
      "\n"
     ]
    }
   ],
   "source": [
    "file = open('textfile.txt', 'r')\n",
    "print(file.readline())\n",
    "print(file.readline())\n",
    "print(file.readline())\n",
    "file.close()"
   ]
  },
  {
   "cell_type": "code",
   "execution_count": null,
   "id": "ed53387b-fc08-4cdf-b2b9-e5b7f65dde59",
   "metadata": {},
   "outputs": [],
   "source": []
  },
  {
   "cell_type": "markdown",
   "id": "00045c41-b805-467b-a139-b23049f511bd",
   "metadata": {},
   "source": [
    "**readlines() function will read all lines of the file.**    \n",
    "- **It will return list of all lines in a text.**"
   ]
  },
  {
   "cell_type": "code",
   "execution_count": 5,
   "id": "43f4f1a6-e175-45a8-8762-c53caf813f1d",
   "metadata": {},
   "outputs": [
    {
     "name": "stdout",
     "output_type": "stream",
     "text": [
      "['This is a dummy text file containing random information.\\n', 'This is the second line inside this text file.\\n', 'This is the third line inside this text file.\\n', 'This is the fourth line inside this text file.']\n"
     ]
    }
   ],
   "source": [
    "file = open('textfile.txt', 'r')\n",
    "print(file.readlines())\n",
    "file.close()"
   ]
  },
  {
   "cell_type": "code",
   "execution_count": null,
   "id": "8b0d218a-cb58-4f39-9a1c-d2d7899e3cb4",
   "metadata": {},
   "outputs": [],
   "source": []
  },
  {
   "cell_type": "markdown",
   "id": "8f7910df-5e88-4626-93c7-a5d43d2bbc5b",
   "metadata": {},
   "source": [
    "## ```write()``` Method     \n",
    "The write() method writes a string to the file. For binary files, it writes bytes."
   ]
  },
  {
   "cell_type": "markdown",
   "id": "284a80b5-db5c-474c-93d1-8d3dbd34f920",
   "metadata": {},
   "source": [
    "```python\n",
    "# Example: Writing to a file\n",
    "file = open('example.txt', 'w')\n",
    "file.write('Hello, World!\\n')  # Overwrites the content with this string\n",
    "file.close()\n",
    "```"
   ]
  },
  {
   "cell_type": "code",
   "execution_count": null,
   "id": "87777f4c-4e4c-44f7-9468-da262b22c21b",
   "metadata": {},
   "outputs": [],
   "source": []
  },
  {
   "cell_type": "markdown",
   "id": "f0744e00-b698-4a41-b075-020025f45b2a",
   "metadata": {},
   "source": [
    "## ```writelines()``` Method       \n",
    "The writelines() method writes a list of strings to the file."
   ]
  },
  {
   "cell_type": "markdown",
   "id": "3980f747-94ea-4db2-98f5-81a2d5e08cc5",
   "metadata": {},
   "source": [
    "```python\n",
    "# Example: Writing a list of strings to a file\n",
    "file = open('example.txt', 'w')\n",
    "lines = ['Line 1\\n', 'Line 2\\n', 'Line 3\\n']\n",
    "file.writelines(lines)\n",
    "file.close()\n",
    "```"
   ]
  },
  {
   "cell_type": "code",
   "execution_count": null,
   "id": "f9866bcf-f14b-4991-bb6a-178dcc7430b2",
   "metadata": {},
   "outputs": [],
   "source": []
  },
  {
   "cell_type": "markdown",
   "id": "d538de3a-9cff-41f4-a8f8-d76e9d07926b",
   "metadata": {},
   "source": [
    "### ```seek()``` and ```tell()``` method"
   ]
  },
  {
   "cell_type": "markdown",
   "id": "3f6e2ed7-957a-4538-bc71-4652a1ef911c",
   "metadata": {},
   "source": [
    "### ```close()``` method"
   ]
  },
  {
   "cell_type": "code",
   "execution_count": null,
   "id": "5058ec44-555d-478b-91cf-0f3a4aa7cea4",
   "metadata": {},
   "outputs": [],
   "source": []
  },
  {
   "cell_type": "markdown",
   "id": "e909c016-f6a6-47ad-95af-9d4b2272482c",
   "metadata": {},
   "source": [
    "### ```flush()``` Method\n",
    "The flush() method flushes the internal buffer, ensuring all data is written to the file. It’s useful when working with buffered output."
   ]
  },
  {
   "cell_type": "markdown",
   "id": "47d5ac31-52fb-45cc-8e8a-673a8455cd78",
   "metadata": {},
   "source": [
    "```python\n",
    "# Example: Flushing the buffer\n",
    "file = open('example.txt', 'w')\n",
    "file.write('Buffered write.\\n')\n",
    "file.flush()  # Forces the buffer to write to the file\n",
    "file.close()\n",
    "```"
   ]
  },
  {
   "cell_type": "code",
   "execution_count": null,
   "id": "3cfa9e4b-6943-4846-b87c-69207c2e2fe5",
   "metadata": {},
   "outputs": [],
   "source": []
  },
  {
   "cell_type": "markdown",
   "id": "295dd5e8-2039-41e7-bacf-b485d3820ad1",
   "metadata": {},
   "source": [
    "## ```truncate()``` Method       \n",
    "The truncate() method resizes the file to the specified size (in bytes).\n",
    "\n",
    "```python\n",
    "# Example: Truncating the file to a smaller size\n",
    "file = open('example.txt', 'w')\n",
    "file.write('This is a long line of text.\\n')\n",
    "file.truncate(10)  # Truncate the file to the first 10 bytes\n",
    "file.close()\n",
    "```"
   ]
  },
  {
   "cell_type": "code",
   "execution_count": 6,
   "id": "b92ed367-e3ef-4b8a-b0b4-c90edb0ed689",
   "metadata": {},
   "outputs": [],
   "source": [
    "# Example: Truncating the file to a smaller size\n",
    "file = open('example.txt', 'w')\n",
    "file.write('This is a long line of text.\\n')\n",
    "file.truncate(10)  # Truncate the file to the first 10 bytes\n",
    "file.close()"
   ]
  },
  {
   "cell_type": "code",
   "execution_count": null,
   "id": "1991b844-8575-4db0-9a95-d09d38e684a2",
   "metadata": {},
   "outputs": [],
   "source": []
  },
  {
   "cell_type": "markdown",
   "id": "bc0a4f94-85a2-422d-9c93-c902c459ecc7",
   "metadata": {},
   "source": [
    "### Example of ```flush()``` in Real-time Use:"
   ]
  },
  {
   "cell_type": "code",
   "execution_count": 8,
   "id": "8b24fafb-84e2-486d-bb01-78c0afb59d18",
   "metadata": {},
   "outputs": [],
   "source": [
    "import time\n",
    "with open('log.txt', 'w') as log_file:\n",
    "    for i in range(10):\n",
    "        log_file.write(f'Log entry {i}\\n')\n",
    "        log_file.flush()  # Immediately writes to the file, even if the buffer is not full.\n",
    "        # Simulate a process where logs are written gradually\n",
    "        time.sleep(1)  # Just a delay to simulate real-time logging"
   ]
  },
  {
   "cell_type": "code",
   "execution_count": null,
   "id": "36f6d937-7f2c-4f1d-93cf-f640e11bd6ff",
   "metadata": {},
   "outputs": [],
   "source": []
  },
  {
   "cell_type": "markdown",
   "id": "ed9fb28c-d20f-4b94-8451-3b50a5423993",
   "metadata": {},
   "source": [
    "### Example of Binary File"
   ]
  },
  {
   "cell_type": "markdown",
   "id": "f44e7715-230c-4357-8422-ddd8da2f00b3",
   "metadata": {},
   "source": [
    "```python\n",
    "import requests\n",
    "\n",
    "# Download an image using requests\n",
    "image_url = 'https://example.com/image.jpg'\n",
    "response = requests.get(image_url)\n",
    "\n",
    "# Save the image as a binary file\n",
    "with open('downloaded_image.jpg', 'wb') as image_file:\n",
    "    image_file.write(response.content)  # Write the raw binary content\n",
    "```"
   ]
  },
  {
   "cell_type": "code",
   "execution_count": null,
   "id": "089d3f06-aa3b-4f37-8564-b2ba18504c75",
   "metadata": {},
   "outputs": [],
   "source": []
  },
  {
   "cell_type": "code",
   "execution_count": null,
   "id": "93dee33c-0662-4b5c-81a3-4bee97933ee1",
   "metadata": {},
   "outputs": [],
   "source": []
  },
  {
   "cell_type": "code",
   "execution_count": null,
   "id": "802ea51b-16ed-42b9-9893-c2a8f46647ab",
   "metadata": {},
   "outputs": [],
   "source": []
  },
  {
   "cell_type": "code",
   "execution_count": null,
   "id": "4588cafb-05b3-4ae3-a106-b0986451f399",
   "metadata": {},
   "outputs": [],
   "source": []
  },
  {
   "cell_type": "code",
   "execution_count": null,
   "id": "4e0890ed-2068-46b9-a3b0-3097050e9d86",
   "metadata": {},
   "outputs": [],
   "source": []
  },
  {
   "cell_type": "code",
   "execution_count": null,
   "id": "1e610ba5-b38b-41d3-9faa-d756eead2257",
   "metadata": {},
   "outputs": [],
   "source": []
  },
  {
   "cell_type": "code",
   "execution_count": null,
   "id": "973a77ed-fc53-445f-8bfc-89a116f75cf2",
   "metadata": {},
   "outputs": [],
   "source": []
  },
  {
   "cell_type": "code",
   "execution_count": null,
   "id": "989b679a-525f-405f-af7c-c98a2c740574",
   "metadata": {},
   "outputs": [],
   "source": []
  },
  {
   "cell_type": "code",
   "execution_count": null,
   "id": "554ec10f-4b4a-4e0b-8b3e-177156378d90",
   "metadata": {},
   "outputs": [],
   "source": []
  },
  {
   "cell_type": "code",
   "execution_count": null,
   "id": "f4d38be6-8870-4e0d-9418-6f69cf64076e",
   "metadata": {},
   "outputs": [],
   "source": []
  },
  {
   "cell_type": "code",
   "execution_count": null,
   "id": "517bc9ff-9e36-4f22-9368-a19ea5c6c022",
   "metadata": {},
   "outputs": [],
   "source": []
  },
  {
   "cell_type": "code",
   "execution_count": null,
   "id": "0b6430bf-e825-45fa-b7cb-09f4dbdc7cd0",
   "metadata": {},
   "outputs": [],
   "source": []
  },
  {
   "cell_type": "code",
   "execution_count": null,
   "id": "72c89961-39f0-4ecc-8990-2c469d86c3d0",
   "metadata": {},
   "outputs": [],
   "source": []
  },
  {
   "cell_type": "code",
   "execution_count": null,
   "id": "8fb4b4cd-9e1f-49a9-861a-4e5973fa6015",
   "metadata": {},
   "outputs": [],
   "source": []
  },
  {
   "cell_type": "code",
   "execution_count": null,
   "id": "856b10a5-01d1-42a2-8093-996741ed9b21",
   "metadata": {},
   "outputs": [],
   "source": []
  },
  {
   "cell_type": "code",
   "execution_count": null,
   "id": "5d9d2a36-4adf-4ca2-b929-a74f6a5e1bc9",
   "metadata": {},
   "outputs": [],
   "source": []
  },
  {
   "cell_type": "code",
   "execution_count": null,
   "id": "285fa8d6-d1e5-4ac8-9916-2699e13dfa61",
   "metadata": {},
   "outputs": [],
   "source": []
  },
  {
   "cell_type": "code",
   "execution_count": null,
   "id": "c388c92e-cf35-44af-bf80-aac1644ea8f6",
   "metadata": {},
   "outputs": [],
   "source": []
  },
  {
   "cell_type": "code",
   "execution_count": null,
   "id": "2306a35a-34d5-44ff-bce9-7ce0f068f23e",
   "metadata": {},
   "outputs": [],
   "source": []
  },
  {
   "cell_type": "code",
   "execution_count": null,
   "id": "06d84ca4-3cb7-490b-95fe-609cf89b7257",
   "metadata": {},
   "outputs": [],
   "source": []
  },
  {
   "cell_type": "code",
   "execution_count": null,
   "id": "b9d551bf-3deb-4c66-a851-f8646b7a7acd",
   "metadata": {},
   "outputs": [],
   "source": []
  },
  {
   "cell_type": "code",
   "execution_count": null,
   "id": "1486613f-52f6-42e2-a80e-33a4f13b3a69",
   "metadata": {},
   "outputs": [],
   "source": []
  },
  {
   "cell_type": "code",
   "execution_count": null,
   "id": "f6611d8d-f8be-49db-8784-2f2eeb2c57f0",
   "metadata": {},
   "outputs": [],
   "source": []
  },
  {
   "cell_type": "code",
   "execution_count": null,
   "id": "411fcfe1-1a24-42ef-ae9e-18df5f0a1eab",
   "metadata": {},
   "outputs": [],
   "source": []
  },
  {
   "cell_type": "code",
   "execution_count": null,
   "id": "72fc0e8f-83cd-402a-9ef4-cb7d31152f46",
   "metadata": {},
   "outputs": [],
   "source": []
  },
  {
   "cell_type": "code",
   "execution_count": null,
   "id": "1e33be10-f936-4325-851f-8b90249dc187",
   "metadata": {},
   "outputs": [],
   "source": []
  },
  {
   "cell_type": "code",
   "execution_count": null,
   "id": "9df65b99-6399-4c1c-8a16-cd6284901a5f",
   "metadata": {},
   "outputs": [],
   "source": []
  },
  {
   "cell_type": "code",
   "execution_count": null,
   "id": "ba35b45a-6f5a-4ee5-a3cb-9f7a96749db2",
   "metadata": {},
   "outputs": [],
   "source": []
  },
  {
   "cell_type": "code",
   "execution_count": null,
   "id": "de973240-344a-4a89-8c36-4f3b4b9d02b9",
   "metadata": {},
   "outputs": [],
   "source": []
  },
  {
   "cell_type": "code",
   "execution_count": null,
   "id": "284c158d-439f-4fbe-8e22-a0d63291745c",
   "metadata": {},
   "outputs": [],
   "source": []
  },
  {
   "cell_type": "code",
   "execution_count": null,
   "id": "23acd2ec-5a4a-4a69-aab3-4208a9fc2bb3",
   "metadata": {},
   "outputs": [],
   "source": []
  },
  {
   "cell_type": "code",
   "execution_count": null,
   "id": "75d62307-dede-44f8-8661-fc1525b04a23",
   "metadata": {},
   "outputs": [],
   "source": []
  },
  {
   "cell_type": "code",
   "execution_count": null,
   "id": "b60b330e-7c14-45ee-802c-92d0c210f2da",
   "metadata": {},
   "outputs": [],
   "source": []
  },
  {
   "cell_type": "code",
   "execution_count": null,
   "id": "94992b09-5a78-4ffc-9209-34b943c489bb",
   "metadata": {},
   "outputs": [],
   "source": []
  },
  {
   "cell_type": "code",
   "execution_count": null,
   "id": "7e801a64-bbb0-4cb5-bef7-198d39d2f4ef",
   "metadata": {},
   "outputs": [],
   "source": []
  },
  {
   "cell_type": "code",
   "execution_count": null,
   "id": "b6325bc3-aee5-45e2-8808-d0c91e721fa9",
   "metadata": {},
   "outputs": [],
   "source": []
  },
  {
   "cell_type": "code",
   "execution_count": null,
   "id": "c76cd546-7496-435b-a84d-04015bb42c9f",
   "metadata": {},
   "outputs": [],
   "source": []
  },
  {
   "cell_type": "code",
   "execution_count": null,
   "id": "b36d45da-968b-4580-9d03-2060e2a75b91",
   "metadata": {},
   "outputs": [],
   "source": []
  },
  {
   "cell_type": "code",
   "execution_count": null,
   "id": "69b18bdd-901c-4a72-93a4-ae73cdd94838",
   "metadata": {},
   "outputs": [],
   "source": []
  },
  {
   "cell_type": "code",
   "execution_count": null,
   "id": "a2c5269c-85ca-4f92-9d00-614d95406952",
   "metadata": {},
   "outputs": [],
   "source": []
  },
  {
   "cell_type": "code",
   "execution_count": null,
   "id": "3eea9b96-ad2b-4cca-9398-b5f31f60948c",
   "metadata": {},
   "outputs": [],
   "source": []
  },
  {
   "cell_type": "code",
   "execution_count": null,
   "id": "d9708808-454d-4e57-814f-1d6449c8d94a",
   "metadata": {},
   "outputs": [],
   "source": []
  },
  {
   "cell_type": "code",
   "execution_count": null,
   "id": "0f93f7fc-6574-4f09-a73f-c1465c4d0785",
   "metadata": {},
   "outputs": [],
   "source": []
  },
  {
   "cell_type": "code",
   "execution_count": null,
   "id": "3ddb7478-cb7e-463e-9f90-2fbb72894af8",
   "metadata": {},
   "outputs": [],
   "source": []
  }
 ],
 "metadata": {
  "kernelspec": {
   "display_name": "Python 3 (ipykernel)",
   "language": "python",
   "name": "python3"
  },
  "language_info": {
   "codemirror_mode": {
    "name": "ipython",
    "version": 3
   },
   "file_extension": ".py",
   "mimetype": "text/x-python",
   "name": "python",
   "nbconvert_exporter": "python",
   "pygments_lexer": "ipython3",
   "version": "3.11.4"
  }
 },
 "nbformat": 4,
 "nbformat_minor": 5
}
