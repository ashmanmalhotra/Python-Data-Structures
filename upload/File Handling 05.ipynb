{
 "cells": [
  {
   "cell_type": "markdown",
   "id": "b2920d9c-5e74-40f4-85cc-4a0a4a7116f9",
   "metadata": {},
   "source": [
    "# Part 1: Code to Generate and Save JSON Data:"
   ]
  },
  {
   "cell_type": "code",
   "execution_count": 1,
   "id": "31ecaf7f-7325-4f63-9e1a-e1ffb8425752",
   "metadata": {},
   "outputs": [],
   "source": [
    "import json\n",
    "\n",
    "# Data structure\n",
    "data = [\n",
    "    {\"Name\": \"Alice\", \"Age\": 30, \"Occupation\": \"Engineer\"},\n",
    "    {\"Name\": \"Bob\", \"Age\": 25, \"Occupation\": \"Designer\"},\n",
    "    {\"Name\": \"Charlie\", \"Age\": 35, \"Occupation\": \"Teacher\"},\n",
    "    {\"Name\": \"David\", \"Age\": 40, \"Occupation\": \"Doctor\"}\n",
    "]\n",
    "\n",
    "# Save the data to a JSON file\n",
    "with open('saved_data.json', 'w') as json_file:\n",
    "    json.dump(data, json_file, indent=4)"
   ]
  },
  {
   "cell_type": "code",
   "execution_count": null,
   "id": "1186ed2e-d127-4f27-a0a3-aa54c2c3305e",
   "metadata": {},
   "outputs": [],
   "source": []
  },
  {
   "cell_type": "markdown",
   "id": "266240ec-b819-4f19-a773-0d3fd7548f3d",
   "metadata": {},
   "source": [
    "# Part 2: Reading JSON Data Using"
   ]
  },
  {
   "cell_type": "markdown",
   "id": "a17c85d6-bfc0-4787-9664-76b60ecb65d9",
   "metadata": {},
   "source": [
    "Now, let's read the generated JSON file using the **open()** function and Python’s built-in json module.       \n",
    "After reading it, we’ll process the data (e.g., filtering, sorting) using basic Python list and dictionary operations."
   ]
  },
  {
   "cell_type": "markdown",
   "id": "27af6c61-fc40-46d7-a187-c7b322f2ee3a",
   "metadata": {},
   "source": [
    "**Code to Read and Process JSON Data:**"
   ]
  },
  {
   "cell_type": "code",
   "execution_count": 2,
   "id": "e40e5856-61b3-4538-8e4f-72a38b85f1af",
   "metadata": {},
   "outputs": [
    {
     "name": "stdout",
     "output_type": "stream",
     "text": [
      "Original Data:\n",
      "{'Name': 'Alice', 'Age': 30, 'Occupation': 'Engineer'}\n",
      "{'Name': 'Bob', 'Age': 25, 'Occupation': 'Designer'}\n",
      "{'Name': 'Charlie', 'Age': 35, 'Occupation': 'Teacher'}\n",
      "{'Name': 'David', 'Age': 40, 'Occupation': 'Doctor'}\n",
      "\n",
      "Filtered Data (Age > 30):\n",
      "{'Name': 'Charlie', 'Age': 35, 'Occupation': 'Teacher'}\n",
      "{'Name': 'David', 'Age': 40, 'Occupation': 'Doctor'}\n"
     ]
    }
   ],
   "source": [
    "import json\n",
    "\n",
    "# Open and load the JSON file\n",
    "with open('saved_data.json', 'r') as json_file:\n",
    "    data = json.load(json_file)\n",
    "\n",
    "# Display the data\n",
    "print(\"Original Data:\")\n",
    "for person in data:\n",
    "    print(person)\n",
    "\n",
    "# Example: Filter people whose age is greater than 30\n",
    "filtered_data = [person for person in data if person['Age'] > 30]\n",
    "\n",
    "# Print the filtered data\n",
    "print(\"\\nFiltered Data (Age > 30):\")\n",
    "for person in filtered_data:\n",
    "    print(person)"
   ]
  },
  {
   "cell_type": "markdown",
   "id": "3dd9a7aa-d7e6-485b-b942-b4aea368ab82",
   "metadata": {},
   "source": [
    "**Explanation:**     \n",
    "1. **json.load():** This function reads the JSON data from the file and converts it into a Python data structure (in this case, a list of dictionaries).\n",
    "2. **Filtering:** We filter the data using a list comprehension. The condition is that the age should be greater than 30."
   ]
  },
  {
   "cell_type": "code",
   "execution_count": null,
   "id": "1b92486c-aee8-4488-9f14-191d80980843",
   "metadata": {},
   "outputs": [],
   "source": []
  },
  {
   "cell_type": "markdown",
   "id": "9f2fe37d-8d3a-4570-a935-9dfdfbaa5180",
   "metadata": {},
   "source": [
    "# Part 3: Reading and Processing JSON Data Using the csv Module        \n",
    "Although the **csv** module is primarily used for handling CSV (Comma-Separated Values) files, we can manually transform our JSON data into a CSV-like format for processing. Here’s how you can do it:      "
   ]
  },
  {
   "cell_type": "markdown",
   "id": "00a21c4d-f310-4d80-8a20-4df81c7fc08a",
   "metadata": {},
   "source": [
    "**Step 1: Convert JSON to CSV Format**    \n",
    "You can transform the JSON data into rows and write it as a CSV file. Once in CSV format, we can use the csv package to read and process the data.       <br>    \n",
    "**Code to Convert JSON Data to CSV:**"
   ]
  },
  {
   "cell_type": "code",
   "execution_count": 5,
   "id": "4ef4dec2-96bf-4443-bd05-dc48d51992d5",
   "metadata": {},
   "outputs": [
    {
     "name": "stdout",
     "output_type": "stream",
     "text": [
      "Data has been written to data.csv\n"
     ]
    }
   ],
   "source": [
    "import json\n",
    "import csv\n",
    "\n",
    "# Open and load the JSON data\n",
    "with open('saved_data.json', 'r') as json_file:\n",
    "    data = json.load(json_file)\n",
    "\n",
    "# Write the JSON data to a CSV file\n",
    "with open('saved_data.csv', 'w', newline='') as csv_file:\n",
    "    csv_writer = csv.DictWriter(csv_file, fieldnames=[\"Name\", \"Age\", \"Occupation\"])\n",
    "    csv_writer.writeheader()\n",
    "    csv_writer.writerows(data)\n",
    "\n",
    "print(\"Data has been written to data.csv\")"
   ]
  },
  {
   "cell_type": "code",
   "execution_count": null,
   "id": "4a72f761-a100-4b56-80fc-955097183e79",
   "metadata": {},
   "outputs": [],
   "source": []
  },
  {
   "cell_type": "markdown",
   "id": "e5c2049d-3f48-4d60-844c-9cd98ff48ed2",
   "metadata": {},
   "source": [
    "**Step 2: Read and Process the CSV Data Using the csv Module**   \n",
    "Once the JSON data is converted to CSV, you can read and process it using the csv module as if it was any CSV file.     \n",
    "<br>\n",
    "**Code to Read and Process the CSV Data:**"
   ]
  },
  {
   "cell_type": "code",
   "execution_count": 6,
   "id": "99822e48-aab8-4da1-945d-aa1754bf539c",
   "metadata": {},
   "outputs": [
    {
     "name": "stdout",
     "output_type": "stream",
     "text": [
      "Data Read from CSV:\n",
      "{'Name': 'Alice', 'Age': '30', 'Occupation': 'Engineer'}\n",
      "{'Name': 'Bob', 'Age': '25', 'Occupation': 'Designer'}\n",
      "{'Name': 'Charlie', 'Age': '35', 'Occupation': 'Teacher'}\n",
      "{'Name': 'David', 'Age': '40', 'Occupation': 'Doctor'}\n",
      "\n",
      "Filtered CSV Data (Age > 30):\n",
      "{'Name': 'Charlie', 'Age': '35', 'Occupation': 'Teacher'}\n",
      "{'Name': 'David', 'Age': '40', 'Occupation': 'Doctor'}\n"
     ]
    }
   ],
   "source": [
    "import csv\n",
    "\n",
    "# Open and read the CSV file\n",
    "with open('saved_data.csv', 'r') as csv_file:\n",
    "    csv_reader = csv.DictReader(csv_file)\n",
    "    \n",
    "    # Convert the CSV data into a list of dictionaries (similar to the original JSON)\n",
    "    data_from_csv = [row for row in csv_reader]\n",
    "\n",
    "# Display the CSV data\n",
    "print(\"Data Read from CSV:\")\n",
    "for person in data_from_csv:\n",
    "    print(person)\n",
    "\n",
    "# Example: Filter people whose age is greater than 30\n",
    "filtered_data_csv = [person for person in data_from_csv if int(person['Age']) > 30]\n",
    "\n",
    "# Print the filtered CSV data\n",
    "print(\"\\nFiltered CSV Data (Age > 30):\")\n",
    "for person in filtered_data_csv:\n",
    "    print(person)\n"
   ]
  },
  {
   "cell_type": "markdown",
   "id": "2c73dece-aa72-4aa4-b1dc-bdb798abedef",
   "metadata": {},
   "source": [
    "**Explanation:**     \n",
    "1. **Writing JSON to CSV:** We use csv.DictWriter() to write the list of dictionaries (JSON data) into a CSV file. The fieldnames parameter defines the column names (headers) for the CSV.     \n",
    "2. **Reading CSV:** We use csv.DictReader() to read the CSV file. Each row of the CSV file is converted back into a dictionary.    \n",
    "3. **Filtering:** The filtering logic is the same as before, but since CSV values are strings by default, we convert the Age to an integer when filtering."
   ]
  },
  {
   "cell_type": "code",
   "execution_count": null,
   "id": "dc02931a-8e4f-470f-b3cf-ca7d3cba4036",
   "metadata": {},
   "outputs": [],
   "source": []
  },
  {
   "cell_type": "code",
   "execution_count": null,
   "id": "283ee47a-8679-4954-9eed-b40464f80616",
   "metadata": {},
   "outputs": [],
   "source": []
  },
  {
   "cell_type": "code",
   "execution_count": null,
   "id": "e35031b7-b241-4687-bd6d-ab632753d775",
   "metadata": {},
   "outputs": [],
   "source": []
  },
  {
   "cell_type": "code",
   "execution_count": null,
   "id": "2a9a82aa-da83-463f-ba40-6e03e1086885",
   "metadata": {},
   "outputs": [],
   "source": []
  },
  {
   "cell_type": "code",
   "execution_count": null,
   "id": "e499b054-7c3c-4b2b-b40f-03eb244e45f7",
   "metadata": {},
   "outputs": [],
   "source": []
  },
  {
   "cell_type": "code",
   "execution_count": null,
   "id": "883e433d-d994-4356-afd0-3da56676bbd3",
   "metadata": {},
   "outputs": [],
   "source": []
  },
  {
   "cell_type": "code",
   "execution_count": null,
   "id": "f3bba93b-ae60-4f17-a1b3-d7eaf104ec7a",
   "metadata": {},
   "outputs": [],
   "source": []
  },
  {
   "cell_type": "code",
   "execution_count": null,
   "id": "e3d4e4da-396d-4ea2-91fc-4662b78a6436",
   "metadata": {},
   "outputs": [],
   "source": []
  },
  {
   "cell_type": "code",
   "execution_count": null,
   "id": "12ba5874-b92f-48a4-95f8-720529a54d3e",
   "metadata": {},
   "outputs": [],
   "source": []
  },
  {
   "cell_type": "code",
   "execution_count": null,
   "id": "e95c090e-ea05-47a0-be77-cda03684cc83",
   "metadata": {},
   "outputs": [],
   "source": []
  },
  {
   "cell_type": "code",
   "execution_count": null,
   "id": "9120f521-a2ba-45c1-9e47-c738fb806da3",
   "metadata": {},
   "outputs": [],
   "source": []
  }
 ],
 "metadata": {
  "kernelspec": {
   "display_name": "Python 3 (ipykernel)",
   "language": "python",
   "name": "python3"
  },
  "language_info": {
   "codemirror_mode": {
    "name": "ipython",
    "version": 3
   },
   "file_extension": ".py",
   "mimetype": "text/x-python",
   "name": "python",
   "nbconvert_exporter": "python",
   "pygments_lexer": "ipython3",
   "version": "3.11.4"
  }
 },
 "nbformat": 4,
 "nbformat_minor": 5
}
