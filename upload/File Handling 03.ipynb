{
 "cells": [
  {
   "cell_type": "markdown",
   "id": "4979bcd7-3e1c-4657-b406-d89fc179a267",
   "metadata": {},
   "source": [
    "# <span style=\"color:red;\">Step 1: Understanding the CSV Module</span>"
   ]
  },
  {
   "cell_type": "markdown",
   "id": "aec15bb6-e792-4eee-b538-bdfbadcfd01c",
   "metadata": {},
   "source": [
    "Python's ```csv``` module provides functionality to handle **CSV (Comma-Separated Values)** files.   \n",
    "These files typically contain tabular data where each row represents a record, and each value within a row is separated by a comma (,).      \n",
    "\n",
    "The csv module provides:   \n",
    "- csv.reader to read CSV files.\n",
    "- csv.writer to write data to CSV files.\n",
    "- Options to handle different delimiters, quoting, and more."
   ]
  },
  {
   "cell_type": "markdown",
   "id": "814b9455-58bb-4c35-bda5-d85b846faee2",
   "metadata": {},
   "source": [
    "# <span style=\"color:red;\">Step 2: Creating a Sample CSV File with Numeric Data</span>"
   ]
  },
  {
   "cell_type": "markdown",
   "id": "3bea1541-82e0-43be-bd7e-c0d343684fee",
   "metadata": {},
   "source": [
    "Create a CSV File containing Numeric Data as described below:    \n",
    "```\n",
    "ID,Name,Maths,Science,English\n",
    "1,Alice,85,90,88\n",
    "2,Bob,78,80,79\n",
    "3,Charlie,92,89,94\n",
    "4,David,85,92,87\n",
    "5,Eva,91,95,93\n",
    "```"
   ]
  },
  {
   "cell_type": "markdown",
   "id": "d7e78bcc-2e50-49da-ae17-f33f894a680d",
   "metadata": {},
   "source": [
    "# <span style=\"color:red;\">Step 3: Reading the CSV File</span>       \n",
    "We will now learn how to read this CSV file using Python's **csv.reader**."
   ]
  },
  {
   "cell_type": "markdown",
   "id": "f0607e14-8bce-4291-9a7c-9f8e7322d479",
   "metadata": {},
   "source": [
    "## <span style=\"color:blue;\">i. Opening the CSV File</span>    \n",
    "We need to **open the CSV file** using the **open()** function and then **pass** the **file object** to **csv.reader**."
   ]
  },
  {
   "cell_type": "code",
   "execution_count": 2,
   "id": "49222e18-a57f-4e01-badc-157a0a918d3b",
   "metadata": {
    "scrolled": true
   },
   "outputs": [
    {
     "name": "stdout",
     "output_type": "stream",
     "text": [
      "['ID', 'Name', 'Maths', 'Science', 'English']\n",
      "['1', 'Alice', '85', '90', '88']\n",
      "['2', 'Bob', '78', '80', '79']\n",
      "['3', 'Charlie', '92', '89', '94']\n",
      "['4', 'David', '85', '92', '87']\n",
      "['5', 'Eva', '91', '95', '93']\n"
     ]
    }
   ],
   "source": [
    "import csv\n",
    "\n",
    "# Open the CSV file\n",
    "with open('data.csv', mode='r') as file:\n",
    "    # Create a csv reader object\n",
    "    csv_reader = csv.reader(file)\n",
    "    \n",
    "    # Reading each row in the csv\n",
    "    for row in csv_reader:\n",
    "        print(row)"
   ]
  },
  {
   "cell_type": "markdown",
   "id": "2f8f6951-7dbd-4249-b644-b7d7fcdbe00d",
   "metadata": {},
   "source": [
    "**Note:**    \n",
    "- The **first row** contains the **headers (ID, Name, Maths, Science, English)**.\n",
    "- Each **subsequent row** contains the **numeric data** in **string format**."
   ]
  },
  {
   "cell_type": "code",
   "execution_count": 3,
   "id": "dfc0171e-3715-4ebd-a534-20e17afee31c",
   "metadata": {},
   "outputs": [
    {
     "data": {
      "text/plain": [
       "6"
      ]
     },
     "execution_count": 3,
     "metadata": {},
     "output_type": "execute_result"
    }
   ],
   "source": [
    "csv_reader.line_num"
   ]
  },
  {
   "cell_type": "markdown",
   "id": "9c8bbfef-8ad5-465e-9647-11a73498d4c4",
   "metadata": {},
   "source": [
    "## <span style=\"color:blue;\">ii. Skipping the Header</span>    \n",
    "Since the **first row contains the header (column names)**, we usually want to **skip it** when performing calculations.   \n",
    "Here’s how to skip the header:"
   ]
  },
  {
   "cell_type": "code",
   "execution_count": 5,
   "id": "a61f81e7-1688-475f-a4e6-b31aa46dc5ee",
   "metadata": {},
   "outputs": [
    {
     "name": "stdout",
     "output_type": "stream",
     "text": [
      "['1', 'Alice', '85', '90', '88']\n",
      "['2', 'Bob', '78', '80', '79']\n",
      "['3', 'Charlie', '92', '89', '94']\n",
      "['4', 'David', '85', '92', '87']\n",
      "['5', 'Eva', '91', '95', '93']\n"
     ]
    }
   ],
   "source": [
    "import csv\n",
    "\n",
    "# Open the CSV file\n",
    "with open('data.csv', mode='r') as file:\n",
    "    # Create a csv reader object\n",
    "    csv_reader = csv.reader(file)\n",
    "    \n",
    "    # Skip the header\n",
    "    next(csv_reader)\n",
    "    \n",
    "    # Reading each row after the header\n",
    "    for row in csv_reader:\n",
    "        print(row)"
   ]
  },
  {
   "cell_type": "code",
   "execution_count": null,
   "id": "35cab28a-0df7-40d0-8705-ed75b8618835",
   "metadata": {},
   "outputs": [],
   "source": []
  },
  {
   "cell_type": "markdown",
   "id": "4d03f204-127b-4a83-a9ea-7e3933daf65b",
   "metadata": {},
   "source": [
    "# <span style=\"color:red;\">Step 4: Processing the Numeric Data</span>      \n",
    "Now that we have the data, we’ll convert the relevant columns (Maths, Science, English) from strings to integers to perform mathematical operations."
   ]
  },
  {
   "cell_type": "markdown",
   "id": "816b37ae-aae7-4e85-bc68-537458f69092",
   "metadata": {},
   "source": [
    "## <span style=\"color:blue;\">i. Processing the Numeric Data</span>    \n",
    "Here’s how we can convert the strings representing numeric values to integers:"
   ]
  },
  {
   "cell_type": "code",
   "execution_count": 7,
   "id": "672ae8cd-d3fd-4279-a0ae-802f7162c0ef",
   "metadata": {},
   "outputs": [
    {
     "name": "stdout",
     "output_type": "stream",
     "text": [
      "Student: Alice, Maths: 85, Science: 90, English: 88\n",
      "Student: Bob, Maths: 78, Science: 80, English: 79\n",
      "Student: Charlie, Maths: 92, Science: 89, English: 94\n",
      "Student: David, Maths: 85, Science: 92, English: 87\n",
      "Student: Eva, Maths: 91, Science: 95, English: 93\n"
     ]
    }
   ],
   "source": [
    "import csv\n",
    "\n",
    "# Open the CSV file\n",
    "with open('data.csv', mode='r') as file:\n",
    "    # Create a csv reader object\n",
    "    csv_reader = csv.reader(file)\n",
    "    \n",
    "    # Skip the header\n",
    "    next(csv_reader)\n",
    "    \n",
    "    # Process each row\n",
    "    for row in csv_reader:\n",
    "        # Convert Maths, Science, and English scores to integers\n",
    "        maths = int(row[2])\n",
    "        science = int(row[3])\n",
    "        english = int(row[4])\n",
    "        \n",
    "        print(f\"Student: {row[1]}, Maths: {maths}, Science: {science}, English: {english}\")"
   ]
  },
  {
   "cell_type": "code",
   "execution_count": null,
   "id": "1ba7dcca-dc62-4bcf-93af-604963cf363e",
   "metadata": {},
   "outputs": [],
   "source": []
  },
  {
   "cell_type": "markdown",
   "id": "5b34b071-1444-4d7c-8869-02f93fd9210f",
   "metadata": {},
   "source": [
    "**Creating a List Containing the Processed Data:**"
   ]
  },
  {
   "cell_type": "code",
   "execution_count": 18,
   "id": "9eb90343-62f2-47f5-9019-5b15a3eb5e41",
   "metadata": {},
   "outputs": [
    {
     "name": "stdout",
     "output_type": "stream",
     "text": [
      "['ID', 'Name', 'Maths', 'Science', 'English']\n",
      "['1', 'Alice', 85, 90, 88]\n",
      "['2', 'Bob', 78, 80, 79]\n",
      "['3', 'Charlie', 92, 89, 94]\n",
      "['4', 'David', 85, 92, 87]\n",
      "['5', 'Eva', 91, 95, 93]\n"
     ]
    }
   ],
   "source": [
    "import csv\n",
    "\n",
    "# Open the CSV file\n",
    "with open('data.csv', mode='r') as file:\n",
    "    # Create a csv reader object\n",
    "    csv_reader = csv.reader(file)\n",
    "    \n",
    "    # Skip the header\n",
    "    header = next(csv_reader)\n",
    "\n",
    "    # Store the Processed data in a List\n",
    "    processed_data = []\n",
    "        \n",
    "    # Process each row\n",
    "    for row in csv_reader:\n",
    "        # Convert Maths, Science, and English scores to integers\n",
    "        maths = int(row[2])\n",
    "        science = int(row[3])\n",
    "        english = int(row[4])\n",
    "        \n",
    "        # Append the processed row back into the list\n",
    "        processed_data.append([row[0], row[1], maths, science, english])\n",
    "\n",
    "    # Printing the updated rows after processing\n",
    "    print(header)\n",
    "    for row in processed_data:\n",
    "        print(row)"
   ]
  },
  {
   "cell_type": "code",
   "execution_count": null,
   "id": "2eb4a921-4972-4f10-99ac-25adf8b5c025",
   "metadata": {},
   "outputs": [],
   "source": []
  },
  {
   "cell_type": "markdown",
   "id": "6a2d20dc-b3e6-47bc-b4dd-44bb162b9a3a",
   "metadata": {},
   "source": [
    "**Important:**    \n",
    "We can also create the **processed_data** object outside the **with block** to retain the data inside the **processed_data object**."
   ]
  },
  {
   "cell_type": "code",
   "execution_count": null,
   "id": "9c3cad5f-3e20-49a1-8888-382024abd547",
   "metadata": {},
   "outputs": [],
   "source": []
  },
  {
   "cell_type": "markdown",
   "id": "cc68eeb2-7a59-4045-930a-2318cdcb93cf",
   "metadata": {},
   "source": [
    "## <span style=\"color:blue;\">ii. Performing Data Crunching</span>    \n",
    "Let’s perform some basic data crunching operations, such as **calculating*** the **total** and **average score** for **each student**."
   ]
  },
  {
   "cell_type": "markdown",
   "id": "5c646e44-2578-4919-81b7-45bc1ddbaefe",
   "metadata": {},
   "source": [
    "**Example:** Calculating Total and Average for Each Student."
   ]
  },
  {
   "cell_type": "code",
   "execution_count": 25,
   "id": "341c9aad-2d90-4d3c-b5ee-f436879761b2",
   "metadata": {},
   "outputs": [
    {
     "name": "stdout",
     "output_type": "stream",
     "text": [
      "['1', 'Alice', 85, 90, 88]\n",
      "['2', 'Bob', 78, 80, 79]\n",
      "['3', 'Charlie', 92, 89, 94]\n",
      "['4', 'David', 85, 92, 87]\n",
      "['5', 'Eva', 91, 95, 93]\n",
      "\n",
      "\n",
      "['ID', 'Name', 'Maths', 'Science', 'English', 'Total', 'Average']\n",
      "['1', 'Alice', 85, 90, 88, 263, 87.67]\n",
      "['2', 'Bob', 78, 80, 79, 237, 79.0]\n",
      "['3', 'Charlie', 92, 89, 94, 275, 91.67]\n",
      "['4', 'David', 85, 92, 87, 264, 88.0]\n",
      "['5', 'Eva', 91, 95, 93, 279, 93.0]\n"
     ]
    }
   ],
   "source": [
    "import csv\n",
    "\n",
    "# Open the CSV file\n",
    "with open('data.csv', mode='r') as file:\n",
    "    # Create a csv reader object\n",
    "    csv_reader = csv.reader(file)\n",
    "    \n",
    "    # Skip the header\n",
    "    header = next(csv_reader)\n",
    "\n",
    "    # Store the Processed data in a List\n",
    "    processed_data = []\n",
    "        \n",
    "    # Process each row\n",
    "    for row in csv_reader:\n",
    "        # Convert Maths, Science, and English scores to integers\n",
    "        maths = int(row[2])\n",
    "        science = int(row[3])\n",
    "        english = int(row[4])\n",
    "        \n",
    "        # Append the processed row back into the list\n",
    "        processed_data.append([row[0], row[1], maths, science, english])\n",
    "    \n",
    "    # Printing the updated rows after processing\n",
    "    for row in processed_data:\n",
    "        print(row)\n",
    "\n",
    "    # Adding a Line Break\n",
    "    print(\"\\n\")\n",
    "    \n",
    "    # Calculate total and average - Add these Columns to the 'processed_data' object\n",
    "    header.append(\"Total\")\n",
    "    header.append(\"Average\")\n",
    "    for index, row in enumerate(processed_data):\n",
    "        total = row[2] + row[3] + row[4]\n",
    "        average = round(total / 3, 2)\n",
    "\n",
    "        processed_data[index].append(total)\n",
    "        processed_data[index].append(average)\n",
    "\n",
    "    # Printing the updated rows after processing\n",
    "    print(header)\n",
    "    for row in processed_data:\n",
    "        print(row)    "
   ]
  },
  {
   "cell_type": "code",
   "execution_count": null,
   "id": "b46e96bd-400a-45c2-82d0-960d6e42cd12",
   "metadata": {},
   "outputs": [],
   "source": []
  },
  {
   "cell_type": "markdown",
   "id": "5732df94-ced5-4bb9-8227-e0d19d71f905",
   "metadata": {},
   "source": [
    "# <span style=\"color:red;\">Step 5: Additional Data Crunching Operations</span>     \n",
    "Now, let’s implement more data crunching functionalities like:\n",
    "- Finding the highest scorer in each subject.\n",
    "- Finding the overall highest and lowest average scores.\n",
    "- Summing up all scores in a subject (e.g., total of all students' Maths scores)."
   ]
  },
  {
   "cell_type": "markdown",
   "id": "6a4c8b9a-2208-42dc-8542-7788b8c0a234",
   "metadata": {},
   "source": [
    "## <span style=\"color:blue;\">1. Finding the Highest Scorer in Each Subject</span>"
   ]
  },
  {
   "cell_type": "code",
   "execution_count": 26,
   "id": "42520bda-7677-4967-8a35-9557dcd2e631",
   "metadata": {},
   "outputs": [
    {
     "name": "stdout",
     "output_type": "stream",
     "text": [
      "Highest in Maths: Charlie (92)\n",
      "Highest in Science: Eva (95)\n",
      "Highest in English: Charlie (94)\n"
     ]
    }
   ],
   "source": [
    "import csv\n",
    "\n",
    "highest_maths = {\"name\": None, \"score\": 0}\n",
    "highest_science = {\"name\": None, \"score\": 0}\n",
    "highest_english = {\"name\": None, \"score\": 0}\n",
    "\n",
    "# Open the CSV file\n",
    "with open('data.csv', mode='r') as file:\n",
    "    csv_reader = csv.reader(file)\n",
    "    \n",
    "    # Skip the header\n",
    "    next(csv_reader)\n",
    "    \n",
    "    for row in csv_reader:\n",
    "        maths = int(row[2])\n",
    "        science = int(row[3])\n",
    "        english = int(row[4])\n",
    "        \n",
    "        # Check for highest Maths score\n",
    "        if maths > highest_maths[\"score\"]:\n",
    "            highest_maths[\"name\"] = row[1]\n",
    "            highest_maths[\"score\"] = maths\n",
    "            \n",
    "        # Check for highest Science score\n",
    "        if science > highest_science[\"score\"]:\n",
    "            highest_science[\"name\"] = row[1]\n",
    "            highest_science[\"score\"] = science\n",
    "        \n",
    "        # Check for highest English score\n",
    "        if english > highest_english[\"score\"]:\n",
    "            highest_english[\"name\"] = row[1]\n",
    "            highest_english[\"score\"] = english\n",
    "\n",
    "print(f\"Highest in Maths: {highest_maths['name']} ({highest_maths['score']})\")\n",
    "print(f\"Highest in Science: {highest_science['name']} ({highest_science['score']})\")\n",
    "print(f\"Highest in English: {highest_english['name']} ({highest_english['score']})\")"
   ]
  },
  {
   "cell_type": "code",
   "execution_count": null,
   "id": "5bf1e15a-6a01-48e6-b6b2-b60b9aa5e1cb",
   "metadata": {},
   "outputs": [],
   "source": []
  },
  {
   "cell_type": "markdown",
   "id": "5345901d-3686-4f8c-b114-3f966897f4a5",
   "metadata": {},
   "source": [
    "## <span style=\"color:blue;\">2. Finding Overall Highest and Lowest Average Scores</span>"
   ]
  },
  {
   "cell_type": "code",
   "execution_count": 27,
   "id": "f5f05e51-be69-4206-a0db-47c0d15e3523",
   "metadata": {},
   "outputs": [
    {
     "name": "stdout",
     "output_type": "stream",
     "text": [
      "Highest Average: Eva (93.00)\n",
      "Lowest Average: Bob (79.00)\n"
     ]
    }
   ],
   "source": [
    "import csv\n",
    "\n",
    "highest_avg = {\"name\": None, \"average\": 0}\n",
    "lowest_avg = {\"name\": None, \"average\": float('inf')}\n",
    "\n",
    "# Open the CSV file\n",
    "with open('data.csv', mode='r') as file:\n",
    "    csv_reader = csv.reader(file)\n",
    "    \n",
    "    # Skip the header\n",
    "    next(csv_reader)\n",
    "    \n",
    "    for row in csv_reader:\n",
    "        maths = int(row[2])\n",
    "        science = int(row[3])\n",
    "        english = int(row[4])\n",
    "        \n",
    "        total = maths + science + english\n",
    "        average = total / 3\n",
    "        \n",
    "        # Check for highest average\n",
    "        if average > highest_avg[\"average\"]:\n",
    "            highest_avg[\"name\"] = row[1]\n",
    "            highest_avg[\"average\"] = average\n",
    "        \n",
    "        # Check for lowest average\n",
    "        if average < lowest_avg[\"average\"]:\n",
    "            lowest_avg[\"name\"] = row[1]\n",
    "            lowest_avg[\"average\"] = average\n",
    "\n",
    "print(f\"Highest Average: {highest_avg['name']} ({highest_avg['average']:.2f})\")\n",
    "print(f\"Lowest Average: {lowest_avg['name']} ({lowest_avg['average']:.2f})\")"
   ]
  },
  {
   "cell_type": "code",
   "execution_count": null,
   "id": "3a846005-8e75-47aa-9e75-ca7efada7c98",
   "metadata": {},
   "outputs": [],
   "source": []
  },
  {
   "cell_type": "markdown",
   "id": "d354f69b-6c2d-44c1-a720-4ba92c1e9106",
   "metadata": {},
   "source": [
    "## <span style=\"color:red;\">3. Summing All Scores in a Subject</span>"
   ]
  },
  {
   "cell_type": "code",
   "execution_count": 28,
   "id": "d4ec2b07-ae85-4f60-8e7e-de35740c81e7",
   "metadata": {},
   "outputs": [
    {
     "name": "stdout",
     "output_type": "stream",
     "text": [
      "Total Maths Score: 431\n"
     ]
    }
   ],
   "source": [
    "# Let's Sum the overall scores in Math\n",
    "import csv\n",
    "\n",
    "total_maths = 0\n",
    "\n",
    "# Open the CSV file\n",
    "with open('data.csv', mode='r') as file:\n",
    "    csv_reader = csv.reader(file)\n",
    "    \n",
    "    # Skip the header\n",
    "    next(csv_reader)\n",
    "    \n",
    "    for row in csv_reader:\n",
    "        maths = int(row[2])\n",
    "        total_maths += maths\n",
    "\n",
    "print(f\"Total Maths Score: {total_maths}\")\n"
   ]
  },
  {
   "cell_type": "code",
   "execution_count": null,
   "id": "541cd797-8717-4dc3-b550-9ce36b683a71",
   "metadata": {},
   "outputs": [],
   "source": []
  },
  {
   "cell_type": "code",
   "execution_count": null,
   "id": "18a689ba-4e3f-43f5-bbf9-53c0cdf43865",
   "metadata": {},
   "outputs": [],
   "source": []
  },
  {
   "cell_type": "code",
   "execution_count": null,
   "id": "7bcd7fd8-f626-4947-8bb7-53d2f8414022",
   "metadata": {},
   "outputs": [],
   "source": []
  },
  {
   "cell_type": "code",
   "execution_count": null,
   "id": "d5761582-0f8f-42f5-9e28-a4647f08beb2",
   "metadata": {},
   "outputs": [],
   "source": []
  },
  {
   "cell_type": "code",
   "execution_count": 29,
   "id": "1235ac3f-ad26-4846-a893-a2944730abc9",
   "metadata": {
    "scrolled": true
   },
   "outputs": [
    {
     "name": "stdout",
     "output_type": "stream",
     "text": [
      "['ID', 'Name', 'Maths', 'Science', 'English']\n",
      "['1', 'Alice', '85', '90', '88']\n",
      "['2', 'Bob', '78', '80', '79']\n",
      "['3', 'Charlie', '92', '89', '94']\n",
      "['4', 'David', '85', '92', '87']\n",
      "['5', 'Eva', '91', '95', '93']\n"
     ]
    }
   ],
   "source": [
    "import csv\n",
    "\n",
    "# Open the CSV file\n",
    "with open('data.csv', mode='r') as file:\n",
    "    # Create a csv reader object\n",
    "    csv_reader = csv.reader(file, delimiter=\",\")\n",
    "    \n",
    "    # Reading each row in the csv\n",
    "    for row in csv_reader:\n",
    "        print(row)"
   ]
  },
  {
   "cell_type": "code",
   "execution_count": null,
   "id": "4a15f53b-f841-4754-aa3e-fa8ddd6677f8",
   "metadata": {},
   "outputs": [],
   "source": []
  },
  {
   "cell_type": "code",
   "execution_count": null,
   "id": "7ef67440-11a9-4209-a5e9-ef5554ea9834",
   "metadata": {},
   "outputs": [],
   "source": []
  },
  {
   "cell_type": "code",
   "execution_count": null,
   "id": "add73e32-d6e3-4e14-854c-6340f6133579",
   "metadata": {},
   "outputs": [],
   "source": []
  },
  {
   "cell_type": "code",
   "execution_count": null,
   "id": "7f330cd7-e096-4266-9cb5-d8c4db01d204",
   "metadata": {},
   "outputs": [],
   "source": []
  },
  {
   "cell_type": "code",
   "execution_count": null,
   "id": "d99ea4b2-34fb-4713-a0ba-027e95245ea0",
   "metadata": {},
   "outputs": [],
   "source": []
  },
  {
   "cell_type": "code",
   "execution_count": null,
   "id": "12eaf247-443f-409a-aef8-c659b21ae2ec",
   "metadata": {},
   "outputs": [],
   "source": []
  },
  {
   "cell_type": "code",
   "execution_count": null,
   "id": "d83216b7-217b-4b95-979a-95d7a7d1bb55",
   "metadata": {},
   "outputs": [],
   "source": []
  },
  {
   "cell_type": "code",
   "execution_count": null,
   "id": "b2f3ee83-ff67-4ee5-b8ad-ebbd84be0866",
   "metadata": {},
   "outputs": [],
   "source": []
  },
  {
   "cell_type": "code",
   "execution_count": null,
   "id": "ff2caec7-e10c-4958-a848-4edb33db218e",
   "metadata": {},
   "outputs": [],
   "source": []
  },
  {
   "cell_type": "code",
   "execution_count": null,
   "id": "0f377bb8-cfc6-46d1-b1bc-2fdcc95fad27",
   "metadata": {},
   "outputs": [],
   "source": []
  },
  {
   "cell_type": "code",
   "execution_count": null,
   "id": "f77d8f2f-9a32-41f4-b85a-bb70c1a00564",
   "metadata": {},
   "outputs": [],
   "source": []
  },
  {
   "cell_type": "code",
   "execution_count": null,
   "id": "7e41eab3-2f10-46bf-8393-378cd46dbc90",
   "metadata": {},
   "outputs": [],
   "source": []
  },
  {
   "cell_type": "code",
   "execution_count": null,
   "id": "2779cbc2-6f10-43fc-82e7-6cddce67c890",
   "metadata": {},
   "outputs": [],
   "source": []
  },
  {
   "cell_type": "code",
   "execution_count": null,
   "id": "de069b70-fa1b-47e0-9d60-bab47b4b93bd",
   "metadata": {},
   "outputs": [],
   "source": []
  },
  {
   "cell_type": "code",
   "execution_count": null,
   "id": "7f627583-6d62-4c6e-98b0-4bc61a8de922",
   "metadata": {},
   "outputs": [],
   "source": []
  },
  {
   "cell_type": "code",
   "execution_count": null,
   "id": "06d3d1ed-12ab-4b39-ac01-3151034a4348",
   "metadata": {},
   "outputs": [],
   "source": []
  },
  {
   "cell_type": "code",
   "execution_count": null,
   "id": "49d35d57-811d-43e4-9418-cc71bdbe4c39",
   "metadata": {},
   "outputs": [],
   "source": []
  },
  {
   "cell_type": "code",
   "execution_count": null,
   "id": "d97da3fa-d8d4-402d-a565-ea2a173c021f",
   "metadata": {},
   "outputs": [],
   "source": []
  },
  {
   "cell_type": "code",
   "execution_count": null,
   "id": "e5d00e98-6a7a-4ee3-9389-60c62620a4d9",
   "metadata": {},
   "outputs": [],
   "source": []
  },
  {
   "cell_type": "code",
   "execution_count": null,
   "id": "271814e0-e4ae-4139-a608-2269cd8c2716",
   "metadata": {},
   "outputs": [],
   "source": []
  },
  {
   "cell_type": "code",
   "execution_count": null,
   "id": "244dc0b9-1555-4993-b7ac-0a665481d535",
   "metadata": {},
   "outputs": [],
   "source": []
  },
  {
   "cell_type": "code",
   "execution_count": null,
   "id": "641c4b5c-8f0e-4090-99f3-e805c4717b94",
   "metadata": {},
   "outputs": [],
   "source": []
  },
  {
   "cell_type": "code",
   "execution_count": null,
   "id": "e25a46d1-70d9-450c-b5b7-79ea896e33c8",
   "metadata": {},
   "outputs": [],
   "source": []
  },
  {
   "cell_type": "code",
   "execution_count": null,
   "id": "2a2fe991-7651-4020-addf-34b5aebb556f",
   "metadata": {},
   "outputs": [],
   "source": []
  },
  {
   "cell_type": "code",
   "execution_count": null,
   "id": "632985f5-f94c-4d5d-8ec4-33d7e482678d",
   "metadata": {},
   "outputs": [],
   "source": []
  },
  {
   "cell_type": "code",
   "execution_count": null,
   "id": "6bb1a2d6-e9a1-47bd-a77a-27e67b1137cc",
   "metadata": {},
   "outputs": [],
   "source": []
  },
  {
   "cell_type": "code",
   "execution_count": null,
   "id": "2b91f8cc-3b94-49ed-b8da-8fc211e2502d",
   "metadata": {},
   "outputs": [],
   "source": []
  },
  {
   "cell_type": "code",
   "execution_count": null,
   "id": "26107360-0f9c-4b6e-b14e-0857f1b1a530",
   "metadata": {},
   "outputs": [],
   "source": []
  },
  {
   "cell_type": "code",
   "execution_count": null,
   "id": "3431030d-574a-4084-b9e5-b6f97699eb6a",
   "metadata": {},
   "outputs": [],
   "source": []
  },
  {
   "cell_type": "code",
   "execution_count": null,
   "id": "e269dd26-ed55-42d0-8216-6bf709710ad4",
   "metadata": {},
   "outputs": [],
   "source": []
  },
  {
   "cell_type": "code",
   "execution_count": null,
   "id": "ba06a0c8-4cfd-4994-a088-6a45fa8d8be1",
   "metadata": {},
   "outputs": [],
   "source": []
  },
  {
   "cell_type": "code",
   "execution_count": null,
   "id": "91f534b6-e401-4e7c-8507-3ce7d8eb46c7",
   "metadata": {},
   "outputs": [],
   "source": []
  },
  {
   "cell_type": "code",
   "execution_count": null,
   "id": "121ad606-5900-430a-8aae-c2e37c9f5986",
   "metadata": {},
   "outputs": [],
   "source": []
  },
  {
   "cell_type": "code",
   "execution_count": null,
   "id": "52387b2a-be7e-4ff5-b7b4-671b33c30222",
   "metadata": {},
   "outputs": [],
   "source": []
  },
  {
   "cell_type": "code",
   "execution_count": null,
   "id": "51ad62a8-f5dc-4dfc-8945-8fecd945b56e",
   "metadata": {},
   "outputs": [],
   "source": []
  },
  {
   "cell_type": "code",
   "execution_count": null,
   "id": "cb326469-6283-4256-8579-3ee3a2e4a8b8",
   "metadata": {},
   "outputs": [],
   "source": []
  },
  {
   "cell_type": "code",
   "execution_count": null,
   "id": "75825325-41ac-4413-add0-ac69f366f9f5",
   "metadata": {},
   "outputs": [],
   "source": []
  },
  {
   "cell_type": "code",
   "execution_count": null,
   "id": "2e22c333-b6ee-4187-bf71-7aa39a414d72",
   "metadata": {},
   "outputs": [],
   "source": []
  },
  {
   "cell_type": "code",
   "execution_count": null,
   "id": "803e2d8d-fcb7-4e2b-822c-36b2d8b65020",
   "metadata": {},
   "outputs": [],
   "source": []
  },
  {
   "cell_type": "code",
   "execution_count": null,
   "id": "e70d5c51-1b46-4e5e-a8da-fb1364b26649",
   "metadata": {},
   "outputs": [],
   "source": []
  },
  {
   "cell_type": "code",
   "execution_count": null,
   "id": "b4e05771-319f-4252-8d9c-4b00a0963032",
   "metadata": {},
   "outputs": [],
   "source": []
  }
 ],
 "metadata": {
  "kernelspec": {
   "display_name": "Python 3 (ipykernel)",
   "language": "python",
   "name": "python3"
  },
  "language_info": {
   "codemirror_mode": {
    "name": "ipython",
    "version": 3
   },
   "file_extension": ".py",
   "mimetype": "text/x-python",
   "name": "python",
   "nbconvert_exporter": "python",
   "pygments_lexer": "ipython3",
   "version": "3.11.4"
  }
 },
 "nbformat": 4,
 "nbformat_minor": 5
}
