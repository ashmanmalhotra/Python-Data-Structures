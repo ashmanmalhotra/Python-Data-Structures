{
 "cells": [
  {
   "cell_type": "markdown",
   "id": "f404bd07-37c0-49c6-bed1-e56c70e5a258",
   "metadata": {},
   "source": [
    "# <span style=\"color:red\">Working With API</span>"
   ]
  },
  {
   "cell_type": "markdown",
   "id": "68a56f81-dd58-421e-87cf-14c8ffccf092",
   "metadata": {},
   "source": [
    "In order to understand the concept, we will make use of the Public API:      \n",
    "https://jsonplaceholder.typicode.com/"
   ]
  },
  {
   "cell_type": "markdown",
   "id": "9f972ca3-8ade-4839-ab22-8432a856a8d2",
   "metadata": {},
   "source": [
    "## <span style=\"color:blue;\">Making HTTP Requests using requests</span>      \n",
    " - APIs (Application Programming Interfaces) allow ```different applications to communicate with each other```.\n",
    " - Often, APIs are accessed over the internet using HTTP requests.\n",
    " - **Python** provides ```requests library``` to make **API requests**."
   ]
  },
  {
   "cell_type": "markdown",
   "id": "6b8a3fdf-5ae3-4f73-9eec-50c01d98a8a6",
   "metadata": {},
   "source": [
    "**Install requests Module:**     \n",
    "```python\n",
    "    pip install requests\n",
    "```"
   ]
  },
  {
   "cell_type": "markdown",
   "id": "a74f9057-1190-4b34-8e58-0f72a141525f",
   "metadata": {},
   "source": [
    "**Common HTTP Methods:**\n",
    "- **GET:** Used to retrieve data from the server.\n",
    "- **POST:** Used to send data to the server (e.g., uploading data, submitting forms).\n",
    "- **PUT:** Used to update existing data.\n",
    "- **DELETE:** Used to delete data from the server."
   ]
  },
  {
   "cell_type": "markdown",
   "id": "6e603621-032e-497d-8f34-716a8ebfc130",
   "metadata": {},
   "source": [
    "### <span style=\"color:maroon;\">**1. Making a Simple GET Request:**</span>     \n",
    "A GET request is used to **fetch data from an API**."
   ]
  },
  {
   "cell_type": "code",
   "execution_count": 1,
   "id": "28af5769-f887-488f-a21d-516effe02480",
   "metadata": {},
   "outputs": [
    {
     "name": "stdout",
     "output_type": "stream",
     "text": [
      "Success!\n",
      "[\n",
      "  {\n",
      "    \"userId\": 1,\n",
      "    \"id\": 1,\n",
      "    \"title\": \"sunt aut facere repellat provident occaecati excepturi optio reprehenderit\",\n",
      "    \"body\": \"quia et suscipit\\nsuscipit recusandae consequuntur expedita et cum\\nreprehenderit molestiae ut ut quas totam\\nnostrum rerum est autem sunt rem eveniet architecto\"\n",
      "  },\n",
      "  {\n",
      "    \"userId\": 1,\n",
      "    \"id\": 2,\n",
      "    \"title\": \"qui est esse\",\n",
      "    \"body\": \"est rerum tempore vitae\\nsequi sint nihil reprehenderit dolor beatae ea dolores neque\\nfugiat blanditiis voluptate p\n"
     ]
    }
   ],
   "source": [
    "import requests\n",
    "\n",
    "# Example: Fetching data from a public API (JSONPlaceholder)\n",
    "response = requests.get('https://jsonplaceholder.typicode.com/posts')\n",
    "\n",
    "# Check if the request was successful\n",
    "if response.status_code == 200:\n",
    "    print('Success!')\n",
    "    # print(response.text)       # It will pring the complete respnse containing approx 100 posts\n",
    "    print(response.text[:500])   #         It will display 500 characters from the text\n",
    "else:\n",
    "    print(f'Failed with status code: {response.status_code}')"
   ]
  },
  {
   "cell_type": "markdown",
   "id": "c444054a-6f57-453b-9d4b-e073181dc5aa",
   "metadata": {},
   "source": [
    "<br>    \n",
    "\n",
    "<span style=\"color:brown;\">**Key Points:**</span>    \n",
    "- **response.status_code:** HTTP status code. 200 means success.\n",
    "- **response.text:** The raw content of the response in text form.\n",
    "- **response.json():** If the response is in JSON format, you can parse it using .json() to get a Python dictionary (covered in the next section)."
   ]
  },
  {
   "cell_type": "markdown",
   "id": "da6d51ef-3322-496e-9be7-17c0b1dead24",
   "metadata": {},
   "source": [
    "<br>    \n",
    "\n",
    "<span style=\"color:brown;\">**Example: Response Code**</span>       \n",
    "- **200 OK:** The request was successful, and the API returned a valid response.\n",
    "- **400 Bad Request:** The request was invalid or malformed, and the API couldn't process it.\n",
    "- **401 Unauthorized:** The request was unauthorized, and the API requires authentication or a valid token.\n",
    "- **404 Not Found:** The requested resource was not found, and the API returned a 404 error.\n",
    "- **500 Internal Server Error:** The API encountered an internal error and couldn't fulfill the request."
   ]
  },
  {
   "cell_type": "code",
   "execution_count": null,
   "id": "cafece53-8d99-45eb-a8fc-5605d03db197",
   "metadata": {},
   "outputs": [],
   "source": []
  },
  {
   "cell_type": "markdown",
   "id": "569bdffe-1543-4d0a-9ada-aeefca8aba65",
   "metadata": {},
   "source": [
    "#### <span style=\"color:brown;\">**1.2 Converting the JSON Response into the Tabular Data using ```Pandas```**</span>"
   ]
  },
  {
   "cell_type": "code",
   "execution_count": 2,
   "id": "4290e962-e9df-4c7c-8eaf-0c9606f83a23",
   "metadata": {},
   "outputs": [
    {
     "name": "stdout",
     "output_type": "stream",
     "text": [
      "Success!\n",
      "   userId  id                                              title  \\\n",
      "0       1   1  sunt aut facere repellat provident occaecati e...   \n",
      "1       1   2                                       qui est esse   \n",
      "2       1   3  ea molestias quasi exercitationem repellat qui...   \n",
      "3       1   4                               eum et est occaecati   \n",
      "4       1   5                                 nesciunt quas odio   \n",
      "\n",
      "                                                body  \n",
      "0  quia et suscipit\\nsuscipit recusandae consequu...  \n",
      "1  est rerum tempore vitae\\nsequi sint nihil repr...  \n",
      "2  et iusto sed quo iure\\nvoluptatem occaecati om...  \n",
      "3  ullam et saepe reiciendis voluptatem adipisci\\...  \n",
      "4  repudiandae veniam quaerat sunt sed\\nalias aut...  \n"
     ]
    }
   ],
   "source": [
    "import requests\n",
    "import pandas as pd\n",
    "\n",
    "# Fetching data from a public API (JSONPlaceholder)\n",
    "response = requests.get('https://jsonplaceholder.typicode.com/posts')\n",
    "\n",
    "# Check if the request was successful\n",
    "if response.status_code == 200:\n",
    "    print('Success!')\n",
    "    \n",
    "    # Parse the response as JSON\n",
    "    posts_json = response.json()\n",
    "\n",
    "    # Convert the JSON data to a pandas DataFrame\n",
    "    df = pd.DataFrame(posts_json)\n",
    "\n",
    "    # Display the DataFrame\n",
    "    print(df.head())  # Show the first few rows for quick inspection\n",
    "else:\n",
    "    print(f'Failed with status code: {response.status_code}')"
   ]
  },
  {
   "cell_type": "markdown",
   "id": "1b3b2f28-6908-46f5-8e44-d832e8801157",
   "metadata": {},
   "source": [
    "       "
   ]
  },
  {
   "cell_type": "code",
   "execution_count": 13,
   "id": "0c0dd54c-0123-41b2-9e64-713a733c4c56",
   "metadata": {
    "scrolled": true
   },
   "outputs": [
    {
     "data": {
      "text/html": [
       "<div>\n",
       "<style scoped>\n",
       "    .dataframe tbody tr th:only-of-type {\n",
       "        vertical-align: middle;\n",
       "    }\n",
       "\n",
       "    .dataframe tbody tr th {\n",
       "        vertical-align: top;\n",
       "    }\n",
       "\n",
       "    .dataframe thead th {\n",
       "        text-align: right;\n",
       "    }\n",
       "</style>\n",
       "<table border=\"1\" class=\"dataframe\">\n",
       "  <thead>\n",
       "    <tr style=\"text-align: right;\">\n",
       "      <th></th>\n",
       "      <th>userId</th>\n",
       "      <th>id</th>\n",
       "      <th>title</th>\n",
       "      <th>body</th>\n",
       "    </tr>\n",
       "  </thead>\n",
       "  <tbody>\n",
       "    <tr>\n",
       "      <th>0</th>\n",
       "      <td>1</td>\n",
       "      <td>1</td>\n",
       "      <td>sunt aut facere repellat provident occaecati e...</td>\n",
       "      <td>quia et suscipit\\nsuscipit recusandae consequu...</td>\n",
       "    </tr>\n",
       "    <tr>\n",
       "      <th>1</th>\n",
       "      <td>1</td>\n",
       "      <td>2</td>\n",
       "      <td>qui est esse</td>\n",
       "      <td>est rerum tempore vitae\\nsequi sint nihil repr...</td>\n",
       "    </tr>\n",
       "    <tr>\n",
       "      <th>2</th>\n",
       "      <td>1</td>\n",
       "      <td>3</td>\n",
       "      <td>ea molestias quasi exercitationem repellat qui...</td>\n",
       "      <td>et iusto sed quo iure\\nvoluptatem occaecati om...</td>\n",
       "    </tr>\n",
       "    <tr>\n",
       "      <th>3</th>\n",
       "      <td>1</td>\n",
       "      <td>4</td>\n",
       "      <td>eum et est occaecati</td>\n",
       "      <td>ullam et saepe reiciendis voluptatem adipisci\\...</td>\n",
       "    </tr>\n",
       "    <tr>\n",
       "      <th>4</th>\n",
       "      <td>1</td>\n",
       "      <td>5</td>\n",
       "      <td>nesciunt quas odio</td>\n",
       "      <td>repudiandae veniam quaerat sunt sed\\nalias aut...</td>\n",
       "    </tr>\n",
       "  </tbody>\n",
       "</table>\n",
       "</div>"
      ],
      "text/plain": [
       "   userId  id                                              title  \\\n",
       "0       1   1  sunt aut facere repellat provident occaecati e...   \n",
       "1       1   2                                       qui est esse   \n",
       "2       1   3  ea molestias quasi exercitationem repellat qui...   \n",
       "3       1   4                               eum et est occaecati   \n",
       "4       1   5                                 nesciunt quas odio   \n",
       "\n",
       "                                                body  \n",
       "0  quia et suscipit\\nsuscipit recusandae consequu...  \n",
       "1  est rerum tempore vitae\\nsequi sint nihil repr...  \n",
       "2  et iusto sed quo iure\\nvoluptatem occaecati om...  \n",
       "3  ullam et saepe reiciendis voluptatem adipisci\\...  \n",
       "4  repudiandae veniam quaerat sunt sed\\nalias aut...  "
      ]
     },
     "execution_count": 13,
     "metadata": {},
     "output_type": "execute_result"
    }
   ],
   "source": [
    "# For Example: Let's pick first 5 rows\n",
    "df.head()"
   ]
  },
  {
   "cell_type": "code",
   "execution_count": null,
   "id": "2ab4e128-03e8-48ca-b216-11dad0b5de27",
   "metadata": {},
   "outputs": [],
   "source": []
  },
  {
   "cell_type": "markdown",
   "id": "4da596ca-a509-4459-8ebb-0f14bb4ec3ad",
   "metadata": {},
   "source": [
    "#### <span style=\"color:brown;\">**1.3 Converting the JSON Response into the Tabular Data using ```JSON``` and ```tabulate```**</span>"
   ]
  },
  {
   "cell_type": "code",
   "execution_count": 3,
   "id": "93821876-9904-4efe-868c-055328574d0f",
   "metadata": {},
   "outputs": [
    {
     "name": "stdout",
     "output_type": "stream",
     "text": [
      "Success!\n",
      "\n",
      "+----------+------+----------------------------------------------------+---------------------------------------------------+\n",
      "|   userId |   id | title                                              | body                                              |\n",
      "+==========+======+====================================================+===================================================+\n",
      "|        1 |    1 | sunt aut facere repellat provident occaecati excep | quia et suscipit                                  |\n",
      "|          |      |                                                    | suscipit recusandae consequuntur                  |\n",
      "+----------+------+----------------------------------------------------+---------------------------------------------------+\n",
      "|        1 |    2 | qui est esse                                       | est rerum tempore vitae                           |\n",
      "|          |      |                                                    | sequi sint nihil reprehend                        |\n",
      "+----------+------+----------------------------------------------------+---------------------------------------------------+\n",
      "|        1 |    3 | ea molestias quasi exercitationem repellat qui ips | et iusto sed quo iure                             |\n",
      "|          |      |                                                    | voluptatem occaecati omnis e                      |\n",
      "+----------+------+----------------------------------------------------+---------------------------------------------------+\n",
      "|        1 |    4 | eum et est occaecati                               | ullam et saepe reiciendis voluptatem adipisci     |\n",
      "|          |      |                                                    | sit                                               |\n",
      "+----------+------+----------------------------------------------------+---------------------------------------------------+\n",
      "|        1 |    5 | nesciunt quas odio                                 | repudiandae veniam quaerat sunt sed               |\n",
      "|          |      |                                                    | alias aut fugi                                    |\n",
      "+----------+------+----------------------------------------------------+---------------------------------------------------+\n",
      "|        1 |    6 | dolorem eum magni eos aperiam quia                 | ut aspernatur corporis harum nihil quis provident |\n",
      "+----------+------+----------------------------------------------------+---------------------------------------------------+\n",
      "|        1 |    7 | magnam facilis autem                               | dolore placeat quibusdam ea quo vitae             |\n",
      "|          |      |                                                    | magni quis e                                      |\n",
      "+----------+------+----------------------------------------------------+---------------------------------------------------+\n",
      "|        1 |    8 | dolorem dolore est ipsam                           | dignissimos aperiam dolorem qui eum               |\n",
      "|          |      |                                                    | facilis quibus                                    |\n",
      "+----------+------+----------------------------------------------------+---------------------------------------------------+\n",
      "|        1 |    9 | nesciunt iure omnis dolorem tempora et accusantium | consectetur animi nesciunt iure dolore            |\n",
      "|          |      |                                                    | enim quia a                                       |\n",
      "+----------+------+----------------------------------------------------+---------------------------------------------------+\n",
      "|        1 |   10 | optio molestias id quia eum                        | quo et expedita modi cum officia vel magni        |\n",
      "|          |      |                                                    | dolorib                                           |\n",
      "+----------+------+----------------------------------------------------+---------------------------------------------------+\n"
     ]
    }
   ],
   "source": [
    "# In this example, we will truncate the string to 50 characters\n",
    "# Then, we will display the content in tabulate form.\n",
    "\n",
    "import requests\n",
    "import json\n",
    "from tabulate import tabulate\n",
    "\n",
    "# Fetching data from a public API (JSONPlaceholder)\n",
    "response = requests.get('https://jsonplaceholder.typicode.com/posts')\n",
    "\n",
    "# Check if the request was successful\n",
    "if response.status_code == 200:\n",
    "    print('Success!', end=\"\\n\\n\")\n",
    "\n",
    "    # Parse the response as JSON\n",
    "    posts_json = response.json()\n",
    "\n",
    "    # Truncate 'title' and 'body' fields for each post\n",
    "    for index, post in enumerate(posts_json):\n",
    "        posts_json[index]['title'] = post['title'][:50] \n",
    "        posts_json[index]['body']  = post['body'][:50]\n",
    "\n",
    "    # Display the tabulated output with truncated text\n",
    "    # Display first 10 records\n",
    "    print(tabulate(posts_json[:10], headers=\"keys\", tablefmt=\"grid\"))\n",
    "else:\n",
    "    print(f'Failed with status code: {response.status_code}')"
   ]
  },
  {
   "cell_type": "code",
   "execution_count": null,
   "id": "23e8eebc-96fb-4d0b-b1b2-36e3c8f2d907",
   "metadata": {},
   "outputs": [],
   "source": []
  },
  {
   "cell_type": "markdown",
   "id": "c6b67a55-cdac-4c87-8b90-6c271a239e37",
   "metadata": {},
   "source": [
    "<span style=\"color:brown;\">**Improvising the above code with a function:**</span>"
   ]
  },
  {
   "cell_type": "code",
   "execution_count": 5,
   "id": "aab19f86-02be-4cfe-a08a-21e51e6ce447",
   "metadata": {},
   "outputs": [
    {
     "name": "stdout",
     "output_type": "stream",
     "text": [
      "Success!\n",
      "\n",
      "+----------+------+-------------------------------------------------------+-----------------------------------------------+\n",
      "|   userId |   id | title                                                 | body                                          |\n",
      "+==========+======+=======================================================+===============================================+\n",
      "|        1 |    1 | sunt aut facere repellat provident occaecati excep... | quia et suscipit                              |\n",
      "|          |      |                                                       | suscipit recusandae consequuntur ...          |\n",
      "+----------+------+-------------------------------------------------------+-----------------------------------------------+\n",
      "|        1 |    2 | qui est esse                                          | est rerum tempore vitae                       |\n",
      "|          |      |                                                       | sequi sint nihil reprehend...                 |\n",
      "+----------+------+-------------------------------------------------------+-----------------------------------------------+\n",
      "|        1 |    3 | ea molestias quasi exercitationem repellat qui ips... | et iusto sed quo iure                         |\n",
      "|          |      |                                                       | voluptatem occaecati omnis e...               |\n",
      "+----------+------+-------------------------------------------------------+-----------------------------------------------+\n",
      "|        1 |    4 | eum et est occaecati                                  | ullam et saepe reiciendis voluptatem adipisci |\n",
      "|          |      |                                                       | sit ...                                       |\n",
      "+----------+------+-------------------------------------------------------+-----------------------------------------------+\n",
      "|        1 |    5 | nesciunt quas odio                                    | repudiandae veniam quaerat sunt sed           |\n",
      "|          |      |                                                       | alias aut fugi...                             |\n",
      "+----------+------+-------------------------------------------------------+-----------------------------------------------+\n"
     ]
    }
   ],
   "source": [
    "import requests\n",
    "import json\n",
    "from tabulate import tabulate\n",
    "\n",
    "# Function to truncate the 'title' and 'body' to 150 characters\n",
    "def truncate_text(data, field, max_length=50):\n",
    "    return data[field][:max_length] + '...'   if   len(data[field]) > max_length   else   data[field]\n",
    "\n",
    "\n",
    "# Fetching data from a public API (JSONPlaceholder)\n",
    "response = requests.get('https://jsonplaceholder.typicode.com/posts')\n",
    "\n",
    "# Check if the request was successful\n",
    "if response.status_code == 200:\n",
    "    print('Success!', end=\"\\n\\n\")\n",
    "\n",
    "    # Parse the response as JSON\n",
    "    posts_json = response.json()\n",
    "\n",
    "    # Truncate 'title' and 'body' fields for each post\n",
    "    for index, post in enumerate(posts_json):\n",
    "        posts_json[index]['title'] = truncate_text(post, 'title', max_length=50)\n",
    "        posts_json[index]['body']  = truncate_text(post, 'body',  max_length=50)\n",
    "\n",
    "    # Display the tabulated output with truncated text\n",
    "    # Display first 5 records\n",
    "    print(tabulate(posts_json[:5], headers=\"keys\", tablefmt=\"grid\"))\n",
    "\n",
    "else:\n",
    "    print(f'Failed with status code: {response.status_code}')\n"
   ]
  },
  {
   "cell_type": "code",
   "execution_count": null,
   "id": "ad0b37a3-2c97-4870-bc9b-6fe70447d417",
   "metadata": {},
   "outputs": [],
   "source": []
  },
  {
   "cell_type": "markdown",
   "id": "07979d2f-c831-43e4-a3d6-546b9c257c01",
   "metadata": {},
   "source": [
    "### <span style=\"color:brown;\">**1.4 Using ```json module``` and manual parsing:**</span>"
   ]
  },
  {
   "cell_type": "code",
   "execution_count": 13,
   "id": "fdf6edeb-3065-4e29-a5ec-0ee1b3243748",
   "metadata": {
    "scrolled": true
   },
   "outputs": [
    {
     "name": "stdout",
     "output_type": "stream",
     "text": [
      "Success!\n",
      "---------------------------------------------------------------------------------------------------------\n",
      "ID    UserID  Title                               Body                                              \n",
      "---------------------------------------------------------------------------------------------------------\n",
      "1     1       sunt aut facere repellat provi      'quia et suscipit\\nsuscipit recusandae consequuntur '\n",
      "2     1       qui est esse                        'est rerum tempore vitae\\nsequi sint nihil reprehend'\n",
      "3     1       ea molestias quasi exercitatio      'et iusto sed quo iure\\nvoluptatem occaecati omnis e'\n",
      "4     1       eum et est occaecati                'ullam et saepe reiciendis voluptatem adipisci\\nsit '\n",
      "5     1       nesciunt quas odio                  'repudiandae veniam quaerat sunt sed\\nalias aut fugi'\n",
      "---------------------------------------------------------------------------------------------------------\n"
     ]
    }
   ],
   "source": [
    "import requests\n",
    "import json\n",
    "\n",
    "# Fetching data from a public API (JSONPlaceholder)\n",
    "response = requests.get('https://jsonplaceholder.typicode.com/posts')\n",
    "\n",
    "# Check if the request was successful\n",
    "if response.status_code == 200:\n",
    "    print('Success!')\n",
    "    \n",
    "    # Parse the response as JSON text\n",
    "    posts_json = json.loads(response.text)\n",
    "\n",
    "    # Manually parse and display as a table\n",
    "    # Print the headers\n",
    "    print('-' * 105)\n",
    "    print(f\"{'ID':<5} {'UserID':<7} {'Title':<35} {'Body':<50}\")\n",
    "    print('-' * 105)\n",
    "\n",
    "    # Print each post as a row\n",
    "    # Parse First 5 Posts\n",
    "    for post in posts_json[:5]:\n",
    "        print(f\"{post['id']:<5} {post['userId']:<7} {post['title'][:30]:<35} {repr(post['body'][:50]):<50}\")  # Trimming body for display\n",
    "    print('-' * 105)\n",
    "else:\n",
    "    print(f'Failed with status code: {response.status_code}')\n"
   ]
  },
  {
   "cell_type": "markdown",
   "id": "3a2e5200-925d-438a-9c68-c5d9a2043472",
   "metadata": {},
   "source": [
    "        "
   ]
  },
  {
   "cell_type": "markdown",
   "id": "b8df259d-b3fa-44e8-9a30-243f7ef4c32b",
   "metadata": {},
   "source": [
    "### <span style=\"color:maroon;\">**2. Making a POST Request:**</span>     \n",
    "POST requests is used to **send data to an API**, **such as submitting a form** or **uploading a file**."
   ]
  },
  {
   "cell_type": "code",
   "execution_count": 5,
   "id": "f7a3060e-428b-4841-9015-8b5489db2850",
   "metadata": {},
   "outputs": [
    {
     "name": "stdout",
     "output_type": "stream",
     "text": [
      "Post successful!\n",
      "Response: {'title': 'foo', 'body': 'bar', 'userId': 1, 'id': 101}\n"
     ]
    }
   ],
   "source": [
    "import requests\n",
    "\n",
    "# Data to be sent in the POST request\n",
    "data = {\n",
    "    'title': 'foo',\n",
    "    'body': 'bar',\n",
    "    'userId': 1\n",
    "}\n",
    "\n",
    "# Making the POST request\n",
    "response = requests.post('https://jsonplaceholder.typicode.com/posts', json=data)\n",
    "\n",
    "if response.status_code == 201:  # Status code 201 means the resource was created\n",
    "    print('Post successful!')\n",
    "    print('Response:', response.json())  # Show the response from the server\n",
    "else:\n",
    "    print(f'Failed with status code: {response.status_code}')"
   ]
  },
  {
   "cell_type": "code",
   "execution_count": null,
   "id": "dbe5cf89-b550-4d9a-b29b-936e89ef2ee3",
   "metadata": {},
   "outputs": [],
   "source": []
  },
  {
   "cell_type": "markdown",
   "id": "0ec02b3d-b3af-47c5-9f8f-0bd20219e63d",
   "metadata": {},
   "source": [
    "### <span style=\"color:maroon;\">**3. Making a PUT Request:**</span>      \n",
    "**Update a record (PUT):**   \n",
    "**Endpoint:** https://jsonplaceholder.typicode.com/posts/{id}\n",
    "\n",
    "POST requests is used to **send data to an API**, **such as submitting a form** or **uploading a file**."
   ]
  },
  {
   "cell_type": "code",
   "execution_count": 15,
   "id": "1a50ae8d-6f24-49c0-ad80-fa918e96a97f",
   "metadata": {},
   "outputs": [],
   "source": [
    "# Example: Updating a Record\n",
    "# We will use a PUT request to update the title and body of a post with id=1."
   ]
  },
  {
   "cell_type": "code",
   "execution_count": 16,
   "id": "d7670b3d-3cee-4243-a6de-3c7d65e6a96f",
   "metadata": {},
   "outputs": [
    {
     "name": "stdout",
     "output_type": "stream",
     "text": [
      "Post updated successfully!\n",
      "Updated Data: {\n",
      "    \"id\": 1,\n",
      "    \"title\": \"Updated Title\",\n",
      "    \"body\": \"This is the updated body of the post.\",\n",
      "    \"userId\": 1\n",
      "}\n"
     ]
    }
   ],
   "source": [
    "import requests\n",
    "import json\n",
    "\n",
    "# URL to update a specific post (post with id=1)\n",
    "url = \"https://jsonplaceholder.typicode.com/posts/1\"\n",
    "\n",
    "# Data we want to update\n",
    "updated_data = {\n",
    "    \"id\": 1,                                           # ID of the post to update\n",
    "    \"title\": \"Updated Title\",                          # Updated title\n",
    "    \"body\": \"This is the updated body of the post.\",   # Updated body\n",
    "    \"userId\": 1                                        # User ID remains unchanged\n",
    "}\n",
    "\n",
    "# Making the PUT request to update the post\n",
    "response = requests.put(url, json=updated_data)\n",
    "\n",
    "# Check if the update was successful\n",
    "if response.status_code == 200:\n",
    "    print(\"Post updated successfully!\")\n",
    "    print(\"Updated Data:\", json.dumps(response.json(), indent=4))\n",
    "else:\n",
    "    print(f\"Failed to update the post with status code: {response.status_code}\")"
   ]
  },
  {
   "cell_type": "code",
   "execution_count": null,
   "id": "0076842b-c2b7-48bd-b091-754999acdae4",
   "metadata": {},
   "outputs": [],
   "source": []
  },
  {
   "cell_type": "code",
   "execution_count": null,
   "id": "0616fc40-8bb7-466c-935b-d0ccab82c000",
   "metadata": {},
   "outputs": [],
   "source": []
  },
  {
   "cell_type": "markdown",
   "id": "ea50d7e2-fc70-469d-9cb6-0baa0cabe4bf",
   "metadata": {},
   "source": [
    "### <span style=\"color:maroon;\">**4. Making a DELETE Request:**</span>      \n",
    "**Delete a record (DELETE):**   \n",
    "**Endpoint:** https://jsonplaceholder.typicode.com/posts/{id}\n",
    "\n",
    "We will delete the post with **id=1** using a **DELETE request**."
   ]
  },
  {
   "cell_type": "code",
   "execution_count": 17,
   "id": "dad335b6-cc7c-4071-aab9-8676badea4d8",
   "metadata": {},
   "outputs": [
    {
     "name": "stdout",
     "output_type": "stream",
     "text": [
      "Post deleted successfully!\n"
     ]
    }
   ],
   "source": [
    "import requests\n",
    "\n",
    "# URL to delete a specific post (post with id=1)\n",
    "url = \"https://jsonplaceholder.typicode.com/posts/1\"\n",
    "\n",
    "# Making the DELETE request to remove the post\n",
    "response = requests.delete(url)\n",
    "\n",
    "# Check if the deletion was successful\n",
    "if response.status_code == 200:\n",
    "    print(\"Post deleted successfully!\")\n",
    "else:\n",
    "    print(f\"Failed to delete the post with status code: {response.status_code}\")"
   ]
  },
  {
   "cell_type": "code",
   "execution_count": null,
   "id": "72b0034c-0f03-4368-a6c2-81beb3f19312",
   "metadata": {},
   "outputs": [],
   "source": []
  },
  {
   "cell_type": "markdown",
   "id": "da90581a-8a3f-413f-acb1-1ee6f1ccb81e",
   "metadata": {},
   "source": [
    "### <span style=\"color:maroon;\"> **5. Other Example for Practicing** </span>"
   ]
  },
  {
   "cell_type": "markdown",
   "id": "e1724f90-6142-4ece-b0a8-fe8a28f11ed6",
   "metadata": {},
   "source": [
    "**API Website:** https://dog.ceo/     \n",
    "```\n",
    "    Documentation: https://dog.ceo/dog-api/documentation/\n",
    "            List All Breeds  :   https://dog.ceo/api/breeds/list/all\n",
    "            Fetch Randm Image:   https://dog.ceo/api/breeds/image/random \n",
    "            Fetch Random Image:  https://dog.ceo/api/breed/hound/images          [Returns an Array of Images]\n",
    "                                 https://dog.ceo/api/breed/hound/images/random   [Returns 1 Image]\n",
    "            List All Sub Breeds: https://dog.ceo/api/breed/hound/list\n",
    "                                 [Return a Single Breed Image from a Sub Breed Collection]\n",
    "                                 https://dog.ceo/api/breed/hound/afghan/images/random \n",
    "```"
   ]
  },
  {
   "cell_type": "code",
   "execution_count": null,
   "id": "a0c580bf-3008-4be9-ae90-43c7f64a2856",
   "metadata": {},
   "outputs": [],
   "source": []
  },
  {
   "cell_type": "markdown",
   "id": "43ef0bda-1052-4efd-83e3-bbb898dd0739",
   "metadata": {},
   "source": [
    "**Install a Package:**"
   ]
  },
  {
   "cell_type": "markdown",
   "id": "b8907b86-6e5a-407f-b04b-64058fa91099",
   "metadata": {},
   "source": [
    "```python\n",
    "pip install IPython\n",
    "```"
   ]
  },
  {
   "cell_type": "code",
   "execution_count": null,
   "id": "2e52c61a-0a54-4360-b504-21c784aac6fe",
   "metadata": {},
   "outputs": [],
   "source": []
  },
  {
   "cell_type": "markdown",
   "id": "ff2e33f0-8f2a-4708-9435-7c1aae6d510e",
   "metadata": {},
   "source": [
    "### <span style=\"color:maroon;\"> **6. Loading Random Image of a dog** </span>"
   ]
  },
  {
   "cell_type": "code",
   "execution_count": 18,
   "id": "311ac91f-912e-40a8-8424-81096aa9dcbc",
   "metadata": {},
   "outputs": [
    {
     "name": "stdout",
     "output_type": "stream",
     "text": [
      "Image Url:  https://images.dog.ceo/breeds/kelpie/n02105412_4140.jpg\n"
     ]
    }
   ],
   "source": [
    "import requests\n",
    "from IPython.display import Image, display\n",
    "\n",
    "# Fetch a random image from the Dog CEO API\n",
    "url = 'https://dog.ceo/api/breeds/image/random'\n",
    "response = requests.get(url)\n",
    "\n",
    "# Check if the request was successful\n",
    "if response.status_code == 200:\n",
    "    data = response.json()\n",
    "    # Extract the image URL\n",
    "    image_url = data['message']\n",
    "    print(\"Image Url: \", image_url)\n",
    "else:\n",
    "    print('Failed to load the image.')"
   ]
  },
  {
   "cell_type": "code",
   "execution_count": null,
   "id": "1ecf81ca-3fce-4698-bb78-1ecb2231d325",
   "metadata": {},
   "outputs": [],
   "source": []
  },
  {
   "cell_type": "markdown",
   "id": "d2863af8-33a1-4901-a9ba-145ab066940a",
   "metadata": {},
   "source": [
    "### <span style=\"color:maroon;\"> **7. Example: Load a Random Image using API & Display on Jupyter Notebook** </span>"
   ]
  },
  {
   "cell_type": "code",
   "execution_count": 25,
   "id": "9b607eff-4e0e-40b4-be7e-5cd749ec0085",
   "metadata": {},
   "outputs": [
    {
     "name": "stdout",
     "output_type": "stream",
     "text": [
      "Here is a random dog image:\n"
     ]
    },
    {
     "data": {
      "text/html": [
       "<img src=\"https://images.dog.ceo/breeds/terrier-fox/n02095314_1268.jpg\" width=\"300\" height=\"300\"/>"
      ],
      "text/plain": [
       "<IPython.core.display.Image object>"
      ]
     },
     "metadata": {},
     "output_type": "display_data"
    }
   ],
   "source": [
    "import requests\n",
    "from IPython.display import Image, display\n",
    "\n",
    "# Fetch a random image from the Dog CEO API\n",
    "url = 'https://dog.ceo/api/breeds/image/random'\n",
    "response = requests.get(url)\n",
    "\n",
    "# Check if the request was successful\n",
    "if response.status_code == 200:\n",
    "    data = response.json()\n",
    "    # Extract the image URL\n",
    "    image_url = data['message']\n",
    "    \n",
    "    # Display the image\n",
    "    print(\"Here is a random dog image:\")\n",
    "    display(Image(url=image_url, width=300, height=300))  # Adjust width and height as needed\n",
    "else:\n",
    "    print('Failed to load the image.')"
   ]
  },
  {
   "cell_type": "markdown",
   "id": "30da869b-e2df-4c2d-bce9-6f42112e17e8",
   "metadata": {},
   "source": [
    "**Important:**    \n",
    "In order to understand above functionality, we will have to install following library:     \n",
    "```pip install requests pandas IPython```"
   ]
  },
  {
   "cell_type": "code",
   "execution_count": null,
   "id": "424f2815-b9b9-450a-bc9b-67a1c5eb1c75",
   "metadata": {},
   "outputs": [],
   "source": []
  },
  {
   "cell_type": "markdown",
   "id": "2310d07b-bb9d-4df7-aa84-3bb10b7d2f0a",
   "metadata": {},
   "source": [
    "### <span style=\"color:maroon;\"> **8. Load 10 Breeds and random image URL of these breeds.** </span>"
   ]
  },
  {
   "cell_type": "code",
   "execution_count": 20,
   "id": "9ac369a8-41a4-4c05-bece-130112208a6a",
   "metadata": {},
   "outputs": [
    {
     "name": "stdout",
     "output_type": "stream",
     "text": [
      "Breed: affenpinscher\n",
      "URL: https://images.dog.ceo/breeds/affenpinscher/n02110627_12556.jpg\n",
      "\n",
      "Breed: african\n",
      "URL: https://images.dog.ceo/breeds/african/n02116738_8095.jpg\n",
      "\n",
      "Breed: airedale\n",
      "URL: https://images.dog.ceo/breeds/airedale/n02096051_1799.jpg\n",
      "\n",
      "Breed: akita\n",
      "URL: https://images.dog.ceo/breeds/akita/Japaneseakita.jpg\n",
      "\n",
      "Breed: appenzeller\n",
      "URL: https://images.dog.ceo/breeds/appenzeller/n02107908_3991.jpg\n",
      "\n",
      "Breed: australian\n",
      "URL: https://images.dog.ceo/breeds/australian-kelpie/IMG_3675.jpg\n",
      "\n",
      "Breed: bakharwal\n",
      "URL: https://images.dog.ceo/breeds/bakharwal-indian/Bakharwal.jpg\n",
      "\n",
      "Breed: basenji\n",
      "URL: https://images.dog.ceo/breeds/basenji/n02110806_4142.jpg\n",
      "\n",
      "Breed: beagle\n",
      "URL: https://images.dog.ceo/breeds/beagle/n02088364_10731.jpg\n",
      "\n",
      "Breed: bluetick\n",
      "URL: https://images.dog.ceo/breeds/bluetick/n02088632_4188.jpg\n",
      "\n"
     ]
    }
   ],
   "source": [
    "import requests\n",
    "from IPython.display import Image, display\n",
    "\n",
    "# Fetch the list of all breeds from the Dog CEO API\n",
    "breed_url = 'https://dog.ceo/api/breeds/list/all'\n",
    "response = requests.get(breed_url)\n",
    "\n",
    "if response.status_code == 200:\n",
    "    data = response.json()\n",
    "    breeds = list(data['message'].keys())  # Extract breed names\n",
    "    \n",
    "    # Fetch and display 10 random images from different breeds\n",
    "    for breed in breeds[:10]:  # Limiting to 10 breeds for simplicity\n",
    "        image_url = f'https://dog.ceo/api/breed/{breed}/images/random'\n",
    "        image_response = requests.get(image_url)\n",
    "        image_data = image_response.json()\n",
    "        \n",
    "        # Display breed name and the image URL\n",
    "        print(f\"Breed: {breed}\")\n",
    "        print(f\"URL: {image_data['message']}\", end=\"\\n\\n\")\n",
    "else:\n",
    "    print('Failed to load the breed list.')"
   ]
  },
  {
   "cell_type": "code",
   "execution_count": null,
   "id": "f2f8b2e6-5947-4816-a492-73f92bc2489d",
   "metadata": {},
   "outputs": [],
   "source": []
  },
  {
   "cell_type": "markdown",
   "id": "c0b4beee-9f30-45a4-93cf-c03bd2e2ab8a",
   "metadata": {},
   "source": [
    "### <span style=\"color:maroon;\"> **9. Load 10 Breeds and random images of these breeds on Jupyter Notebook.** </span>"
   ]
  },
  {
   "cell_type": "code",
   "execution_count": 21,
   "id": "6e4e9e36-2f84-4562-9090-ad67d40ab149",
   "metadata": {},
   "outputs": [
    {
     "name": "stdout",
     "output_type": "stream",
     "text": [
      "Breed: affenpinscher\n"
     ]
    },
    {
     "data": {
      "text/html": [
       "<img src=\"https://images.dog.ceo/breeds/affenpinscher/n02110627_3409.jpg\" width=\"100\" height=\"100\"/>"
      ],
      "text/plain": [
       "<IPython.core.display.Image object>"
      ]
     },
     "metadata": {},
     "output_type": "display_data"
    },
    {
     "name": "stdout",
     "output_type": "stream",
     "text": [
      "\n",
      "Breed: african\n"
     ]
    },
    {
     "data": {
      "text/html": [
       "<img src=\"https://images.dog.ceo/breeds/african/n02116738_684.jpg\" width=\"100\" height=\"100\"/>"
      ],
      "text/plain": [
       "<IPython.core.display.Image object>"
      ]
     },
     "metadata": {},
     "output_type": "display_data"
    },
    {
     "name": "stdout",
     "output_type": "stream",
     "text": [
      "\n",
      "Breed: airedale\n"
     ]
    },
    {
     "data": {
      "text/html": [
       "<img src=\"https://images.dog.ceo/breeds/airedale/n02096051_93.jpg\" width=\"100\" height=\"100\"/>"
      ],
      "text/plain": [
       "<IPython.core.display.Image object>"
      ]
     },
     "metadata": {},
     "output_type": "display_data"
    },
    {
     "name": "stdout",
     "output_type": "stream",
     "text": [
      "\n",
      "Breed: akita\n"
     ]
    },
    {
     "data": {
      "text/html": [
       "<img src=\"https://images.dog.ceo/breeds/akita/512px-Akita_inu.jpg\" width=\"100\" height=\"100\"/>"
      ],
      "text/plain": [
       "<IPython.core.display.Image object>"
      ]
     },
     "metadata": {},
     "output_type": "display_data"
    },
    {
     "name": "stdout",
     "output_type": "stream",
     "text": [
      "\n",
      "Breed: appenzeller\n"
     ]
    },
    {
     "data": {
      "text/html": [
       "<img src=\"https://images.dog.ceo/breeds/appenzeller/n02107908_2357.jpg\" width=\"100\" height=\"100\"/>"
      ],
      "text/plain": [
       "<IPython.core.display.Image object>"
      ]
     },
     "metadata": {},
     "output_type": "display_data"
    },
    {
     "name": "stdout",
     "output_type": "stream",
     "text": [
      "\n",
      "Breed: australian\n"
     ]
    },
    {
     "data": {
      "text/html": [
       "<img src=\"https://images.dog.ceo/breeds/australian-kelpie/IMG_3675.jpg\" width=\"100\" height=\"100\"/>"
      ],
      "text/plain": [
       "<IPython.core.display.Image object>"
      ]
     },
     "metadata": {},
     "output_type": "display_data"
    },
    {
     "name": "stdout",
     "output_type": "stream",
     "text": [
      "\n",
      "Breed: bakharwal\n"
     ]
    },
    {
     "data": {
      "text/html": [
       "<img src=\"https://images.dog.ceo/breeds/bakharwal-indian/Bakharwal.jpg\" width=\"100\" height=\"100\"/>"
      ],
      "text/plain": [
       "<IPython.core.display.Image object>"
      ]
     },
     "metadata": {},
     "output_type": "display_data"
    },
    {
     "name": "stdout",
     "output_type": "stream",
     "text": [
      "\n",
      "Breed: basenji\n"
     ]
    },
    {
     "data": {
      "text/html": [
       "<img src=\"https://images.dog.ceo/breeds/basenji/n02110806_3971.jpg\" width=\"100\" height=\"100\"/>"
      ],
      "text/plain": [
       "<IPython.core.display.Image object>"
      ]
     },
     "metadata": {},
     "output_type": "display_data"
    },
    {
     "name": "stdout",
     "output_type": "stream",
     "text": [
      "\n",
      "Breed: beagle\n"
     ]
    },
    {
     "data": {
      "text/html": [
       "<img src=\"https://images.dog.ceo/breeds/beagle/n02088364_7247.jpg\" width=\"100\" height=\"100\"/>"
      ],
      "text/plain": [
       "<IPython.core.display.Image object>"
      ]
     },
     "metadata": {},
     "output_type": "display_data"
    },
    {
     "name": "stdout",
     "output_type": "stream",
     "text": [
      "\n",
      "Breed: bluetick\n"
     ]
    },
    {
     "data": {
      "text/html": [
       "<img src=\"https://images.dog.ceo/breeds/bluetick/n02088632_255.jpg\" width=\"100\" height=\"100\"/>"
      ],
      "text/plain": [
       "<IPython.core.display.Image object>"
      ]
     },
     "metadata": {},
     "output_type": "display_data"
    },
    {
     "name": "stdout",
     "output_type": "stream",
     "text": [
      "\n"
     ]
    }
   ],
   "source": [
    "import requests\n",
    "from IPython.display import Image, display\n",
    "\n",
    "# Fetch the list of all breeds from the Dog CEO API\n",
    "breed_url = 'https://dog.ceo/api/breeds/list/all'\n",
    "response = requests.get(breed_url)\n",
    "\n",
    "if response.status_code == 200:\n",
    "    data = response.json()\n",
    "    breeds = list(data['message'].keys())  # Extract breed names\n",
    "    \n",
    "    # Fetch and display 10 random images from different breeds\n",
    "    for breed in breeds[:10]:  # Limiting to 10 breeds for simplicity\n",
    "        image_url = f'https://dog.ceo/api/breed/{breed}/images/random'\n",
    "        image_response = requests.get(image_url)\n",
    "        image_data = image_response.json()\n",
    "        \n",
    "        # Display breed name and the image\n",
    "        print(f\"Breed: {breed}\")\n",
    "        display(Image(url=image_data['message'], width=100, height=100))  # Display the image\n",
    "        print()\n",
    "else:\n",
    "    print('Failed to load the breed list.')"
   ]
  },
  {
   "cell_type": "code",
   "execution_count": null,
   "id": "b12220ab-f5cc-4dcf-9a25-365300a933da",
   "metadata": {},
   "outputs": [],
   "source": []
  },
  {
   "cell_type": "code",
   "execution_count": null,
   "id": "901fb6f7-a1ed-4b4a-bec1-eedf3dc5d01a",
   "metadata": {},
   "outputs": [],
   "source": []
  },
  {
   "cell_type": "markdown",
   "id": "c69c023c-ac0a-4800-bd4b-01d633c9f1c2",
   "metadata": {},
   "source": [
    "# Additional Content      \n",
    "Handling Query Parameters in Requests:     \n",
    "Many APIs require query parameters to refine or filter the data you’re requesting. For example, a weather API might require a city name."
   ]
  },
  {
   "cell_type": "code",
   "execution_count": 22,
   "id": "55592a15-cc58-4f28-853b-1ea42ede4086",
   "metadata": {},
   "outputs": [
    {
     "name": "stdout",
     "output_type": "stream",
     "text": [
      "Error fetching weather data.\n"
     ]
    }
   ],
   "source": [
    "import requests\n",
    "\n",
    "# Adding query parameters to the URL\n",
    "params = {\n",
    "    'q': 'London',\n",
    "    'appid': 'your_api_key_here'  # Replace with your actual API key\n",
    "}\n",
    "\n",
    "response = requests.get('https://api.openweathermap.org/data/2.5/weather', params=params)\n",
    "\n",
    "if response.status_code == 200:\n",
    "    print(response.json())  # Parse and display the JSON data\n",
    "else:\n",
    "    print('Error fetching weather data.')"
   ]
  },
  {
   "cell_type": "markdown",
   "id": "1f2c74fe-72f0-4914-ab22-14cd5dfeddc1",
   "metadata": {},
   "source": [
    "      "
   ]
  },
  {
   "cell_type": "markdown",
   "id": "b87ce13c-69cd-4134-9cc1-a7186cf4a6e2",
   "metadata": {},
   "source": [
    "      "
   ]
  },
  {
   "cell_type": "markdown",
   "id": "472ad48f-6a66-402c-b35a-2f252b63de60",
   "metadata": {},
   "source": [
    "**Interactive Example:**     \n",
    "```\n",
    "You can ask your students to try using query parameters for different APIs.\n",
    "Provide an example where students must search for specific information (like weather data for their city).\n",
    "```"
   ]
  },
  {
   "cell_type": "markdown",
   "id": "b2219d0c-2c13-4029-815b-6147ab2a9156",
   "metadata": {},
   "source": [
    "# Parsing XML Data    \n",
    "```\n",
    "While JSON is common, some APIs may return data in XML format. \n",
    "For parsing XML in Python, you can use the xml.etree.ElementTree module.\n",
    "```"
   ]
  },
  {
   "cell_type": "code",
   "execution_count": 23,
   "id": "20922a10-15d8-4433-93a8-1f72b427d5f8",
   "metadata": {},
   "outputs": [
    {
     "name": "stdout",
     "output_type": "stream",
     "text": [
      "To: Tove, From: Jani, Heading: Reminder, Body: Don't forget me this weekend!\n"
     ]
    }
   ],
   "source": [
    "import requests\n",
    "import xml.etree.ElementTree as ET\n",
    "\n",
    "# Fetching XML data from a sample API\n",
    "response = requests.get('https://www.w3schools.com/xml/note.xml')\n",
    "\n",
    "# Parse the XML content\n",
    "root = ET.fromstring(response.content)\n",
    "\n",
    "# Extracting data from the XML\n",
    "to = root.find('to').text\n",
    "from_ = root.find('from').text\n",
    "heading = root.find('heading').text\n",
    "body = root.find('body').text\n",
    "\n",
    "print(f\"To: {to}, From: {from_}, Heading: {heading}, Body: {body}\")"
   ]
  },
  {
   "cell_type": "code",
   "execution_count": null,
   "id": "250ca878-03fd-4173-9072-f38c9e8e790b",
   "metadata": {},
   "outputs": [],
   "source": []
  },
  {
   "cell_type": "code",
   "execution_count": null,
   "id": "15496fa8-829d-46da-8080-e70c08ec917c",
   "metadata": {},
   "outputs": [],
   "source": []
  },
  {
   "cell_type": "code",
   "execution_count": 24,
   "id": "d6b444cd-16ab-490e-b755-6411166820c7",
   "metadata": {},
   "outputs": [
    {
     "name": "stdout",
     "output_type": "stream",
     "text": [
      "Breed: affenpinscher\n"
     ]
    },
    {
     "data": {
      "text/html": [
       "<img src=\"https://images.dog.ceo/breeds/affenpinscher/n02110627_9634.jpg\" width=\"150\" height=\"150\"/>"
      ],
      "text/plain": [
       "<IPython.core.display.Image object>"
      ]
     },
     "metadata": {},
     "output_type": "display_data"
    },
    {
     "name": "stdout",
     "output_type": "stream",
     "text": [
      "Breed: african\n"
     ]
    },
    {
     "data": {
      "text/html": [
       "<img src=\"https://images.dog.ceo/breeds/african/n02116738_9829.jpg\" width=\"150\" height=\"150\"/>"
      ],
      "text/plain": [
       "<IPython.core.display.Image object>"
      ]
     },
     "metadata": {},
     "output_type": "display_data"
    },
    {
     "name": "stdout",
     "output_type": "stream",
     "text": [
      "Breed: airedale\n"
     ]
    },
    {
     "data": {
      "text/html": [
       "<img src=\"https://images.dog.ceo/breeds/airedale/n02096051_6657.jpg\" width=\"150\" height=\"150\"/>"
      ],
      "text/plain": [
       "<IPython.core.display.Image object>"
      ]
     },
     "metadata": {},
     "output_type": "display_data"
    },
    {
     "name": "stdout",
     "output_type": "stream",
     "text": [
      "Breed: akita\n"
     ]
    },
    {
     "data": {
      "text/html": [
       "<img src=\"https://images.dog.ceo/breeds/akita/Akita_Inu_dog.jpg\" width=\"150\" height=\"150\"/>"
      ],
      "text/plain": [
       "<IPython.core.display.Image object>"
      ]
     },
     "metadata": {},
     "output_type": "display_data"
    },
    {
     "name": "stdout",
     "output_type": "stream",
     "text": [
      "Breed: appenzeller\n"
     ]
    },
    {
     "data": {
      "text/html": [
       "<img src=\"https://images.dog.ceo/breeds/appenzeller/n02107908_4296.jpg\" width=\"150\" height=\"150\"/>"
      ],
      "text/plain": [
       "<IPython.core.display.Image object>"
      ]
     },
     "metadata": {},
     "output_type": "display_data"
    },
    {
     "name": "stdout",
     "output_type": "stream",
     "text": [
      "Breed: australian\n"
     ]
    },
    {
     "data": {
      "text/html": [
       "<img src=\"https://images.dog.ceo/breeds/australian-kelpie/IMG_3675.jpg\" width=\"150\" height=\"150\"/>"
      ],
      "text/plain": [
       "<IPython.core.display.Image object>"
      ]
     },
     "metadata": {},
     "output_type": "display_data"
    },
    {
     "name": "stdout",
     "output_type": "stream",
     "text": [
      "Breed: bakharwal\n"
     ]
    },
    {
     "data": {
      "text/html": [
       "<img src=\"https://images.dog.ceo/breeds/bakharwal-indian/Bakharwal.jpg\" width=\"150\" height=\"150\"/>"
      ],
      "text/plain": [
       "<IPython.core.display.Image object>"
      ]
     },
     "metadata": {},
     "output_type": "display_data"
    },
    {
     "name": "stdout",
     "output_type": "stream",
     "text": [
      "Breed: basenji\n"
     ]
    },
    {
     "data": {
      "text/html": [
       "<img src=\"https://images.dog.ceo/breeds/basenji/n02110806_1826.jpg\" width=\"150\" height=\"150\"/>"
      ],
      "text/plain": [
       "<IPython.core.display.Image object>"
      ]
     },
     "metadata": {},
     "output_type": "display_data"
    },
    {
     "name": "stdout",
     "output_type": "stream",
     "text": [
      "Breed: beagle\n"
     ]
    },
    {
     "data": {
      "text/html": [
       "<img src=\"https://images.dog.ceo/breeds/beagle/n02088364_12178.jpg\" width=\"150\" height=\"150\"/>"
      ],
      "text/plain": [
       "<IPython.core.display.Image object>"
      ]
     },
     "metadata": {},
     "output_type": "display_data"
    },
    {
     "name": "stdout",
     "output_type": "stream",
     "text": [
      "Breed: bluetick\n"
     ]
    },
    {
     "data": {
      "text/html": [
       "<img src=\"https://images.dog.ceo/breeds/bluetick/n02088632_1145.jpg\" width=\"150\" height=\"150\"/>"
      ],
      "text/plain": [
       "<IPython.core.display.Image object>"
      ]
     },
     "metadata": {},
     "output_type": "display_data"
    }
   ],
   "source": [
    "import requests\n",
    "import pandas as pd\n",
    "from IPython.display import Image, display\n",
    "\n",
    "# Step 1: Fetching the list of dog breeds from the Dog CEO API\n",
    "breed_url = 'https://dog.ceo/api/breeds/list/all'\n",
    "response = requests.get(breed_url)\n",
    "data = response.json()\n",
    "\n",
    "if data['status'] == 'success':\n",
    "    # Extracting the breeds list\n",
    "    breeds = list(data['message'].keys())\n",
    "\n",
    "    # Initialize an empty list to store breed names and images\n",
    "    breed_images = []\n",
    "\n",
    "    # Step 2: Fetching an image for each breed\n",
    "    for breed in breeds[:10]:  # Limiting to 10 breeds for simplicity\n",
    "        image_url = f'https://dog.ceo/api/breed/{breed}/images/random'\n",
    "        image_response = requests.get(image_url)\n",
    "        image_data = image_response.json()\n",
    "\n",
    "        if image_data['status'] == 'success':\n",
    "            breed_images.append((breed, image_data['message']))\n",
    "\n",
    "    # Step 3: Creating a pandas DataFrame to hold the breed names and images\n",
    "    df = pd.DataFrame(breed_images, columns=['Breed', 'Image URL'])\n",
    "\n",
    "    # Displaying the data\n",
    "    for i, row in df.iterrows():\n",
    "        print(f\"Breed: {row['Breed']}\")\n",
    "        display(Image(url=row['Image URL'], width=150, height=150))  # Display the image\n",
    "\n",
    "else:\n",
    "    print('Failed to retrieve data from the API.')\n"
   ]
  },
  {
   "cell_type": "code",
   "execution_count": null,
   "id": "d7e143d6-cc6a-457c-9e20-052d34ea0a3c",
   "metadata": {},
   "outputs": [],
   "source": []
  }
 ],
 "metadata": {
  "kernelspec": {
   "display_name": "Python 3 (ipykernel)",
   "language": "python",
   "name": "python3"
  },
  "language_info": {
   "codemirror_mode": {
    "name": "ipython",
    "version": 3
   },
   "file_extension": ".py",
   "mimetype": "text/x-python",
   "name": "python",
   "nbconvert_exporter": "python",
   "pygments_lexer": "ipython3",
   "version": "3.11.0"
  }
 },
 "nbformat": 4,
 "nbformat_minor": 5
}
