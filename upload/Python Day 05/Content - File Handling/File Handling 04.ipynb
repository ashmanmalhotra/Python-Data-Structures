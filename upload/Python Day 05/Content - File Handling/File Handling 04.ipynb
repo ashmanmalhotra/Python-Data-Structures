{
 "cells": [
  {
   "cell_type": "code",
   "execution_count": null,
   "id": "feacddde-f63f-4eee-a501-9eb61e476cf7",
   "metadata": {},
   "outputs": [],
   "source": []
  },
  {
   "cell_type": "markdown",
   "id": "503b87b6-d7d4-43df-a5f8-906120fb976e",
   "metadata": {},
   "source": [
    "We can use **tabulate** to handle and display ```JSON data``` in a ```tabular format```.    \n",
    "Since ```JSON data``` is typically structured as dictionaries or lists of dictionaries, converting it to a table using tabulate is straightforward.`m"
   ]
  },
  {
   "cell_type": "markdown",
   "id": "54efedfa-66eb-4999-8a08-dbed1843b863",
   "metadata": {},
   "source": [
    "**Steps to Process JSON Data with tabulate:**     \n",
    "1. Load JSON data into Python structures (list of dictionaries, for example).    \n",
    "2. Use tabulate to format the data and display it in a clean tabular form.    \n",
    "3. You can also perform data processing (filtering, calculations, etc.) as needed, just like with CSV data."
   ]
  },
  {
   "cell_type": "markdown",
   "id": "a202d2e1-85e1-4728-aaf6-913ca198d832",
   "metadata": {},
   "source": [
    "      "
   ]
  },
  {
   "cell_type": "markdown",
   "id": "3d467c7a-dd57-45f7-a1ff-a23cfb8bc727",
   "metadata": {},
   "source": [
    "**Example:** Using tabulate to Display JSON Data.\n",
    "\n",
    "**Step 1:** Import Necessary Modules   \n",
    "You will need the json module to read JSON data and the tabulate package to format it."
   ]
  },
  {
   "cell_type": "code",
   "execution_count": 1,
   "id": "2a8354ff-8a65-43b9-8601-ec765cdb9da7",
   "metadata": {},
   "outputs": [],
   "source": [
    "import json\n",
    "from tabulate import tabulate"
   ]
  },
  {
   "cell_type": "markdown",
   "id": "d54be14c-41a0-404b-9082-7502e047bc87",
   "metadata": {},
   "source": [
    "      "
   ]
  },
  {
   "cell_type": "markdown",
   "id": "3e7d22cd-4b78-4a0b-91f5-e5135516ad57",
   "metadata": {},
   "source": [
    "**Step 2:** Load JSON Data"
   ]
  },
  {
   "cell_type": "markdown",
   "id": "fb263988-c476-4690-83ed-0b76f148482a",
   "metadata": {},
   "source": [
    "Let's assume you have some JSON data stored in a file or directly as a string.      \n",
    "For example, let’s say you have the following JSON structure:\n",
    "```python\n",
    "[\n",
    "    {\"Name\": \"Alice\", \"Age\": 30, \"Occupation\": \"Engineer\"},\n",
    "    {\"Name\": \"Bob\", \"Age\": 25, \"Occupation\": \"Designer\"},\n",
    "    {\"Name\": \"Charlie\", \"Age\": 35, \"Occupation\": \"Teacher\"}\n",
    "]\n",
    "```"
   ]
  },
  {
   "cell_type": "code",
   "execution_count": 4,
   "id": "d3dd28f6-51f9-42c8-b6e2-8999517f2073",
   "metadata": {},
   "outputs": [],
   "source": [
    "# ################################\n",
    "# LOADING JSON DATA FROM a STRING\n",
    "# ################################\n",
    "\n",
    "# JSON data as a String\n",
    "json_data = '''\n",
    "[\n",
    "    {\"Name\": \"Alice\", \"Age\": 30, \"Occupation\": \"Engineer\"},\n",
    "    {\"Name\": \"Bob\", \"Age\": 25, \"Occupation\": \"Designer\"},\n",
    "    {\"Name\": \"Charlie\", \"Age\": 35, \"Occupation\": \"Teacher\"}\n",
    "]\n",
    "'''\n",
    "\n",
    "# Load JSON data from a string\n",
    "data = json.loads(json_data)"
   ]
  },
  {
   "cell_type": "code",
   "execution_count": 5,
   "id": "f7bd9b03-f2c7-4249-ae43-d51ab7369192",
   "metadata": {},
   "outputs": [],
   "source": [
    "# #############################\n",
    "# LOAD JSON DATA FROM a FILE\n",
    "# #############################\n",
    "with open('jsondata01.json', 'r') as file:\n",
    "    data = json.load(file) "
   ]
  },
  {
   "cell_type": "markdown",
   "id": "db622fee-54bc-4423-acf8-ba33087620ea",
   "metadata": {},
   "source": [
    "    "
   ]
  },
  {
   "cell_type": "markdown",
   "id": "9f2ec97b-8d8b-40eb-a896-50e446c71eec",
   "metadata": {},
   "source": [
    "     "
   ]
  },
  {
   "cell_type": "markdown",
   "id": "6624be5a-62d3-4525-96a0-9ea6a7279247",
   "metadata": {},
   "source": [
    "**Step 3:** Display the JSON Data in a Tabular Format    \n",
    "Once the JSON data is loaded into a Python structure (a list of dictionaries in this case), you can pass it to tabulate for display."
   ]
  },
  {
   "cell_type": "code",
   "execution_count": 6,
   "id": "d89b9197-b82d-44b9-ac77-7e5d7cdc943d",
   "metadata": {},
   "outputs": [
    {
     "name": "stdout",
     "output_type": "stream",
     "text": [
      "+---------+-------+--------------+\n",
      "| Name    |   Age | Occupation   |\n",
      "+=========+=======+==============+\n",
      "| Alice   |    30 | Engineer     |\n",
      "+---------+-------+--------------+\n",
      "| Bob     |    25 | Designer     |\n",
      "+---------+-------+--------------+\n",
      "| Charlie |    35 | Teacher      |\n",
      "+---------+-------+--------------+\n",
      "| David   |    40 | Doctor       |\n",
      "+---------+-------+--------------+\n"
     ]
    }
   ],
   "source": [
    "# Display the data in a tabular form\n",
    "print(tabulate(data, headers=\"keys\", tablefmt=\"grid\"))"
   ]
  },
  {
   "cell_type": "markdown",
   "id": "8c313243-7df5-4f3b-a248-0a0f5b0f2d4e",
   "metadata": {},
   "source": [
    "<br>    \n",
    "\n",
    "**Step 4:** Processing JSON Data    \n",
    "After ```loading``` the JSON data, you can also ```process``` it just like any other Python data structure.    \n",
    "For example, you can ```filter rows``` or ```perform operations``` on certain fields."
   ]
  },
  {
   "cell_type": "markdown",
   "id": "55be817b-e0a8-4b07-8916-fb5de8e7cfa5",
   "metadata": {},
   "source": [
    "**Example: Filter JSON Data**     \n",
    "Let’s say you want to filter the JSON data to only display people older than 30:"
   ]
  },
  {
   "cell_type": "code",
   "execution_count": 8,
   "id": "a09228cf-ebf3-493e-b61f-165c7ea6bf7d",
   "metadata": {},
   "outputs": [
    {
     "name": "stdout",
     "output_type": "stream",
     "text": [
      "| Name    |   Age | Occupation   |\n",
      "|:--------|------:|:-------------|\n",
      "| Charlie |    35 | Teacher      |\n",
      "| David   |    40 | Doctor       |\n"
     ]
    }
   ],
   "source": [
    "# Filter the data\n",
    "filtered_data = [person for person in data if person['Age'] > 30]\n",
    "\n",
    "# Display the filtered data\n",
    "print(tabulate(filtered_data, headers=\"keys\", tablefmt=\"pipe\"))"
   ]
  },
  {
   "cell_type": "markdown",
   "id": "90cfdb96-b33d-4a0d-ba49-a589090ce314",
   "metadata": {},
   "source": [
    "<br>   \n",
    "\n",
    "**Advantages of Using tabulate with JSON Data:**  \n",
    "- **Simple Integration:** You can seamlessly convert JSON data into a readable table without complex transformations.\n",
    "- **Multiple Formats:** ```tabulate``` supports various formats (e.g., ```grid```, ```pipe```, ```plain```, ```html```, etc.).\n",
    "- **Lightweight:** Since tabulate is very ```lightweight```, it's a great choice when you just need simple data processing and display."
   ]
  },
  {
   "cell_type": "code",
   "execution_count": null,
   "id": "6d2bbaef-76fc-4310-8d38-e1ebd84ab1c2",
   "metadata": {},
   "outputs": [],
   "source": []
  }
 ],
 "metadata": {
  "kernelspec": {
   "display_name": "Python 3 (ipykernel)",
   "language": "python",
   "name": "python3"
  },
  "language_info": {
   "codemirror_mode": {
    "name": "ipython",
    "version": 3
   },
   "file_extension": ".py",
   "mimetype": "text/x-python",
   "name": "python",
   "nbconvert_exporter": "python",
   "pygments_lexer": "ipython3",
   "version": "3.11.4"
  }
 },
 "nbformat": 4,
 "nbformat_minor": 5
}
