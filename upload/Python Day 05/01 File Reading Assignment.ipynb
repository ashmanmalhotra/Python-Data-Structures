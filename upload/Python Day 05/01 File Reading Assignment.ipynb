{
 "cells": [
  {
   "cell_type": "markdown",
   "id": "708799fd-bd34-4276-b452-73ac774ef9e4",
   "metadata": {},
   "source": [
    "# Reading a File"
   ]
  },
  {
   "cell_type": "markdown",
   "id": "06aaea31-31b8-40ac-8112-1e8d53af101b",
   "metadata": {},
   "source": [
    "We can read **unformatted content** using **repr()** function."
   ]
  },
  {
   "cell_type": "code",
   "execution_count": 3,
   "id": "65a4f35f-e6d7-47e0-b204-023ecb618a7b",
   "metadata": {},
   "outputs": [
    {
     "name": "stdout",
     "output_type": "stream",
     "text": [
      "Unformatted Content: \n",
      "\"This is the sample content here...\\nLet's try reading the content\"\n",
      "\n",
      "Formatted Content: \n",
      "This is the sample content here...\n",
      "Let's try reading the content\n"
     ]
    }
   ],
   "source": [
    "filename = \"datacontent.txt\"\n",
    "with open(filename, \"r\") as fr:\n",
    "    content = fr.read()\n",
    "    print(\"Unformatted Content: \")\n",
    "    print(repr(content))\n",
    "\n",
    "    print(\"\\nFormatted Content: \")\n",
    "    print(content)    "
   ]
  },
  {
   "cell_type": "code",
   "execution_count": null,
   "id": "82c9609a-91b0-4d3a-9106-e429db3706fb",
   "metadata": {},
   "outputs": [],
   "source": []
  }
 ],
 "metadata": {
  "kernelspec": {
   "display_name": "Python 3 (ipykernel)",
   "language": "python",
   "name": "python3"
  },
  "language_info": {
   "codemirror_mode": {
    "name": "ipython",
    "version": 3
   },
   "file_extension": ".py",
   "mimetype": "text/x-python",
   "name": "python",
   "nbconvert_exporter": "python",
   "pygments_lexer": "ipython3",
   "version": "3.11.4"
  }
 },
 "nbformat": 4,
 "nbformat_minor": 5
}
