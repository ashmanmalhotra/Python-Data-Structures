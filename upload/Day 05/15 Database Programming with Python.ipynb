{
 "cells": [
  {
   "cell_type": "markdown",
   "id": "a29a8d5c-5378-4a86-8e0f-5b5974b46a48",
   "metadata": {},
   "source": [
    "# <span style=\"color:red;\">Beginner's Guide to Database Programming with Python using ```PyMySQL```</span>"
   ]
  },
  {
   "cell_type": "markdown",
   "id": "3a383916-8207-4372-9982-bdd736cc5c8a",
   "metadata": {},
   "source": [
    "**Prerequisites:**    \n",
    "- **Python** installed on your machine.\n",
    "- **MySQL Server** running with a user account created.\n",
    "- **PyMySQL** library installed. You can install it using pip:\n",
    "    - ```pip install pymysql```"
   ]
  },
  {
   "cell_type": "markdown",
   "id": "48c0166d-97e0-447f-aa67-9a34792cb6b5",
   "metadata": {},
   "source": [
    "### 1. Introduction to Databases and SQL     \n",
    "Databases are **collections of data organized** for **easy access**, **management** and **updating**.      \n",
    "A **Relational Database stores data** in **tables (rows and columns)**.    \n",
    "**SQL (Structured Query Language)** is a standard language to manage and manipulate databases.    \n",
    "\n",
    "**Some common SQL commands include:**\n",
    "- **SELECT:** Retrieves data.\n",
    "- **INSERT:** Adds new data.\n",
    "- **UPDATE:** Modifies existing data.\n",
    "- **DELETE:** Removes data."
   ]
  },
  {
   "cell_type": "code",
   "execution_count": null,
   "id": "d7655bc7-8509-4515-bf5c-65d232636564",
   "metadata": {},
   "outputs": [],
   "source": []
  },
  {
   "cell_type": "code",
   "execution_count": null,
   "id": "766928cb-bc71-4fcc-b988-34e471de1525",
   "metadata": {},
   "outputs": [],
   "source": []
  },
  {
   "cell_type": "markdown",
   "id": "6ee6fdb4-eb4b-4cda-bcd8-34d9fcf4bb06",
   "metadata": {},
   "source": [
    "### **2. Connecting to a MySQL Database using Python**"
   ]
  },
  {
   "cell_type": "markdown",
   "id": "d1948975-5920-4179-ad7d-b498000d7094",
   "metadata": {},
   "source": [
    "```python\n",
    "import pymysql\n",
    "\n",
    "# Database connection details\n",
    "db = pymysql.connect(\n",
    "    host=\"localhost\",     # MySQL host (use IP if remote)\n",
    "    user=\"root\",          # Your MySQL username\n",
    "    password=\"password\",  # Your MySQL password\n",
    "    database=\"test_db\"    # Database name you want to connect to\n",
    ")\n",
    "\n",
    "# Create a cursor object to interact with the database\n",
    "cursor = db.cursor()\n",
    "\n",
    "# Check connection\n",
    "if db.open:\n",
    "    print(\"Connection successful!\")\n",
    "else:\n",
    "    print(\"Connection failed!\")\n",
    "\n",
    "# Always close the connection when done\n",
    "db.close()\n",
    "```"
   ]
  },
  {
   "cell_type": "code",
   "execution_count": null,
   "id": "da0b72ee-3180-41b3-805b-84857f69cf2b",
   "metadata": {},
   "outputs": [],
   "source": []
  },
  {
   "cell_type": "code",
   "execution_count": null,
   "id": "bd8aa4d7-85b9-489f-bd2b-b8dc5a4adc77",
   "metadata": {},
   "outputs": [],
   "source": []
  },
  {
   "cell_type": "markdown",
   "id": "8756e7cb-2899-42ec-bca3-612b5812ae01",
   "metadata": {},
   "source": [
    "### **3. Executing SQL Queries and Fetching Results**    \n",
    "Once you have a connection, you can execute SQL queries using the cursor object. Let’s start by fetching some data from a table."
   ]
  },
  {
   "cell_type": "markdown",
   "id": "5eca79cb-f7ef-4b90-999d-aa379a2272a7",
   "metadata": {},
   "source": [
    "**i. Create a Sample Table**   \n",
    "```python\n",
    "CREATE TABLE students (\n",
    "    id INT AUTO_INCREMENT PRIMARY KEY,\n",
    "    name VARCHAR(100),\n",
    "    age INT,\n",
    "    gender CHAR(1)\n",
    ");\n",
    "```"
   ]
  },
  {
   "cell_type": "code",
   "execution_count": null,
   "id": "705a3684-801a-47e7-96bc-3c6f09126d26",
   "metadata": {},
   "outputs": [],
   "source": []
  },
  {
   "cell_type": "markdown",
   "id": "7a6e8a50-53fb-416c-80d8-6561860e1cc0",
   "metadata": {},
   "source": [
    "**ii. Fetching Data using Python**     \n",
    "\n",
    "```python\n",
    "import pymysql\n",
    "\n",
    "db = pymysql.connect(host=\"localhost\", user=\"root\", password=\"password\", database=\"test_db\")\n",
    "cursor = db.cursor()\n",
    "\n",
    "# Execute SQL query\n",
    "query = \"SELECT * FROM students\"\n",
    "cursor.execute(query)\n",
    "\n",
    "# Fetch all the rows\n",
    "results = cursor.fetchall()\n",
    "\n",
    "# Print fetched results\n",
    "for row in results:\n",
    "    print(f\"ID: {row[0]}, Name: {row[1]}, Age: {row[2]}, Gender: {row[3]}\")\n",
    "\n",
    "# Close the connection\n",
    "db.close()\n",
    "```\n",
    "<br>\n",
    "\n",
    "**Output:**     \n",
    "\n",
    "```python\n",
    "ID: 1, Name: John Doe, Age: 20, Gender: M\n",
    "ID: 2, Name: Jane Smith, Age: 22, Gender: F\n",
    "```"
   ]
  },
  {
   "cell_type": "code",
   "execution_count": null,
   "id": "63dfa0fb-89c5-46b7-975f-81613c543ac8",
   "metadata": {},
   "outputs": [],
   "source": []
  },
  {
   "cell_type": "markdown",
   "id": "5b29447f-dd09-45f1-88f6-e3fbab441814",
   "metadata": {},
   "source": [
    "### 4. CRUD Operations (Insert, Update, Delete)      \n",
    "Let's dive into the four primary database operations: Create (Insert), Read (Select), Update, and Delete."
   ]
  },
  {
   "cell_type": "markdown",
   "id": "0ecd2d5d-4599-490c-9474-8684f0d03850",
   "metadata": {},
   "source": [
    "**i. Inserting Data**    \n",
    "\n",
    "```python\n",
    "db = pymysql.connect(host=\"localhost\", user=\"root\", password=\"password\", database=\"test_db\")\n",
    "cursor = db.cursor()\n",
    "\n",
    "# SQL Insert statement\n",
    "query = \"INSERT INTO students (name, age, gender) VALUES (%s, %s, %s)\"\n",
    "data = (\"Alice Johnson\", 23, \"F\")\n",
    "\n",
    "try:\n",
    "    cursor.execute(query, data)\n",
    "    db.commit()  # Commit the transaction\n",
    "    print(\"Record inserted successfully\")\n",
    "except Exception as e:\n",
    "    db.rollback()  # Rollback in case of error\n",
    "    print(f\"Error: {e}\")\n",
    "\n",
    "db.close()\n",
    "```\n",
    "\n",
    "<br>\n",
    "\n",
    "**In this code:**     \n",
    "- **%s** is a **placeholder for the values** that will be passed in the data tuple.\n",
    "- The values in the data tuple (\"Alice Brown\", 21, \"F\") are inserted into the students table"
   ]
  },
  {
   "cell_type": "code",
   "execution_count": null,
   "id": "86939e14-9843-4b55-a196-dbea09d95384",
   "metadata": {},
   "outputs": [],
   "source": []
  },
  {
   "cell_type": "markdown",
   "id": "66c13eff-d5cc-48a6-aa8c-f2343b386bcd",
   "metadata": {},
   "source": [
    "<u>**Inserting Multiple Rows of Data:**</u>    \n",
    "To insert multiple rows in one go, you can use the **executemany()** method, which allows you to insert multiple rows efficiently.    \n",
    "\n",
    "**Inserting Multiple Rows**\n",
    "Let's say you have a list of students and you want to insert all of them into the students table.    \n",
    "\n",
    "```python\n",
    "import pymysql\n",
    "\n",
    "# Establish database connection\n",
    "db = pymysql.connect(host=\"localhost\", user=\"root\", password=\"password\", database=\"test_db\")\n",
    "cursor = db.cursor()\n",
    "\n",
    "# SQL query to insert multiple rows\n",
    "query = \"INSERT INTO students (name, age, gender) VALUES (%s, %s, %s)\"\n",
    "\n",
    "# List of tuples containing data for multiple rows\n",
    "data = [\n",
    "    (\"Bob White\", 19, \"M\"),\n",
    "    (\"Carol King\", 23, \"F\"),\n",
    "    (\"David Green\", 22, \"M\"),\n",
    "    (\"Eve Adams\", 20, \"F\")\n",
    "]\n",
    "\n",
    "try:\n",
    "    cursor.executemany(query, data)  # Insert multiple rows at once\n",
    "    db.commit()  # Commit the transaction\n",
    "    print(f\"{cursor.rowcount} records inserted successfully\")\n",
    "except Exception as e:\n",
    "    db.rollback()  # Rollback in case of error\n",
    "    print(f\"Error: {e}\")\n",
    "\n",
    "# Close the connection\n",
    "db.close()\n",
    "```    "
   ]
  },
  {
   "cell_type": "code",
   "execution_count": null,
   "id": "56579af3-6a41-42a1-b7c2-b01a8ebb22db",
   "metadata": {},
   "outputs": [],
   "source": []
  },
  {
   "cell_type": "code",
   "execution_count": null,
   "id": "8a294017-067b-4666-9e59-7dde2af2a23f",
   "metadata": {},
   "outputs": [],
   "source": []
  },
  {
   "cell_type": "markdown",
   "id": "08d09765-f681-4dac-b06a-76f05f6f5c32",
   "metadata": {},
   "source": [
    "<u>**Storing Rows Using Data from a List**</u>     \n",
    "If you have data in a list (or a list of lists) and want to insert it into the database, you can follow a similar approach.      \n",
    "Here’s an example where each row of data is stored in a list:   \n",
    "\n",
    "**Inserting Rows from a List of Lists**     \n",
    "Let’s say you have the following data in a list of lists:"
   ]
  },
  {
   "cell_type": "markdown",
   "id": "1c48fb51-8287-4fe8-928f-3c505e003826",
   "metadata": {},
   "source": [
    "```python\n",
    "students_data = [\n",
    "    [\"John Doe\", 20, \"M\"],\n",
    "    [\"Jane Smith\", 22, \"F\"],\n",
    "    [\"Alice Brown\", 21, \"F\"],\n",
    "    [\"Bob White\", 19, \"M\"]\n",
    "]\n",
    "```\n",
    "<br>\n",
    "\n",
    "```python\n",
    "import pymysql\n",
    "\n",
    "# Establish database connection\n",
    "db = pymysql.connect(host=\"localhost\", user=\"root\", password=\"password\", database=\"test_db\")\n",
    "cursor = db.cursor()\n",
    "\n",
    "# SQL query to insert multiple rows\n",
    "query = \"INSERT INTO students (name, age, gender) VALUES (%s, %s, %s)\"\n",
    "\n",
    "# List of lists containing student data\n",
    "students_data = [\n",
    "    [\"John Doe\", 20, \"M\"],\n",
    "    [\"Jane Smith\", 22, \"F\"],\n",
    "    [\"Alice Brown\", 21, \"F\"],\n",
    "    [\"Bob White\", 19, \"M\"]\n",
    "]\n",
    "\n",
    "try:\n",
    "    cursor.executemany(query, students_data)  # Insert multiple rows using a list of lists\n",
    "    db.commit()  # Commit the transaction\n",
    "    print(f\"{cursor.rowcount} records inserted successfully\")\n",
    "except Exception as e:\n",
    "    db.rollback()  # Rollback in case of error\n",
    "    print(f\"Error: {e}\")\n",
    "\n",
    "# Close the connection\n",
    "db.close()\n",
    "```"
   ]
  },
  {
   "cell_type": "code",
   "execution_count": null,
   "id": "782236be-3543-463e-8ccb-96b67cd7b44c",
   "metadata": {},
   "outputs": [],
   "source": []
  },
  {
   "cell_type": "code",
   "execution_count": null,
   "id": "dd5fc043-7a83-4786-ad69-74c6b1d7f5fc",
   "metadata": {},
   "outputs": [],
   "source": []
  },
  {
   "cell_type": "markdown",
   "id": "13d60dde-0a26-4008-9902-2c31e967b111",
   "metadata": {},
   "source": [
    "**ii. Updating Data**    \n",
    "You can update existing records in the database using the UPDATE query."
   ]
  },
  {
   "cell_type": "markdown",
   "id": "6f74edf2-8377-42c5-ab59-e4f03d9345ea",
   "metadata": {},
   "source": [
    "```python\n",
    "db = pymysql.connect(host=\"localhost\", user=\"root\", password=\"password\", database=\"test_db\")\n",
    "cursor = db.cursor()\n",
    "\n",
    "# SQL Update statement\n",
    "query = \"UPDATE students SET age = %s WHERE name = %s\"\n",
    "data = (24, \"Alice Johnson\")\n",
    "\n",
    "try:\n",
    "    cursor.execute(query, data)\n",
    "    db.commit()  # Commit the transaction\n",
    "    print(\"Record updated successfully\")\n",
    "except Exception as e:\n",
    "    db.rollback()  # Rollback in case of error\n",
    "    print(f\"Error: {e}\")\n",
    "\n",
    "db.close()\n",
    "```"
   ]
  },
  {
   "cell_type": "code",
   "execution_count": null,
   "id": "b67bad63-5d24-4c30-9f69-a6babd8e1a5a",
   "metadata": {},
   "outputs": [],
   "source": []
  },
  {
   "cell_type": "markdown",
   "id": "6e76dc41-5adf-4cba-9a9d-fa69bb083984",
   "metadata": {},
   "source": [
    "**iii. Deleting Data**    \n",
    "To remove records, we use the DELETE statement."
   ]
  },
  {
   "cell_type": "markdown",
   "id": "836ffae7-e2f5-4880-95dc-fceedeb66f14",
   "metadata": {},
   "source": [
    "```python\n",
    "db = pymysql.connect(host=\"localhost\", user=\"root\", password=\"password\", database=\"test_db\")\n",
    "cursor = db.cursor()\n",
    "\n",
    "# SQL Delete statement\n",
    "query = \"DELETE FROM students WHERE name = %s\"\n",
    "data = (\"Alice Johnson\",)\n",
    "\n",
    "try:\n",
    "    cursor.execute(query, data)\n",
    "    db.commit()  # Commit the transaction\n",
    "    print(\"Record deleted successfully\")\n",
    "except Exception as e:\n",
    "    db.rollback()  # Rollback in case of error\n",
    "    print(f\"Error: {e}\")\n",
    "\n",
    "db.close()\n",
    "```"
   ]
  },
  {
   "cell_type": "code",
   "execution_count": null,
   "id": "93cfc8cc-8a61-4668-b221-6a01ec5ddaaa",
   "metadata": {},
   "outputs": [],
   "source": []
  },
  {
   "cell_type": "markdown",
   "id": "92fee18c-661f-4eec-b46b-18c876be03af",
   "metadata": {},
   "source": [
    "**5. Working with Transactions and Database Connections**      \n",
    "A **transaction** is a **sequence of one or more SQL operations (like INSERT, UPDATE, DELETE)** that are **executed as a single unit of work**.    \n",
    "The key point about a transaction is that it ensures ACID properties:\n",
    "\n",
    "\n",
    "Transactions ensure that a sequence of database operations is completed successfully.   \n",
    "If an error occurs, changes can be rolled back, preserving data integrity."
   ]
  },
  {
   "cell_type": "markdown",
   "id": "82db78e8-535a-4eb7-8b76-49603d3ef57f",
   "metadata": {},
   "source": [
    "```python\n",
    "db = pymysql.connect(host=\"localhost\", user=\"root\", password=\"password\", database=\"test_db\")\n",
    "cursor = db.cursor()\n",
    "\n",
    "try:\n",
    "    # Start transaction\n",
    "    cursor.execute(\"UPDATE students SET age = 25 WHERE name = 'John Doe'\")\n",
    "    cursor.execute(\"DELETE FROM students WHERE name = 'Jane Smith'\")\n",
    "    \n",
    "    # Commit the changes\n",
    "    db.commit()\n",
    "    print(\"Transaction successful!\")\n",
    "except Exception as e:\n",
    "    # Rollback the transaction in case of error\n",
    "    db.rollback()\n",
    "    print(f\"Transaction failed, rolled back: {e}\")\n",
    "\n",
    "db.close()\n",
    "```"
   ]
  },
  {
   "cell_type": "code",
   "execution_count": null,
   "id": "cc8d2ea5-d001-4334-9b9d-f6841e84b3d4",
   "metadata": {},
   "outputs": [],
   "source": []
  },
  {
   "cell_type": "markdown",
   "id": "5f697419-9f21-4bd1-8fb3-a81887c469e5",
   "metadata": {},
   "source": [
    "**Closing the Connection:**       \n",
    "Always close the database connection when you’re done to free up resources:    \n",
    "\n",
    "```python\n",
    "db.close()\n",
    "```"
   ]
  },
  {
   "cell_type": "code",
   "execution_count": null,
   "id": "b80dd9c6-aa56-4297-94b7-9008f16dc5d5",
   "metadata": {},
   "outputs": [],
   "source": []
  }
 ],
 "metadata": {
  "kernelspec": {
   "display_name": "Python 3 (ipykernel)",
   "language": "python",
   "name": "python3"
  },
  "language_info": {
   "codemirror_mode": {
    "name": "ipython",
    "version": 3
   },
   "file_extension": ".py",
   "mimetype": "text/x-python",
   "name": "python",
   "nbconvert_exporter": "python",
   "pygments_lexer": "ipython3",
   "version": "3.11.4"
  }
 },
 "nbformat": 4,
 "nbformat_minor": 5
}
