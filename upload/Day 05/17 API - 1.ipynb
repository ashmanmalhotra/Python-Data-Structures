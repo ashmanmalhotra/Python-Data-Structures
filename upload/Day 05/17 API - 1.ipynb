{
 "cells": [
  {
   "cell_type": "markdown",
   "id": "f404bd07-37c0-49c6-bed1-e56c70e5a258",
   "metadata": {},
   "source": [
    "# <span style=\"color:red\">Working With API</span>"
   ]
  },
  {
   "cell_type": "markdown",
   "id": "68a56f81-dd58-421e-87cf-14c8ffccf092",
   "metadata": {},
   "source": [
    "In order to understand the concept, we will make use of the Public API:      \n",
    "https://jsonplaceholder.typicode.com/"
   ]
  },
  {
   "cell_type": "markdown",
   "id": "9f972ca3-8ade-4839-ab22-8432a856a8d2",
   "metadata": {},
   "source": [
    "### <span style=\"color:blue; background-color:yellow;\">Making HTTP Requests using requests</span>      \n",
    " - APIs (Application Programming Interfaces) allow ```different applications to communicate with each other```.\n",
    " - Often, APIs are accessed over the internet using HTTP requests.\n",
    " - **Python** provides ```requests library``` to make **API requests**."
   ]
  },
  {
   "cell_type": "markdown",
   "id": "6b8a3fdf-5ae3-4f73-9eec-50c01d98a8a6",
   "metadata": {},
   "source": [
    "<span style=\"background-color:yellow;\">**Install requests Module:**</span>     \n",
    "```python\n",
    "    pip install requests\n",
    "```"
   ]
  },
  {
   "cell_type": "markdown",
   "id": "a74f9057-1190-4b34-8e58-0f72a141525f",
   "metadata": {},
   "source": [
    "<span style=\"background-color:yellow;\">**Common HTTP Methods:**</span>\n",
    "- GET: Used to retrieve data from the server.\n",
    "- POST: Used to send data to the server (e.g., uploading data, submitting forms).\n",
    "- PUT: Used to update existing data.\n",
    "- DELETE: Used to delete data from the server."
   ]
  },
  {
   "cell_type": "markdown",
   "id": "6e603621-032e-497d-8f34-716a8ebfc130",
   "metadata": {},
   "source": [
    "#### <span style=\"background-color:yellow;\">**1. Making a Simple GET Request:**</span>     \n",
    "A GET request is used to **fetch data from an API**."
   ]
  },
  {
   "cell_type": "code",
   "execution_count": 3,
   "id": "28af5769-f887-488f-a21d-516effe02480",
   "metadata": {},
   "outputs": [
    {
     "name": "stdout",
     "output_type": "stream",
     "text": [
      "Success!\n",
      "[\n",
      "  {\n",
      "    \"userId\": 1,\n",
      "    \"id\": 1,\n",
      "    \"title\": \"sunt aut facere repellat provident occaecati excepturi optio reprehenderit\",\n",
      "    \"body\": \"quia et suscipit\\nsuscipit recusandae consequuntur expedita et cum\\nreprehenderit molestiae ut ut quas totam\\nnostrum rerum est autem sunt rem eveniet architecto\"\n",
      "  },\n",
      "  {\n",
      "    \"userId\": 1,\n",
      "    \"id\": 2,\n",
      "    \"title\": \"qui est esse\",\n",
      "    \"body\": \"est rerum tempore vitae\\nsequi sint nihil reprehenderit dolor beatae ea dolores neque\\nfugiat blanditiis voluptate porro vel nihil molestiae ut reiciendis\\nqui aperiam non debitis possimus qui neque nisi nulla\"\n",
      "  },\n",
      "  {\n",
      "    \"userId\": 1,\n",
      "    \"id\": 3,\n",
      "    \"title\": \"ea molestias quasi exercitationem repellat qui ipsa sit aut\",\n",
      "    \"body\": \"et iusto sed quo iure\\nvoluptatem occaecati omnis eligendi aut ad\\nvoluptatem doloribus vel accusantium quis pariatur\\nmolestiae porro eius odio et labore et velit aut\"\n",
      "  },\n",
      "  {\n",
      "    \"userId\": 1,\n",
      "    \"id\": 4,\n",
      "    \"title\": \"eum et est occaecati\",\n",
      "    \"body\": \"ullam et saepe reiciendis voluptatem adipisci\\nsit amet autem assumenda provident rerum culpa\\nquis hic commodi nesciunt rem tenetur doloremque ipsam iure\\nquis sunt voluptatem rerum illo velit\"\n",
      "  },\n",
      "  {\n",
      "    \"userId\": 1,\n",
      "    \"id\": 5,\n",
      "    \"title\": \"nesciunt quas odio\",\n",
      "    \"body\": \"repudiandae veniam quaerat sunt sed\\nalias aut fugiat sit autem sed est\\nvoluptatem omnis possimus esse voluptatibus quis\\nest aut tenetur dolor neque\"\n",
      "  },\n",
      "  {\n",
      "    \"userId\": 1,\n",
      "    \"id\": 6,\n",
      "    \"title\": \"dolorem eum magni eos aperiam quia\",\n",
      "    \"body\": \"ut aspernatur corporis harum nihil quis provident sequi\\nmollitia nobis aliquid molestiae\\nperspiciatis et ea nemo ab reprehenderit accusantium quas\\nvoluptate dolores velit et doloremque molestiae\"\n",
      "  },\n",
      "  {\n",
      "    \"userId\": 1,\n",
      "    \"id\": 7,\n",
      "    \"title\": \"magnam facilis autem\",\n",
      "    \"body\": \"dolore placeat quibusdam ea quo vitae\\nmagni quis enim qui quis quo nemo aut saepe\\nquidem repellat excepturi ut quia\\nsunt ut sequi eos ea sed quas\"\n",
      "  },\n",
      "  {\n",
      "    \"userId\": 1,\n",
      "    \"id\": 8,\n",
      "    \"title\": \"dolorem dolore est ipsam\",\n",
      "    \"body\": \"dignissimos aperiam dolorem qui eum\\nfacilis quibusdam animi sint suscipit qui sint possimus cum\\nquaerat magni maiores excepturi\\nipsam ut commodi dolor voluptatum modi aut vitae\"\n",
      "  },\n",
      "  {\n",
      "    \"userId\": 1,\n",
      "    \"id\": 9,\n",
      "    \"title\": \"nesciunt iure omnis dolorem tempora et accusantium\",\n",
      "    \"body\": \"consectetur animi nesciunt iure dolore\\nenim quia ad\\nveniam autem ut quam aut nobis\\net est aut quod aut provident voluptas autem voluptas\"\n",
      "  },\n",
      "  {\n",
      "    \"userId\": 1,\n",
      "    \"id\": 10,\n",
      "    \"title\": \"optio molestias id quia eum\",\n",
      "    \"body\": \"quo et expedita modi cum officia vel magni\\ndoloribus qui repudiandae\\nvero nisi sit\\nquos veniam quod sed accusamus veritatis error\"\n",
      "  },\n",
      "  {\n",
      "    \"userId\": 2,\n",
      "    \"id\": 11,\n",
      "    \"title\": \"et ea vero quia laudantium autem\",\n",
      "    \"body\": \"delectus reiciendis molestiae occaecati non minima eveniet qui voluptatibus\\naccusamus in eum beatae sit\\nvel qui neque voluptates ut commodi qui incidunt\\nut animi commodi\"\n",
      "  },\n",
      "  {\n",
      "    \"userId\": 2,\n",
      "    \"id\": 12,\n",
      "    \"title\": \"in quibusdam tempore odit est dolorem\",\n",
      "    \"body\": \"itaque id aut magnam\\npraesentium quia et ea odit et ea voluptas et\\nsapiente quia nihil amet occaecati quia id voluptatem\\nincidunt ea est distinctio odio\"\n",
      "  },\n",
      "  {\n",
      "    \"userId\": 2,\n",
      "    \"id\": 13,\n",
      "    \"title\": \"dolorum ut in voluptas mollitia et saepe quo animi\",\n",
      "    \"body\": \"aut dicta possimus sint mollitia voluptas commodi quo doloremque\\niste corrupti reiciendis voluptatem eius rerum\\nsit cumque quod eligendi laborum minima\\nperferendis recusandae assumenda consectetur porro architecto ipsum ipsam\"\n",
      "  },\n",
      "  {\n",
      "    \"userId\": 2,\n",
      "    \"id\": 14,\n",
      "    \"title\": \"voluptatem eligendi optio\",\n",
      "    \"body\": \"fuga et accusamus dolorum perferendis illo voluptas\\nnon doloremque neque facere\\nad qui dolorum molestiae beatae\\nsed aut voluptas totam sit illum\"\n",
      "  },\n",
      "  {\n",
      "    \"userId\": 2,\n",
      "    \"id\": 15,\n",
      "    \"title\": \"eveniet quod temporibus\",\n",
      "    \"body\": \"reprehenderit quos placeat\\nvelit minima officia dolores impedit repudiandae molestiae nam\\nvoluptas recusandae quis delectus\\nofficiis harum fugiat vitae\"\n",
      "  },\n",
      "  {\n",
      "    \"userId\": 2,\n",
      "    \"id\": 16,\n",
      "    \"title\": \"sint suscipit perspiciatis velit dolorum rerum ipsa laboriosam odio\",\n",
      "    \"body\": \"suscipit nam nisi quo aperiam aut\\nasperiores eos fugit maiores voluptatibus quia\\nvoluptatem quis ullam qui in alias quia est\\nconsequatur magni mollitia accusamus ea nisi voluptate dicta\"\n",
      "  },\n",
      "  {\n",
      "    \"userId\": 2,\n",
      "    \"id\": 17,\n",
      "    \"title\": \"fugit voluptas sed molestias voluptatem provident\",\n",
      "    \"body\": \"eos voluptas et aut odit natus earum\\naspernatur fuga molestiae ullam\\ndeserunt ratione qui eos\\nqui nihil ratione nemo velit ut aut id quo\"\n",
      "  },\n",
      "  {\n",
      "    \"userId\": 2,\n",
      "    \"id\": 18,\n",
      "    \"title\": \"voluptate et itaque vero tempora molestiae\",\n",
      "    \"body\": \"eveniet quo quis\\nlaborum totam consequatur non dolor\\nut et est repudiandae\\nest voluptatem vel debitis et magnam\"\n",
      "  },\n",
      "  {\n",
      "    \"userId\": 2,\n",
      "    \"id\": 19,\n",
      "    \"title\": \"adipisci placeat illum aut reiciendis qui\",\n",
      "    \"body\": \"illum quis cupiditate provident sit magnam\\nea sed aut omnis\\nveniam maiores ullam consequatur atque\\nadipisci quo iste expedita sit quos voluptas\"\n",
      "  },\n",
      "  {\n",
      "    \"userId\": 2,\n",
      "    \"id\": 20,\n",
      "    \"title\": \"doloribus ad provident suscipit at\",\n",
      "    \"body\": \"qui consequuntur ducimus possimus quisquam amet similique\\nsuscipit porro ipsam amet\\neos veritatis officiis exercitationem vel fugit aut necessitatibus totam\\nomnis rerum consequatur expedita quidem cumque explicabo\"\n",
      "  },\n",
      "  {\n",
      "    \"userId\": 3,\n",
      "    \"id\": 21,\n",
      "    \"title\": \"asperiores ea ipsam voluptatibus modi minima quia sint\",\n",
      "    \"body\": \"repellat aliquid praesentium dolorem quo\\nsed totam minus non itaque\\nnihil labore molestiae sunt dolor eveniet hic recusandae veniam\\ntempora et tenetur expedita sunt\"\n",
      "  },\n",
      "  {\n",
      "    \"userId\": 3,\n",
      "    \"id\": 22,\n",
      "    \"title\": \"dolor sint quo a velit explicabo quia nam\",\n",
      "    \"body\": \"eos qui et ipsum ipsam suscipit aut\\nsed omnis non odio\\nexpedita earum mollitia molestiae aut atque rem suscipit\\nnam impedit esse\"\n",
      "  },\n",
      "  {\n",
      "    \"userId\": 3,\n",
      "    \"id\": 23,\n",
      "    \"title\": \"maxime id vitae nihil numquam\",\n",
      "    \"body\": \"veritatis unde neque eligendi\\nquae quod architecto quo neque vitae\\nest illo sit tempora doloremque fugit quod\\net et vel beatae sequi ullam sed tenetur perspiciatis\"\n",
      "  },\n",
      "  {\n",
      "    \"userId\": 3,\n",
      "    \"id\": 24,\n",
      "    \"title\": \"autem hic labore sunt dolores incidunt\",\n",
      "    \"body\": \"enim et ex nulla\\nomnis voluptas quia qui\\nvoluptatem consequatur numquam aliquam sunt\\ntotam recusandae id dignissimos aut sed asperiores deserunt\"\n",
      "  },\n",
      "  {\n",
      "    \"userId\": 3,\n",
      "    \"id\": 25,\n",
      "    \"title\": \"rem alias distinctio quo quis\",\n",
      "    \"body\": \"ullam consequatur ut\\nomnis quis sit vel consequuntur\\nipsa eligendi ipsum molestiae et omnis error nostrum\\nmolestiae illo tempore quia et distinctio\"\n",
      "  },\n",
      "  {\n",
      "    \"userId\": 3,\n",
      "    \"id\": 26,\n",
      "    \"title\": \"est et quae odit qui non\",\n",
      "    \"body\": \"similique esse doloribus nihil accusamus\\nomnis dolorem fuga consequuntur reprehenderit fugit recusandae temporibus\\nperspiciatis cum ut laudantium\\nomnis aut molestiae vel vero\"\n",
      "  },\n",
      "  {\n",
      "    \"userId\": 3,\n",
      "    \"id\": 27,\n",
      "    \"title\": \"quasi id et eos tenetur aut quo autem\",\n",
      "    \"body\": \"eum sed dolores ipsam sint possimus debitis occaecati\\ndebitis qui qui et\\nut placeat enim earum aut odit facilis\\nconsequatur suscipit necessitatibus rerum sed inventore temporibus consequatur\"\n",
      "  },\n",
      "  {\n",
      "    \"userId\": 3,\n",
      "    \"id\": 28,\n",
      "    \"title\": \"delectus ullam et corporis nulla voluptas sequi\",\n",
      "    \"body\": \"non et quaerat ex quae ad maiores\\nmaiores recusandae totam aut blanditiis mollitia quas illo\\nut voluptatibus voluptatem\\nsimilique nostrum eum\"\n",
      "  },\n",
      "  {\n",
      "    \"userId\": 3,\n",
      "    \"id\": 29,\n",
      "    \"title\": \"iusto eius quod necessitatibus culpa ea\",\n",
      "    \"body\": \"odit magnam ut saepe sed non qui\\ntempora atque nihil\\naccusamus illum doloribus illo dolor\\neligendi repudiandae odit magni similique sed cum maiores\"\n",
      "  },\n",
      "  {\n",
      "    \"userId\": 3,\n",
      "    \"id\": 30,\n",
      "    \"title\": \"a quo magni similique perferendis\",\n",
      "    \"body\": \"alias dolor cumque\\nimpedit blanditiis non eveniet odio maxime\\nblanditiis amet eius quis tempora quia autem rem\\na provident perspiciatis quia\"\n",
      "  },\n",
      "  {\n",
      "    \"userId\": 4,\n",
      "    \"id\": 31,\n",
      "    \"title\": \"ullam ut quidem id aut vel consequuntur\",\n",
      "    \"body\": \"debitis eius sed quibusdam non quis consectetur vitae\\nimpedit ut qui consequatur sed aut in\\nquidem sit nostrum et maiores adipisci atque\\nquaerat voluptatem adipisci repudiandae\"\n",
      "  },\n",
      "  {\n",
      "    \"userId\": 4,\n",
      "    \"id\": 32,\n",
      "    \"title\": \"doloremque illum aliquid sunt\",\n",
      "    \"body\": \"deserunt eos nobis asperiores et hic\\nest debitis repellat molestiae optio\\nnihil ratione ut eos beatae quibusdam distinctio maiores\\nearum voluptates et aut adipisci ea maiores voluptas maxime\"\n",
      "  },\n",
      "  {\n",
      "    \"userId\": 4,\n",
      "    \"id\": 33,\n",
      "    \"title\": \"qui explicabo molestiae dolorem\",\n",
      "    \"body\": \"rerum ut et numquam laborum odit est sit\\nid qui sint in\\nquasi tenetur tempore aperiam et quaerat qui in\\nrerum officiis sequi cumque quod\"\n",
      "  },\n",
      "  {\n",
      "    \"userId\": 4,\n",
      "    \"id\": 34,\n",
      "    \"title\": \"magnam ut rerum iure\",\n",
      "    \"body\": \"ea velit perferendis earum ut voluptatem voluptate itaque iusto\\ntotam pariatur in\\nnemo voluptatem voluptatem autem magni tempora minima in\\nest distinctio qui assumenda accusamus dignissimos officia nesciunt nobis\"\n",
      "  },\n",
      "  {\n",
      "    \"userId\": 4,\n",
      "    \"id\": 35,\n",
      "    \"title\": \"id nihil consequatur molestias animi provident\",\n",
      "    \"body\": \"nisi error delectus possimus ut eligendi vitae\\nplaceat eos harum cupiditate facilis reprehenderit voluptatem beatae\\nmodi ducimus quo illum voluptas eligendi\\net nobis quia fugit\"\n",
      "  },\n",
      "  {\n",
      "    \"userId\": 4,\n",
      "    \"id\": 36,\n",
      "    \"title\": \"fuga nam accusamus voluptas reiciendis itaque\",\n",
      "    \"body\": \"ad mollitia et omnis minus architecto odit\\nvoluptas doloremque maxime aut non ipsa qui alias veniam\\nblanditiis culpa aut quia nihil cumque facere et occaecati\\nqui aspernatur quia eaque ut aperiam inventore\"\n",
      "  },\n",
      "  {\n",
      "    \"userId\": 4,\n",
      "    \"id\": 37,\n",
      "    \"title\": \"provident vel ut sit ratione est\",\n",
      "    \"body\": \"debitis et eaque non officia sed nesciunt pariatur vel\\nvoluptatem iste vero et ea\\nnumquam aut expedita ipsum nulla in\\nvoluptates omnis consequatur aut enim officiis in quam qui\"\n",
      "  },\n",
      "  {\n",
      "    \"userId\": 4,\n",
      "    \"id\": 38,\n",
      "    \"title\": \"explicabo et eos deleniti nostrum ab id repellendus\",\n",
      "    \"body\": \"animi esse sit aut sit nesciunt assumenda eum voluptas\\nquia voluptatibus provident quia necessitatibus ea\\nrerum repudiandae quia voluptatem delectus fugit aut id quia\\nratione optio eos iusto veniam iure\"\n",
      "  },\n",
      "  {\n",
      "    \"userId\": 4,\n",
      "    \"id\": 39,\n",
      "    \"title\": \"eos dolorem iste accusantium est eaque quam\",\n",
      "    \"body\": \"corporis rerum ducimus vel eum accusantium\\nmaxime aspernatur a porro possimus iste omnis\\nest in deleniti asperiores fuga aut\\nvoluptas sapiente vel dolore minus voluptatem incidunt ex\"\n",
      "  },\n",
      "  {\n",
      "    \"userId\": 4,\n",
      "    \"id\": 40,\n",
      "    \"title\": \"enim quo cumque\",\n",
      "    \"body\": \"ut voluptatum aliquid illo tenetur nemo sequi quo facilis\\nipsum rem optio mollitia quas\\nvoluptatem eum voluptas qui\\nunde omnis voluptatem iure quasi maxime voluptas nam\"\n",
      "  },\n",
      "  {\n",
      "    \"userId\": 5,\n",
      "    \"id\": 41,\n",
      "    \"title\": \"non est facere\",\n",
      "    \"body\": \"molestias id nostrum\\nexcepturi molestiae dolore omnis repellendus quaerat saepe\\nconsectetur iste quaerat tenetur asperiores accusamus ex ut\\nnam quidem est ducimus sunt debitis saepe\"\n",
      "  },\n",
      "  {\n",
      "    \"userId\": 5,\n",
      "    \"id\": 42,\n",
      "    \"title\": \"commodi ullam sint et excepturi error explicabo praesentium voluptas\",\n",
      "    \"body\": \"odio fugit voluptatum ducimus earum autem est incidunt voluptatem\\nodit reiciendis aliquam sunt sequi nulla dolorem\\nnon facere repellendus voluptates quia\\nratione harum vitae ut\"\n",
      "  },\n",
      "  {\n",
      "    \"userId\": 5,\n",
      "    \"id\": 43,\n",
      "    \"title\": \"eligendi iste nostrum consequuntur adipisci praesentium sit beatae perferendis\",\n",
      "    \"body\": \"similique fugit est\\nillum et dolorum harum et voluptate eaque quidem\\nexercitationem quos nam commodi possimus cum odio nihil nulla\\ndolorum exercitationem magnam ex et a et distinctio debitis\"\n",
      "  },\n",
      "  {\n",
      "    \"userId\": 5,\n",
      "    \"id\": 44,\n",
      "    \"title\": \"optio dolor molestias sit\",\n",
      "    \"body\": \"temporibus est consectetur dolore\\net libero debitis vel velit laboriosam quia\\nipsum quibusdam qui itaque fuga rem aut\\nea et iure quam sed maxime ut distinctio quae\"\n",
      "  },\n",
      "  {\n",
      "    \"userId\": 5,\n",
      "    \"id\": 45,\n",
      "    \"title\": \"ut numquam possimus omnis eius suscipit laudantium iure\",\n",
      "    \"body\": \"est natus reiciendis nihil possimus aut provident\\nex et dolor\\nrepellat pariatur est\\nnobis rerum repellendus dolorem autem\"\n",
      "  },\n",
      "  {\n",
      "    \"userId\": 5,\n",
      "    \"id\": 46,\n",
      "    \"title\": \"aut quo modi neque nostrum ducimus\",\n",
      "    \"body\": \"voluptatem quisquam iste\\nvoluptatibus natus officiis facilis dolorem\\nquis quas ipsam\\nvel et voluptatum in aliquid\"\n",
      "  },\n",
      "  {\n",
      "    \"userId\": 5,\n",
      "    \"id\": 47,\n",
      "    \"title\": \"quibusdam cumque rem aut deserunt\",\n",
      "    \"body\": \"voluptatem assumenda ut qui ut cupiditate aut impedit veniam\\noccaecati nemo illum voluptatem laudantium\\nmolestiae beatae rerum ea iure soluta nostrum\\neligendi et voluptate\"\n",
      "  },\n",
      "  {\n",
      "    \"userId\": 5,\n",
      "    \"id\": 48,\n",
      "    \"title\": \"ut voluptatem illum ea doloribus itaque eos\",\n",
      "    \"body\": \"voluptates quo voluptatem facilis iure occaecati\\nvel assumenda rerum officia et\\nillum perspiciatis ab deleniti\\nlaudantium repellat ad ut et autem reprehenderit\"\n",
      "  },\n",
      "  {\n",
      "    \"userId\": 5,\n",
      "    \"id\": 49,\n",
      "    \"title\": \"laborum non sunt aut ut assumenda perspiciatis voluptas\",\n",
      "    \"body\": \"inventore ab sint\\nnatus fugit id nulla sequi architecto nihil quaerat\\neos tenetur in in eum veritatis non\\nquibusdam officiis aspernatur cumque aut commodi aut\"\n",
      "  },\n",
      "  {\n",
      "    \"userId\": 5,\n",
      "    \"id\": 50,\n",
      "    \"title\": \"repellendus qui recusandae incidunt voluptates tenetur qui omnis exercitationem\",\n",
      "    \"body\": \"error suscipit maxime adipisci consequuntur recusandae\\nvoluptas eligendi et est et voluptates\\nquia distinctio ab amet quaerat molestiae et vitae\\nadipisci impedit sequi nesciunt quis consectetur\"\n",
      "  },\n",
      "  {\n",
      "    \"userId\": 6,\n",
      "    \"id\": 51,\n",
      "    \"title\": \"soluta aliquam aperiam consequatur illo quis voluptas\",\n",
      "    \"body\": \"sunt dolores aut doloribus\\ndolore doloribus voluptates tempora et\\ndoloremque et quo\\ncum asperiores sit consectetur dolorem\"\n",
      "  },\n",
      "  {\n",
      "    \"userId\": 6,\n",
      "    \"id\": 52,\n",
      "    \"title\": \"qui enim et consequuntur quia animi quis voluptate quibusdam\",\n",
      "    \"body\": \"iusto est quibusdam fuga quas quaerat molestias\\na enim ut sit accusamus enim\\ntemporibus iusto accusantium provident architecto\\nsoluta esse reprehenderit qui laborum\"\n",
      "  },\n",
      "  {\n",
      "    \"userId\": 6,\n",
      "    \"id\": 53,\n",
      "    \"title\": \"ut quo aut ducimus alias\",\n",
      "    \"body\": \"minima harum praesentium eum rerum illo dolore\\nquasi exercitationem rerum nam\\nporro quis neque quo\\nconsequatur minus dolor quidem veritatis sunt non explicabo similique\"\n",
      "  },\n",
      "  {\n",
      "    \"userId\": 6,\n",
      "    \"id\": 54,\n",
      "    \"title\": \"sit asperiores ipsam eveniet odio non quia\",\n",
      "    \"body\": \"totam corporis dignissimos\\nvitae dolorem ut occaecati accusamus\\nex velit deserunt\\net exercitationem vero incidunt corrupti mollitia\"\n",
      "  },\n",
      "  {\n",
      "    \"userId\": 6,\n",
      "    \"id\": 55,\n",
      "    \"title\": \"sit vel voluptatem et non libero\",\n",
      "    \"body\": \"debitis excepturi ea perferendis harum libero optio\\neos accusamus cum fuga ut sapiente repudiandae\\net ut incidunt omnis molestiae\\nnihil ut eum odit\"\n",
      "  },\n",
      "  {\n",
      "    \"userId\": 6,\n",
      "    \"id\": 56,\n",
      "    \"title\": \"qui et at rerum necessitatibus\",\n",
      "    \"body\": \"aut est omnis dolores\\nneque rerum quod ea rerum velit pariatur beatae excepturi\\net provident voluptas corrupti\\ncorporis harum reprehenderit dolores eligendi\"\n",
      "  },\n",
      "  {\n",
      "    \"userId\": 6,\n",
      "    \"id\": 57,\n",
      "    \"title\": \"sed ab est est\",\n",
      "    \"body\": \"at pariatur consequuntur earum quidem\\nquo est laudantium soluta voluptatem\\nqui ullam et est\\net cum voluptas voluptatum repellat est\"\n",
      "  },\n",
      "  {\n",
      "    \"userId\": 6,\n",
      "    \"id\": 58,\n",
      "    \"title\": \"voluptatum itaque dolores nisi et quasi\",\n",
      "    \"body\": \"veniam voluptatum quae adipisci id\\net id quia eos ad et dolorem\\naliquam quo nisi sunt eos impedit error\\nad similique veniam\"\n",
      "  },\n",
      "  {\n",
      "    \"userId\": 6,\n",
      "    \"id\": 59,\n",
      "    \"title\": \"qui commodi dolor at maiores et quis id accusantium\",\n",
      "    \"body\": \"perspiciatis et quam ea autem temporibus non voluptatibus qui\\nbeatae a earum officia nesciunt dolores suscipit voluptas et\\nanimi doloribus cum rerum quas et magni\\net hic ut ut commodi expedita sunt\"\n",
      "  },\n",
      "  {\n",
      "    \"userId\": 6,\n",
      "    \"id\": 60,\n",
      "    \"title\": \"consequatur placeat omnis quisquam quia reprehenderit fugit veritatis facere\",\n",
      "    \"body\": \"asperiores sunt ab assumenda cumque modi velit\\nqui esse omnis\\nvoluptate et fuga perferendis voluptas\\nillo ratione amet aut et omnis\"\n",
      "  },\n",
      "  {\n",
      "    \"userId\": 7,\n",
      "    \"id\": 61,\n",
      "    \"title\": \"voluptatem doloribus consectetur est ut ducimus\",\n",
      "    \"body\": \"ab nemo optio odio\\ndelectus tenetur corporis similique nobis repellendus rerum omnis facilis\\nvero blanditiis debitis in nesciunt doloribus dicta dolores\\nmagnam minus velit\"\n",
      "  },\n",
      "  {\n",
      "    \"userId\": 7,\n",
      "    \"id\": 62,\n",
      "    \"title\": \"beatae enim quia vel\",\n",
      "    \"body\": \"enim aspernatur illo distinctio quae praesentium\\nbeatae alias amet delectus qui voluptate distinctio\\nodit sint accusantium autem omnis\\nquo molestiae omnis ea eveniet optio\"\n",
      "  },\n",
      "  {\n",
      "    \"userId\": 7,\n",
      "    \"id\": 63,\n",
      "    \"title\": \"voluptas blanditiis repellendus animi ducimus error sapiente et suscipit\",\n",
      "    \"body\": \"enim adipisci aspernatur nemo\\nnumquam omnis facere dolorem dolor ex quis temporibus incidunt\\nab delectus culpa quo reprehenderit blanditiis asperiores\\naccusantium ut quam in voluptatibus voluptas ipsam dicta\"\n",
      "  },\n",
      "  {\n",
      "    \"userId\": 7,\n",
      "    \"id\": 64,\n",
      "    \"title\": \"et fugit quas eum in in aperiam quod\",\n",
      "    \"body\": \"id velit blanditiis\\neum ea voluptatem\\nmolestiae sint occaecati est eos perspiciatis\\nincidunt a error provident eaque aut aut qui\"\n",
      "  },\n",
      "  {\n",
      "    \"userId\": 7,\n",
      "    \"id\": 65,\n",
      "    \"title\": \"consequatur id enim sunt et et\",\n",
      "    \"body\": \"voluptatibus ex esse\\nsint explicabo est aliquid cumque adipisci fuga repellat labore\\nmolestiae corrupti ex saepe at asperiores et perferendis\\nnatus id esse incidunt pariatur\"\n",
      "  },\n",
      "  {\n",
      "    \"userId\": 7,\n",
      "    \"id\": 66,\n",
      "    \"title\": \"repudiandae ea animi iusto\",\n",
      "    \"body\": \"officia veritatis tenetur vero qui itaque\\nsint non ratione\\nsed et ut asperiores iusto eos molestiae nostrum\\nveritatis quibusdam et nemo iusto saepe\"\n",
      "  },\n",
      "  {\n",
      "    \"userId\": 7,\n",
      "    \"id\": 67,\n",
      "    \"title\": \"aliquid eos sed fuga est maxime repellendus\",\n",
      "    \"body\": \"reprehenderit id nostrum\\nvoluptas doloremque pariatur sint et accusantium quia quod aspernatur\\net fugiat amet\\nnon sapiente et consequatur necessitatibus molestiae\"\n",
      "  },\n",
      "  {\n",
      "    \"userId\": 7,\n",
      "    \"id\": 68,\n",
      "    \"title\": \"odio quis facere architecto reiciendis optio\",\n",
      "    \"body\": \"magnam molestiae perferendis quisquam\\nqui cum reiciendis\\nquaerat animi amet hic inventore\\nea quia deleniti quidem saepe porro velit\"\n",
      "  },\n",
      "  {\n",
      "    \"userId\": 7,\n",
      "    \"id\": 69,\n",
      "    \"title\": \"fugiat quod pariatur odit minima\",\n",
      "    \"body\": \"officiis error culpa consequatur modi asperiores et\\ndolorum assumenda voluptas et vel qui aut vel rerum\\nvoluptatum quisquam perspiciatis quia rerum consequatur totam quas\\nsequi commodi repudiandae asperiores et saepe a\"\n",
      "  },\n",
      "  {\n",
      "    \"userId\": 7,\n",
      "    \"id\": 70,\n",
      "    \"title\": \"voluptatem laborum magni\",\n",
      "    \"body\": \"sunt repellendus quae\\nest asperiores aut deleniti esse accusamus repellendus quia aut\\nquia dolorem unde\\neum tempora esse dolore\"\n",
      "  },\n",
      "  {\n",
      "    \"userId\": 8,\n",
      "    \"id\": 71,\n",
      "    \"title\": \"et iusto veniam et illum aut fuga\",\n",
      "    \"body\": \"occaecati a doloribus\\niste saepe consectetur placeat eum voluptate dolorem et\\nqui quo quia voluptas\\nrerum ut id enim velit est perferendis\"\n",
      "  },\n",
      "  {\n",
      "    \"userId\": 8,\n",
      "    \"id\": 72,\n",
      "    \"title\": \"sint hic doloribus consequatur eos non id\",\n",
      "    \"body\": \"quam occaecati qui deleniti consectetur\\nconsequatur aut facere quas exercitationem aliquam hic voluptas\\nneque id sunt ut aut accusamus\\nsunt consectetur expedita inventore velit\"\n",
      "  },\n",
      "  {\n",
      "    \"userId\": 8,\n",
      "    \"id\": 73,\n",
      "    \"title\": \"consequuntur deleniti eos quia temporibus ab aliquid at\",\n",
      "    \"body\": \"voluptatem cumque tenetur consequatur expedita ipsum nemo quia explicabo\\naut eum minima consequatur\\ntempore cumque quae est et\\net in consequuntur voluptatem voluptates aut\"\n",
      "  },\n",
      "  {\n",
      "    \"userId\": 8,\n",
      "    \"id\": 74,\n",
      "    \"title\": \"enim unde ratione doloribus quas enim ut sit sapiente\",\n",
      "    \"body\": \"odit qui et et necessitatibus sint veniam\\nmollitia amet doloremque molestiae commodi similique magnam et quam\\nblanditiis est itaque\\nquo et tenetur ratione occaecati molestiae tempora\"\n",
      "  },\n",
      "  {\n",
      "    \"userId\": 8,\n",
      "    \"id\": 75,\n",
      "    \"title\": \"dignissimos eum dolor ut enim et delectus in\",\n",
      "    \"body\": \"commodi non non omnis et voluptas sit\\nautem aut nobis magnam et sapiente voluptatem\\net laborum repellat qui delectus facilis temporibus\\nrerum amet et nemo voluptate expedita adipisci error dolorem\"\n",
      "  },\n",
      "  {\n",
      "    \"userId\": 8,\n",
      "    \"id\": 76,\n",
      "    \"title\": \"doloremque officiis ad et non perferendis\",\n",
      "    \"body\": \"ut animi facere\\ntotam iusto tempore\\nmolestiae eum aut et dolorem aperiam\\nquaerat recusandae totam odio\"\n",
      "  },\n",
      "  {\n",
      "    \"userId\": 8,\n",
      "    \"id\": 77,\n",
      "    \"title\": \"necessitatibus quasi exercitationem odio\",\n",
      "    \"body\": \"modi ut in nulla repudiandae dolorum nostrum eos\\naut consequatur omnis\\nut incidunt est omnis iste et quam\\nvoluptates sapiente aliquam asperiores nobis amet corrupti repudiandae provident\"\n",
      "  },\n",
      "  {\n",
      "    \"userId\": 8,\n",
      "    \"id\": 78,\n",
      "    \"title\": \"quam voluptatibus rerum veritatis\",\n",
      "    \"body\": \"nobis facilis odit tempore cupiditate quia\\nassumenda doloribus rerum qui ea\\nillum et qui totam\\naut veniam repellendus\"\n",
      "  },\n",
      "  {\n",
      "    \"userId\": 8,\n",
      "    \"id\": 79,\n",
      "    \"title\": \"pariatur consequatur quia magnam autem omnis non amet\",\n",
      "    \"body\": \"libero accusantium et et facere incidunt sit dolorem\\nnon excepturi qui quia sed laudantium\\nquisquam molestiae ducimus est\\nofficiis esse molestiae iste et quos\"\n",
      "  },\n",
      "  {\n",
      "    \"userId\": 8,\n",
      "    \"id\": 80,\n",
      "    \"title\": \"labore in ex et explicabo corporis aut quas\",\n",
      "    \"body\": \"ex quod dolorem ea eum iure qui provident amet\\nquia qui facere excepturi et repudiandae\\nasperiores molestias provident\\nminus incidunt vero fugit rerum sint sunt excepturi provident\"\n",
      "  },\n",
      "  {\n",
      "    \"userId\": 9,\n",
      "    \"id\": 81,\n",
      "    \"title\": \"tempora rem veritatis voluptas quo dolores vero\",\n",
      "    \"body\": \"facere qui nesciunt est voluptatum voluptatem nisi\\nsequi eligendi necessitatibus ea at rerum itaque\\nharum non ratione velit laboriosam quis consequuntur\\nex officiis minima doloremque voluptas ut aut\"\n",
      "  },\n",
      "  {\n",
      "    \"userId\": 9,\n",
      "    \"id\": 82,\n",
      "    \"title\": \"laudantium voluptate suscipit sunt enim enim\",\n",
      "    \"body\": \"ut libero sit aut totam inventore sunt\\nporro sint qui sunt molestiae\\nconsequatur cupiditate qui iste ducimus adipisci\\ndolor enim assumenda soluta laboriosam amet iste delectus hic\"\n",
      "  },\n",
      "  {\n",
      "    \"userId\": 9,\n",
      "    \"id\": 83,\n",
      "    \"title\": \"odit et voluptates doloribus alias odio et\",\n",
      "    \"body\": \"est molestiae facilis quis tempora numquam nihil qui\\nvoluptate sapiente consequatur est qui\\nnecessitatibus autem aut ipsa aperiam modi dolore numquam\\nreprehenderit eius rem quibusdam\"\n",
      "  },\n",
      "  {\n",
      "    \"userId\": 9,\n",
      "    \"id\": 84,\n",
      "    \"title\": \"optio ipsam molestias necessitatibus occaecati facilis veritatis dolores aut\",\n",
      "    \"body\": \"sint molestiae magni a et quos\\neaque et quasi\\nut rerum debitis similique veniam\\nrecusandae dignissimos dolor incidunt consequatur odio\"\n",
      "  },\n",
      "  {\n",
      "    \"userId\": 9,\n",
      "    \"id\": 85,\n",
      "    \"title\": \"dolore veritatis porro provident adipisci blanditiis et sunt\",\n",
      "    \"body\": \"similique sed nisi voluptas iusto omnis\\nmollitia et quo\\nassumenda suscipit officia magnam sint sed tempora\\nenim provident pariatur praesentium atque animi amet ratione\"\n",
      "  },\n",
      "  {\n",
      "    \"userId\": 9,\n",
      "    \"id\": 86,\n",
      "    \"title\": \"placeat quia et porro iste\",\n",
      "    \"body\": \"quasi excepturi consequatur iste autem temporibus sed molestiae beatae\\net quaerat et esse ut\\nvoluptatem occaecati et vel explicabo autem\\nasperiores pariatur deserunt optio\"\n",
      "  },\n",
      "  {\n",
      "    \"userId\": 9,\n",
      "    \"id\": 87,\n",
      "    \"title\": \"nostrum quis quasi placeat\",\n",
      "    \"body\": \"eos et molestiae\\nnesciunt ut a\\ndolores perspiciatis repellendus repellat aliquid\\nmagnam sint rem ipsum est\"\n",
      "  },\n",
      "  {\n",
      "    \"userId\": 9,\n",
      "    \"id\": 88,\n",
      "    \"title\": \"sapiente omnis fugit eos\",\n",
      "    \"body\": \"consequatur omnis est praesentium\\nducimus non iste\\nneque hic deserunt\\nvoluptatibus veniam cum et rerum sed\"\n",
      "  },\n",
      "  {\n",
      "    \"userId\": 9,\n",
      "    \"id\": 89,\n",
      "    \"title\": \"sint soluta et vel magnam aut ut sed qui\",\n",
      "    \"body\": \"repellat aut aperiam totam temporibus autem et\\narchitecto magnam ut\\nconsequatur qui cupiditate rerum quia soluta dignissimos nihil iure\\ntempore quas est\"\n",
      "  },\n",
      "  {\n",
      "    \"userId\": 9,\n",
      "    \"id\": 90,\n",
      "    \"title\": \"ad iusto omnis odit dolor voluptatibus\",\n",
      "    \"body\": \"minus omnis soluta quia\\nqui sed adipisci voluptates illum ipsam voluptatem\\neligendi officia ut in\\neos soluta similique molestias praesentium blanditiis\"\n",
      "  },\n",
      "  {\n",
      "    \"userId\": 10,\n",
      "    \"id\": 91,\n",
      "    \"title\": \"aut amet sed\",\n",
      "    \"body\": \"libero voluptate eveniet aperiam sed\\nsunt placeat suscipit molestias\\nsimilique fugit nam natus\\nexpedita consequatur consequatur dolores quia eos et placeat\"\n",
      "  },\n",
      "  {\n",
      "    \"userId\": 10,\n",
      "    \"id\": 92,\n",
      "    \"title\": \"ratione ex tenetur perferendis\",\n",
      "    \"body\": \"aut et excepturi dicta laudantium sint rerum nihil\\nlaudantium et at\\na neque minima officia et similique libero et\\ncommodi voluptate qui\"\n",
      "  },\n",
      "  {\n",
      "    \"userId\": 10,\n",
      "    \"id\": 93,\n",
      "    \"title\": \"beatae soluta recusandae\",\n",
      "    \"body\": \"dolorem quibusdam ducimus consequuntur dicta aut quo laboriosam\\nvoluptatem quis enim recusandae ut sed sunt\\nnostrum est odit totam\\nsit error sed sunt eveniet provident qui nulla\"\n",
      "  },\n",
      "  {\n",
      "    \"userId\": 10,\n",
      "    \"id\": 94,\n",
      "    \"title\": \"qui qui voluptates illo iste minima\",\n",
      "    \"body\": \"aspernatur expedita soluta quo ab ut similique\\nexpedita dolores amet\\nsed temporibus distinctio magnam saepe deleniti\\nomnis facilis nam ipsum natus sint similique omnis\"\n",
      "  },\n",
      "  {\n",
      "    \"userId\": 10,\n",
      "    \"id\": 95,\n",
      "    \"title\": \"id minus libero illum nam ad officiis\",\n",
      "    \"body\": \"earum voluptatem facere provident blanditiis velit laboriosam\\npariatur accusamus odio saepe\\ncumque dolor qui a dicta ab doloribus consequatur omnis\\ncorporis cupiditate eaque assumenda ad nesciunt\"\n",
      "  },\n",
      "  {\n",
      "    \"userId\": 10,\n",
      "    \"id\": 96,\n",
      "    \"title\": \"quaerat velit veniam amet cupiditate aut numquam ut sequi\",\n",
      "    \"body\": \"in non odio excepturi sint eum\\nlabore voluptates vitae quia qui et\\ninventore itaque rerum\\nveniam non exercitationem delectus aut\"\n",
      "  },\n",
      "  {\n",
      "    \"userId\": 10,\n",
      "    \"id\": 97,\n",
      "    \"title\": \"quas fugiat ut perspiciatis vero provident\",\n",
      "    \"body\": \"eum non blanditiis soluta porro quibusdam voluptas\\nvel voluptatem qui placeat dolores qui velit aut\\nvel inventore aut cumque culpa explicabo aliquid at\\nperspiciatis est et voluptatem dignissimos dolor itaque sit nam\"\n",
      "  },\n",
      "  {\n",
      "    \"userId\": 10,\n",
      "    \"id\": 98,\n",
      "    \"title\": \"laboriosam dolor voluptates\",\n",
      "    \"body\": \"doloremque ex facilis sit sint culpa\\nsoluta assumenda eligendi non ut eius\\nsequi ducimus vel quasi\\nveritatis est dolores\"\n",
      "  },\n",
      "  {\n",
      "    \"userId\": 10,\n",
      "    \"id\": 99,\n",
      "    \"title\": \"temporibus sit alias delectus eligendi possimus magni\",\n",
      "    \"body\": \"quo deleniti praesentium dicta non quod\\naut est molestias\\nmolestias et officia quis nihil\\nitaque dolorem quia\"\n",
      "  },\n",
      "  {\n",
      "    \"userId\": 10,\n",
      "    \"id\": 100,\n",
      "    \"title\": \"at nam consequatur ea labore ea harum\",\n",
      "    \"body\": \"cupiditate quo est a modi nesciunt soluta\\nipsa voluptas error itaque dicta in\\nautem qui minus magnam et distinctio eum\\naccusamus ratione error aut\"\n",
      "  }\n",
      "]\n"
     ]
    }
   ],
   "source": [
    "import requests\n",
    "\n",
    "# Example: Fetching data from a public API (JSONPlaceholder)\n",
    "response = requests.get('https://jsonplaceholder.typicode.com/posts')\n",
    "\n",
    "# Check if the request was successful\n",
    "if response.status_code == 200:\n",
    "    print('Success!')\n",
    "    print(response.text)  # Print the response as text\n",
    "else:\n",
    "    print(f'Failed with status code: {response.status_code}')"
   ]
  },
  {
   "cell_type": "code",
   "execution_count": 4,
   "id": "3485449a-be7f-47d6-91fa-45e57a394835",
   "metadata": {},
   "outputs": [
    {
     "data": {
      "text/plain": [
       "str"
      ]
     },
     "execution_count": 4,
     "metadata": {},
     "output_type": "execute_result"
    }
   ],
   "source": [
    "type(response.text)"
   ]
  },
  {
   "cell_type": "markdown",
   "id": "c444054a-6f57-453b-9d4b-e073181dc5aa",
   "metadata": {},
   "source": [
    "<br>    \n",
    "\n",
    "<span style=\"background-color:yellow;\">**Key Points:**</span>    \n",
    "- **response.status_code:** HTTP status code. 200 means success.\n",
    "- **response.text:** The raw content of the response in text form.\n",
    "- **response.json():** If the response is in JSON format, you can parse it using .json() to get a Python dictionary (covered in the next section)."
   ]
  },
  {
   "cell_type": "markdown",
   "id": "da6d51ef-3322-496e-9be7-17c0b1dead24",
   "metadata": {},
   "source": [
    "<span style=\"background-color:yellow;\">**Example: Response Code**</span>       \n",
    "- **200 OK:** The request was successful, and the API returned a valid response.\n",
    "- **400 Bad Request:** The request was invalid or malformed, and the API couldn't process it.\n",
    "- **401 Unauthorized:** The request was unauthorized, and the API requires authentication or a valid token.\n",
    "- **404 Not Found:** The requested resource was not found, and the API returned a 404 error.\n",
    "- **500 Internal Server Error:** The API encountered an internal error and couldn't fulfill the request."
   ]
  },
  {
   "cell_type": "code",
   "execution_count": null,
   "id": "cafece53-8d99-45eb-a8fc-5605d03db197",
   "metadata": {},
   "outputs": [],
   "source": []
  },
  {
   "cell_type": "markdown",
   "id": "569bdffe-1543-4d0a-9ada-aeefca8aba65",
   "metadata": {},
   "source": [
    "#### <span style=\"color:blue; background-color:yellow;\">Converting the JSON Response into the Tabular Data using Pandas</span>"
   ]
  },
  {
   "cell_type": "code",
   "execution_count": 11,
   "id": "4290e962-e9df-4c7c-8eaf-0c9606f83a23",
   "metadata": {},
   "outputs": [
    {
     "name": "stdout",
     "output_type": "stream",
     "text": [
      "Success!\n",
      "   userId  id                                              title  \\\n",
      "0       1   1  sunt aut facere repellat provident occaecati e...   \n",
      "1       1   2                                       qui est esse   \n",
      "2       1   3  ea molestias quasi exercitationem repellat qui...   \n",
      "3       1   4                               eum et est occaecati   \n",
      "4       1   5                                 nesciunt quas odio   \n",
      "\n",
      "                                                body  \n",
      "0  quia et suscipit\\nsuscipit recusandae consequu...  \n",
      "1  est rerum tempore vitae\\nsequi sint nihil repr...  \n",
      "2  et iusto sed quo iure\\nvoluptatem occaecati om...  \n",
      "3  ullam et saepe reiciendis voluptatem adipisci\\...  \n",
      "4  repudiandae veniam quaerat sunt sed\\nalias aut...  \n"
     ]
    }
   ],
   "source": [
    "import requests\n",
    "import pandas as pd\n",
    "\n",
    "# Fetching data from a public API (JSONPlaceholder)\n",
    "response = requests.get('https://jsonplaceholder.typicode.com/posts')\n",
    "\n",
    "# Check if the request was successful\n",
    "if response.status_code == 200:\n",
    "    print('Success!')\n",
    "    \n",
    "    # Parse the response as JSON\n",
    "    posts_json = response.json()\n",
    "\n",
    "    # Convert the JSON data to a pandas DataFrame\n",
    "    df = pd.DataFrame(posts_json)\n",
    "\n",
    "    # Display the DataFrame\n",
    "    print(df.head())  # Show the first few rows for quick inspection\n",
    "else:\n",
    "    print(f'Failed with status code: {response.status_code}')"
   ]
  },
  {
   "cell_type": "markdown",
   "id": "1b3b2f28-6908-46f5-8e44-d832e8801157",
   "metadata": {},
   "source": [
    "       "
   ]
  },
  {
   "cell_type": "code",
   "execution_count": 13,
   "id": "0c0dd54c-0123-41b2-9e64-713a733c4c56",
   "metadata": {},
   "outputs": [
    {
     "data": {
      "text/html": [
       "<div>\n",
       "<style scoped>\n",
       "    .dataframe tbody tr th:only-of-type {\n",
       "        vertical-align: middle;\n",
       "    }\n",
       "\n",
       "    .dataframe tbody tr th {\n",
       "        vertical-align: top;\n",
       "    }\n",
       "\n",
       "    .dataframe thead th {\n",
       "        text-align: right;\n",
       "    }\n",
       "</style>\n",
       "<table border=\"1\" class=\"dataframe\">\n",
       "  <thead>\n",
       "    <tr style=\"text-align: right;\">\n",
       "      <th></th>\n",
       "      <th>userId</th>\n",
       "      <th>id</th>\n",
       "      <th>title</th>\n",
       "      <th>body</th>\n",
       "    </tr>\n",
       "  </thead>\n",
       "  <tbody>\n",
       "    <tr>\n",
       "      <th>0</th>\n",
       "      <td>1</td>\n",
       "      <td>1</td>\n",
       "      <td>sunt aut facere repellat provident occaecati e...</td>\n",
       "      <td>quia et suscipit\\nsuscipit recusandae consequu...</td>\n",
       "    </tr>\n",
       "    <tr>\n",
       "      <th>1</th>\n",
       "      <td>1</td>\n",
       "      <td>2</td>\n",
       "      <td>qui est esse</td>\n",
       "      <td>est rerum tempore vitae\\nsequi sint nihil repr...</td>\n",
       "    </tr>\n",
       "    <tr>\n",
       "      <th>2</th>\n",
       "      <td>1</td>\n",
       "      <td>3</td>\n",
       "      <td>ea molestias quasi exercitationem repellat qui...</td>\n",
       "      <td>et iusto sed quo iure\\nvoluptatem occaecati om...</td>\n",
       "    </tr>\n",
       "    <tr>\n",
       "      <th>3</th>\n",
       "      <td>1</td>\n",
       "      <td>4</td>\n",
       "      <td>eum et est occaecati</td>\n",
       "      <td>ullam et saepe reiciendis voluptatem adipisci\\...</td>\n",
       "    </tr>\n",
       "    <tr>\n",
       "      <th>4</th>\n",
       "      <td>1</td>\n",
       "      <td>5</td>\n",
       "      <td>nesciunt quas odio</td>\n",
       "      <td>repudiandae veniam quaerat sunt sed\\nalias aut...</td>\n",
       "    </tr>\n",
       "  </tbody>\n",
       "</table>\n",
       "</div>"
      ],
      "text/plain": [
       "   userId  id                                              title  \\\n",
       "0       1   1  sunt aut facere repellat provident occaecati e...   \n",
       "1       1   2                                       qui est esse   \n",
       "2       1   3  ea molestias quasi exercitationem repellat qui...   \n",
       "3       1   4                               eum et est occaecati   \n",
       "4       1   5                                 nesciunt quas odio   \n",
       "\n",
       "                                                body  \n",
       "0  quia et suscipit\\nsuscipit recusandae consequu...  \n",
       "1  est rerum tempore vitae\\nsequi sint nihil repr...  \n",
       "2  et iusto sed quo iure\\nvoluptatem occaecati om...  \n",
       "3  ullam et saepe reiciendis voluptatem adipisci\\...  \n",
       "4  repudiandae veniam quaerat sunt sed\\nalias aut...  "
      ]
     },
     "execution_count": 13,
     "metadata": {},
     "output_type": "execute_result"
    }
   ],
   "source": [
    "# For Example: Let's pick first 5 rows\n",
    "df.head()"
   ]
  },
  {
   "cell_type": "code",
   "execution_count": null,
   "id": "ad0b37a3-2c97-4870-bc9b-6fe70447d417",
   "metadata": {},
   "outputs": [],
   "source": []
  },
  {
   "cell_type": "markdown",
   "id": "07979d2f-c831-43e4-a3d6-546b9c257c01",
   "metadata": {},
   "source": [
    "#### <span style=\"color:blue; background-color:yellow;\">Using ```json module``` and manual parsing:</span>"
   ]
  },
  {
   "cell_type": "code",
   "execution_count": 20,
   "id": "fdf6edeb-3065-4e29-a5ec-0ee1b3243748",
   "metadata": {},
   "outputs": [
    {
     "name": "stdout",
     "output_type": "stream",
     "text": [
      "Success!\n",
      "ID    UserID  Title                          Body                                              \n",
      "------------------------------------------------------------------------------------------\n",
      "1     1       sunt aut facere repellat provident occaecati excepturi optio reprehenderit quia et suscipit\n",
      "suscipit recusandae consequuntur \n",
      "2     1       qui est esse                   est rerum tempore vitae\n",
      "sequi sint nihil reprehend\n",
      "3     1       ea molestias quasi exercitationem repellat qui ipsa sit aut et iusto sed quo iure\n",
      "voluptatem occaecati omnis e\n",
      "4     1       eum et est occaecati           ullam et saepe reiciendis voluptatem adipisci\n",
      "sit \n",
      "5     1       nesciunt quas odio             repudiandae veniam quaerat sunt sed\n",
      "alias aut fugi\n"
     ]
    }
   ],
   "source": [
    "import requests\n",
    "import json\n",
    "\n",
    "# Fetching data from a public API (JSONPlaceholder)\n",
    "response = requests.get('https://jsonplaceholder.typicode.com/posts')\n",
    "\n",
    "# Check if the request was successful\n",
    "if response.status_code == 200:\n",
    "    print('Success!')\n",
    "    \n",
    "    # Parse the response as JSON text\n",
    "    posts_json = json.loads(response.text)\n",
    "\n",
    "    # Manually parse and display as a table\n",
    "    # Print the headers\n",
    "    print(f\"{'ID':<5} {'UserID':<7} {'Title':<30} {'Body':<50}\")\n",
    "    print('-' * 90)\n",
    "\n",
    "    # Print each post as a row\n",
    "    # Parse First 5 Posts\n",
    "    for post in posts_json[:5]:\n",
    "        print(f\"{post['id']:<5} {post['userId']:<7} {post['title']:<30} {post['body'][:50]:<50}\")  # Trimming body for display\n",
    "\n",
    "else:\n",
    "    print(f'Failed with status code: {response.status_code}')\n"
   ]
  },
  {
   "cell_type": "markdown",
   "id": "3a2e5200-925d-438a-9c68-c5d9a2043472",
   "metadata": {},
   "source": [
    "        "
   ]
  },
  {
   "cell_type": "markdown",
   "id": "b8df259d-b3fa-44e8-9a30-243f7ef4c32b",
   "metadata": {},
   "source": [
    "#### <span style=\"background-color:yellow;\">**2. Making a POST Request:**</span>     \n",
    "POST requests is used to **send data to an API**, **such as submitting a form** or **uploading a file**."
   ]
  },
  {
   "cell_type": "code",
   "execution_count": 5,
   "id": "f7a3060e-428b-4841-9015-8b5489db2850",
   "metadata": {},
   "outputs": [
    {
     "name": "stdout",
     "output_type": "stream",
     "text": [
      "Post successful!\n",
      "Response: {'title': 'foo', 'body': 'bar', 'userId': 1, 'id': 101}\n"
     ]
    }
   ],
   "source": [
    "import requests\n",
    "\n",
    "# Data to be sent in the POST request\n",
    "data = {\n",
    "    'title': 'foo',\n",
    "    'body': 'bar',\n",
    "    'userId': 1\n",
    "}\n",
    "\n",
    "# Making the POST request\n",
    "response = requests.post('https://jsonplaceholder.typicode.com/posts', json=data)\n",
    "\n",
    "if response.status_code == 201:  # Status code 201 means the resource was created\n",
    "    print('Post successful!')\n",
    "    print('Response:', response.json())  # Show the response from the server\n",
    "else:\n",
    "    print(f'Failed with status code: {response.status_code}')"
   ]
  },
  {
   "cell_type": "code",
   "execution_count": null,
   "id": "dbe5cf89-b550-4d9a-b29b-936e89ef2ee3",
   "metadata": {},
   "outputs": [],
   "source": []
  },
  {
   "cell_type": "markdown",
   "id": "da90581a-8a3f-413f-acb1-1ee6f1ccb81e",
   "metadata": {},
   "source": [
    "# <span style=\"color:red;background-color:yellow;\">Other Example for Practicing</span>"
   ]
  },
  {
   "cell_type": "markdown",
   "id": "e1724f90-6142-4ece-b0a8-fe8a28f11ed6",
   "metadata": {},
   "source": [
    "**API Website:** https://dog.ceo/     \n",
    "```\n",
    "    Documentation: https://dog.ceo/dog-api/documentation/\n",
    "            List All Breeds  :   https://dog.ceo/api/breeds/list/all\n",
    "            Fetch Randm Image:   https://dog.ceo/api/breeds/image/random \n",
    "            Fetch Random Image:  https://dog.ceo/api/breed/hound/images          [Returns an Array of Images]\n",
    "                                 https://dog.ceo/api/breed/hound/images/random   [Returns 1 Image]\n",
    "            List All Sub Breeds: https://dog.ceo/api/breed/hound/list\n",
    "                                 [Return a Single Breed Image from a Sub Breed Collection]\n",
    "                                 https://dog.ceo/api/breed/hound/afghan/images/random \n",
    "```"
   ]
  },
  {
   "cell_type": "code",
   "execution_count": null,
   "id": "a0c580bf-3008-4be9-ae90-43c7f64a2856",
   "metadata": {},
   "outputs": [],
   "source": []
  },
  {
   "cell_type": "markdown",
   "id": "d2863af8-33a1-4901-a9ba-145ab066940a",
   "metadata": {},
   "source": [
    "# Example: Load a Random Image using API"
   ]
  },
  {
   "cell_type": "code",
   "execution_count": 25,
   "id": "9b607eff-4e0e-40b4-be7e-5cd749ec0085",
   "metadata": {},
   "outputs": [
    {
     "name": "stdout",
     "output_type": "stream",
     "text": [
      "Here is a random dog image:\n"
     ]
    },
    {
     "data": {
      "text/html": [
       "<img src=\"https://images.dog.ceo/breeds/terrier-fox/n02095314_1268.jpg\" width=\"300\" height=\"300\"/>"
      ],
      "text/plain": [
       "<IPython.core.display.Image object>"
      ]
     },
     "metadata": {},
     "output_type": "display_data"
    }
   ],
   "source": [
    "import requests\n",
    "from IPython.display import Image, display\n",
    "\n",
    "# Fetch a random image from the Dog CEO API\n",
    "url = 'https://dog.ceo/api/breeds/image/random'\n",
    "response = requests.get(url)\n",
    "\n",
    "# Check if the request was successful\n",
    "if response.status_code == 200:\n",
    "    data = response.json()\n",
    "    # Extract the image URL\n",
    "    image_url = data['message']\n",
    "    \n",
    "    # Display the image\n",
    "    print(\"Here is a random dog image:\")\n",
    "    display(Image(url=image_url, width=300, height=300))  # Adjust width and height as needed\n",
    "else:\n",
    "    print('Failed to load the image.')"
   ]
  },
  {
   "cell_type": "markdown",
   "id": "30da869b-e2df-4c2d-bce9-6f42112e17e8",
   "metadata": {},
   "source": [
    "**Important:**    \n",
    "In order to understand above functionality, we will have to install following library:     \n",
    "```pip install requests pandas IPython```"
   ]
  },
  {
   "cell_type": "code",
   "execution_count": null,
   "id": "424f2815-b9b9-450a-bc9b-67a1c5eb1c75",
   "metadata": {},
   "outputs": [],
   "source": []
  },
  {
   "cell_type": "markdown",
   "id": "97a35778-92ff-43f7-bbb3-277ad18c09ba",
   "metadata": {},
   "source": [
    "**Load Random 10 Breed Images**"
   ]
  },
  {
   "cell_type": "code",
   "execution_count": 26,
   "id": "6e4e9e36-2f84-4562-9090-ad67d40ab149",
   "metadata": {},
   "outputs": [
    {
     "name": "stdout",
     "output_type": "stream",
     "text": [
      "Breed: affenpinscher\n"
     ]
    },
    {
     "data": {
      "text/html": [
       "<img src=\"https://images.dog.ceo/breeds/affenpinscher/n02110627_3026.jpg\" width=\"100\" height=\"100\"/>"
      ],
      "text/plain": [
       "<IPython.core.display.Image object>"
      ]
     },
     "metadata": {},
     "output_type": "display_data"
    },
    {
     "name": "stdout",
     "output_type": "stream",
     "text": [
      "Breed: african\n"
     ]
    },
    {
     "data": {
      "text/html": [
       "<img src=\"https://images.dog.ceo/breeds/african/n02116738_634.jpg\" width=\"100\" height=\"100\"/>"
      ],
      "text/plain": [
       "<IPython.core.display.Image object>"
      ]
     },
     "metadata": {},
     "output_type": "display_data"
    },
    {
     "name": "stdout",
     "output_type": "stream",
     "text": [
      "Breed: airedale\n"
     ]
    },
    {
     "data": {
      "text/html": [
       "<img src=\"https://images.dog.ceo/breeds/airedale/n02096051_424.jpg\" width=\"100\" height=\"100\"/>"
      ],
      "text/plain": [
       "<IPython.core.display.Image object>"
      ]
     },
     "metadata": {},
     "output_type": "display_data"
    },
    {
     "name": "stdout",
     "output_type": "stream",
     "text": [
      "Breed: akita\n"
     ]
    },
    {
     "data": {
      "text/html": [
       "<img src=\"https://images.dog.ceo/breeds/akita/Akita_Inu_dog.jpg\" width=\"100\" height=\"100\"/>"
      ],
      "text/plain": [
       "<IPython.core.display.Image object>"
      ]
     },
     "metadata": {},
     "output_type": "display_data"
    },
    {
     "name": "stdout",
     "output_type": "stream",
     "text": [
      "Breed: appenzeller\n"
     ]
    },
    {
     "data": {
      "text/html": [
       "<img src=\"https://images.dog.ceo/breeds/appenzeller/n02107908_94.jpg\" width=\"100\" height=\"100\"/>"
      ],
      "text/plain": [
       "<IPython.core.display.Image object>"
      ]
     },
     "metadata": {},
     "output_type": "display_data"
    },
    {
     "name": "stdout",
     "output_type": "stream",
     "text": [
      "Breed: australian\n"
     ]
    },
    {
     "data": {
      "text/html": [
       "<img src=\"https://images.dog.ceo/breeds/australian-kelpie/Resized_20200214_191118_346649120350209.jpg\" width=\"100\" height=\"100\"/>"
      ],
      "text/plain": [
       "<IPython.core.display.Image object>"
      ]
     },
     "metadata": {},
     "output_type": "display_data"
    },
    {
     "name": "stdout",
     "output_type": "stream",
     "text": [
      "Breed: bakharwal\n"
     ]
    },
    {
     "data": {
      "text/html": [
       "<img src=\"https://images.dog.ceo/breeds/bakharwal-indian/Bakharwal.jpg\" width=\"100\" height=\"100\"/>"
      ],
      "text/plain": [
       "<IPython.core.display.Image object>"
      ]
     },
     "metadata": {},
     "output_type": "display_data"
    },
    {
     "name": "stdout",
     "output_type": "stream",
     "text": [
      "Breed: basenji\n"
     ]
    },
    {
     "data": {
      "text/html": [
       "<img src=\"https://images.dog.ceo/breeds/basenji/n02110806_3056.jpg\" width=\"100\" height=\"100\"/>"
      ],
      "text/plain": [
       "<IPython.core.display.Image object>"
      ]
     },
     "metadata": {},
     "output_type": "display_data"
    },
    {
     "name": "stdout",
     "output_type": "stream",
     "text": [
      "Breed: beagle\n"
     ]
    },
    {
     "data": {
      "text/html": [
       "<img src=\"https://images.dog.ceo/breeds/beagle/n02088364_13944.jpg\" width=\"100\" height=\"100\"/>"
      ],
      "text/plain": [
       "<IPython.core.display.Image object>"
      ]
     },
     "metadata": {},
     "output_type": "display_data"
    },
    {
     "name": "stdout",
     "output_type": "stream",
     "text": [
      "Breed: bluetick\n"
     ]
    },
    {
     "data": {
      "text/html": [
       "<img src=\"https://images.dog.ceo/breeds/bluetick/n02088632_2174.jpg\" width=\"100\" height=\"100\"/>"
      ],
      "text/plain": [
       "<IPython.core.display.Image object>"
      ]
     },
     "metadata": {},
     "output_type": "display_data"
    }
   ],
   "source": [
    "import requests\n",
    "from IPython.display import Image, display\n",
    "\n",
    "# Fetch the list of all breeds from the Dog CEO API\n",
    "breed_url = 'https://dog.ceo/api/breeds/list/all'\n",
    "response = requests.get(breed_url)\n",
    "\n",
    "if response.status_code == 200:\n",
    "    data = response.json()\n",
    "    breeds = list(data['message'].keys())  # Extract breed names\n",
    "    \n",
    "    # Fetch and display 10 random images from different breeds\n",
    "    for breed in breeds[:10]:  # Limiting to 10 breeds for simplicity\n",
    "        image_url = f'https://dog.ceo/api/breed/{breed}/images/random'\n",
    "        image_response = requests.get(image_url)\n",
    "        image_data = image_response.json()\n",
    "        \n",
    "        # Display breed name and the image\n",
    "        print(f\"Breed: {breed}\")\n",
    "        display(Image(url=image_data['message'], width=100, height=100))  # Display the image\n",
    "else:\n",
    "    print('Failed to load the breed list.')"
   ]
  },
  {
   "cell_type": "code",
   "execution_count": null,
   "id": "5582e8d7-2223-4a3e-8e86-23b149560565",
   "metadata": {},
   "outputs": [],
   "source": []
  },
  {
   "cell_type": "code",
   "execution_count": null,
   "id": "383071d6-6d0a-4d56-9109-23b5660d2b69",
   "metadata": {},
   "outputs": [],
   "source": []
  },
  {
   "cell_type": "code",
   "execution_count": null,
   "id": "b7d4db2c-31a3-4912-8d61-b2b595297e0d",
   "metadata": {},
   "outputs": [],
   "source": []
  },
  {
   "cell_type": "code",
   "execution_count": null,
   "id": "158612cf-6651-4a3e-8454-06e4c0dee4f3",
   "metadata": {},
   "outputs": [],
   "source": []
  },
  {
   "cell_type": "code",
   "execution_count": null,
   "id": "4dc4fd4e-792e-47e0-85a6-c8c2603ae1b4",
   "metadata": {},
   "outputs": [],
   "source": []
  },
  {
   "cell_type": "code",
   "execution_count": null,
   "id": "b12220ab-f5cc-4dcf-9a25-365300a933da",
   "metadata": {},
   "outputs": [],
   "source": []
  },
  {
   "cell_type": "code",
   "execution_count": null,
   "id": "901fb6f7-a1ed-4b4a-bec1-eedf3dc5d01a",
   "metadata": {},
   "outputs": [],
   "source": []
  },
  {
   "cell_type": "markdown",
   "id": "c69c023c-ac0a-4800-bd4b-01d633c9f1c2",
   "metadata": {},
   "source": [
    "# Additional Content      \n",
    "Handling Query Parameters in Requests:     \n",
    "Many APIs require query parameters to refine or filter the data you’re requesting. For example, a weather API might require a city name."
   ]
  },
  {
   "cell_type": "code",
   "execution_count": 21,
   "id": "55592a15-cc58-4f28-853b-1ea42ede4086",
   "metadata": {},
   "outputs": [
    {
     "name": "stdout",
     "output_type": "stream",
     "text": [
      "Error fetching weather data.\n"
     ]
    }
   ],
   "source": [
    "import requests\n",
    "\n",
    "# Adding query parameters to the URL\n",
    "params = {\n",
    "    'q': 'London',\n",
    "    'appid': 'your_api_key_here'  # Replace with your actual API key\n",
    "}\n",
    "\n",
    "response = requests.get('https://api.openweathermap.org/data/2.5/weather', params=params)\n",
    "\n",
    "if response.status_code == 200:\n",
    "    print(response.json())  # Parse and display the JSON data\n",
    "else:\n",
    "    print('Error fetching weather data.')"
   ]
  },
  {
   "cell_type": "markdown",
   "id": "1f2c74fe-72f0-4914-ab22-14cd5dfeddc1",
   "metadata": {},
   "source": [
    "      "
   ]
  },
  {
   "cell_type": "markdown",
   "id": "b87ce13c-69cd-4134-9cc1-a7186cf4a6e2",
   "metadata": {},
   "source": [
    "      "
   ]
  },
  {
   "cell_type": "markdown",
   "id": "472ad48f-6a66-402c-b35a-2f252b63de60",
   "metadata": {},
   "source": [
    "**Interactive Example:**     \n",
    "```\n",
    "You can ask your students to try using query parameters for different APIs.\n",
    "Provide an example where students must search for specific information (like weather data for their city).\n",
    "```"
   ]
  },
  {
   "cell_type": "markdown",
   "id": "b2219d0c-2c13-4029-815b-6147ab2a9156",
   "metadata": {},
   "source": [
    "# Parsing XML Data    \n",
    "```\n",
    "While JSON is common, some APIs may return data in XML format. \n",
    "For parsing XML in Python, you can use the xml.etree.ElementTree module.\n",
    "```"
   ]
  },
  {
   "cell_type": "code",
   "execution_count": 23,
   "id": "20922a10-15d8-4433-93a8-1f72b427d5f8",
   "metadata": {},
   "outputs": [
    {
     "name": "stdout",
     "output_type": "stream",
     "text": [
      "To: Tove, From: Jani, Heading: Reminder, Body: Don't forget me this weekend!\n"
     ]
    }
   ],
   "source": [
    "import requests\n",
    "import xml.etree.ElementTree as ET\n",
    "\n",
    "# Fetching XML data from a sample API\n",
    "response = requests.get('https://www.w3schools.com/xml/note.xml')\n",
    "\n",
    "# Parse the XML content\n",
    "root = ET.fromstring(response.content)\n",
    "\n",
    "# Extracting data from the XML\n",
    "to = root.find('to').text\n",
    "from_ = root.find('from').text\n",
    "heading = root.find('heading').text\n",
    "body = root.find('body').text\n",
    "\n",
    "print(f\"To: {to}, From: {from_}, Heading: {heading}, Body: {body}\")"
   ]
  },
  {
   "cell_type": "code",
   "execution_count": null,
   "id": "250ca878-03fd-4173-9072-f38c9e8e790b",
   "metadata": {},
   "outputs": [],
   "source": []
  },
  {
   "cell_type": "code",
   "execution_count": null,
   "id": "15496fa8-829d-46da-8080-e70c08ec917c",
   "metadata": {},
   "outputs": [],
   "source": []
  },
  {
   "cell_type": "code",
   "execution_count": 24,
   "id": "d6b444cd-16ab-490e-b755-6411166820c7",
   "metadata": {},
   "outputs": [
    {
     "name": "stdout",
     "output_type": "stream",
     "text": [
      "Breed: affenpinscher\n"
     ]
    },
    {
     "data": {
      "text/html": [
       "<img src=\"https://images.dog.ceo/breeds/affenpinscher/n02110627_9634.jpg\" width=\"150\" height=\"150\"/>"
      ],
      "text/plain": [
       "<IPython.core.display.Image object>"
      ]
     },
     "metadata": {},
     "output_type": "display_data"
    },
    {
     "name": "stdout",
     "output_type": "stream",
     "text": [
      "Breed: african\n"
     ]
    },
    {
     "data": {
      "text/html": [
       "<img src=\"https://images.dog.ceo/breeds/african/n02116738_9829.jpg\" width=\"150\" height=\"150\"/>"
      ],
      "text/plain": [
       "<IPython.core.display.Image object>"
      ]
     },
     "metadata": {},
     "output_type": "display_data"
    },
    {
     "name": "stdout",
     "output_type": "stream",
     "text": [
      "Breed: airedale\n"
     ]
    },
    {
     "data": {
      "text/html": [
       "<img src=\"https://images.dog.ceo/breeds/airedale/n02096051_6657.jpg\" width=\"150\" height=\"150\"/>"
      ],
      "text/plain": [
       "<IPython.core.display.Image object>"
      ]
     },
     "metadata": {},
     "output_type": "display_data"
    },
    {
     "name": "stdout",
     "output_type": "stream",
     "text": [
      "Breed: akita\n"
     ]
    },
    {
     "data": {
      "text/html": [
       "<img src=\"https://images.dog.ceo/breeds/akita/Akita_Inu_dog.jpg\" width=\"150\" height=\"150\"/>"
      ],
      "text/plain": [
       "<IPython.core.display.Image object>"
      ]
     },
     "metadata": {},
     "output_type": "display_data"
    },
    {
     "name": "stdout",
     "output_type": "stream",
     "text": [
      "Breed: appenzeller\n"
     ]
    },
    {
     "data": {
      "text/html": [
       "<img src=\"https://images.dog.ceo/breeds/appenzeller/n02107908_4296.jpg\" width=\"150\" height=\"150\"/>"
      ],
      "text/plain": [
       "<IPython.core.display.Image object>"
      ]
     },
     "metadata": {},
     "output_type": "display_data"
    },
    {
     "name": "stdout",
     "output_type": "stream",
     "text": [
      "Breed: australian\n"
     ]
    },
    {
     "data": {
      "text/html": [
       "<img src=\"https://images.dog.ceo/breeds/australian-kelpie/IMG_3675.jpg\" width=\"150\" height=\"150\"/>"
      ],
      "text/plain": [
       "<IPython.core.display.Image object>"
      ]
     },
     "metadata": {},
     "output_type": "display_data"
    },
    {
     "name": "stdout",
     "output_type": "stream",
     "text": [
      "Breed: bakharwal\n"
     ]
    },
    {
     "data": {
      "text/html": [
       "<img src=\"https://images.dog.ceo/breeds/bakharwal-indian/Bakharwal.jpg\" width=\"150\" height=\"150\"/>"
      ],
      "text/plain": [
       "<IPython.core.display.Image object>"
      ]
     },
     "metadata": {},
     "output_type": "display_data"
    },
    {
     "name": "stdout",
     "output_type": "stream",
     "text": [
      "Breed: basenji\n"
     ]
    },
    {
     "data": {
      "text/html": [
       "<img src=\"https://images.dog.ceo/breeds/basenji/n02110806_1826.jpg\" width=\"150\" height=\"150\"/>"
      ],
      "text/plain": [
       "<IPython.core.display.Image object>"
      ]
     },
     "metadata": {},
     "output_type": "display_data"
    },
    {
     "name": "stdout",
     "output_type": "stream",
     "text": [
      "Breed: beagle\n"
     ]
    },
    {
     "data": {
      "text/html": [
       "<img src=\"https://images.dog.ceo/breeds/beagle/n02088364_12178.jpg\" width=\"150\" height=\"150\"/>"
      ],
      "text/plain": [
       "<IPython.core.display.Image object>"
      ]
     },
     "metadata": {},
     "output_type": "display_data"
    },
    {
     "name": "stdout",
     "output_type": "stream",
     "text": [
      "Breed: bluetick\n"
     ]
    },
    {
     "data": {
      "text/html": [
       "<img src=\"https://images.dog.ceo/breeds/bluetick/n02088632_1145.jpg\" width=\"150\" height=\"150\"/>"
      ],
      "text/plain": [
       "<IPython.core.display.Image object>"
      ]
     },
     "metadata": {},
     "output_type": "display_data"
    }
   ],
   "source": [
    "import requests\n",
    "import pandas as pd\n",
    "from IPython.display import Image, display\n",
    "\n",
    "# Step 1: Fetching the list of dog breeds from the Dog CEO API\n",
    "breed_url = 'https://dog.ceo/api/breeds/list/all'\n",
    "response = requests.get(breed_url)\n",
    "data = response.json()\n",
    "\n",
    "if data['status'] == 'success':\n",
    "    # Extracting the breeds list\n",
    "    breeds = list(data['message'].keys())\n",
    "\n",
    "    # Initialize an empty list to store breed names and images\n",
    "    breed_images = []\n",
    "\n",
    "    # Step 2: Fetching an image for each breed\n",
    "    for breed in breeds[:10]:  # Limiting to 10 breeds for simplicity\n",
    "        image_url = f'https://dog.ceo/api/breed/{breed}/images/random'\n",
    "        image_response = requests.get(image_url)\n",
    "        image_data = image_response.json()\n",
    "\n",
    "        if image_data['status'] == 'success':\n",
    "            breed_images.append((breed, image_data['message']))\n",
    "\n",
    "    # Step 3: Creating a pandas DataFrame to hold the breed names and images\n",
    "    df = pd.DataFrame(breed_images, columns=['Breed', 'Image URL'])\n",
    "\n",
    "    # Displaying the data\n",
    "    for i, row in df.iterrows():\n",
    "        print(f\"Breed: {row['Breed']}\")\n",
    "        display(Image(url=row['Image URL'], width=150, height=150))  # Display the image\n",
    "\n",
    "else:\n",
    "    print('Failed to retrieve data from the API.')\n"
   ]
  },
  {
   "cell_type": "code",
   "execution_count": null,
   "id": "d7e143d6-cc6a-457c-9e20-052d34ea0a3c",
   "metadata": {},
   "outputs": [],
   "source": []
  }
 ],
 "metadata": {
  "kernelspec": {
   "display_name": "Python 3 (ipykernel)",
   "language": "python",
   "name": "python3"
  },
  "language_info": {
   "codemirror_mode": {
    "name": "ipython",
    "version": 3
   },
   "file_extension": ".py",
   "mimetype": "text/x-python",
   "name": "python",
   "nbconvert_exporter": "python",
   "pygments_lexer": "ipython3",
   "version": "3.11.4"
  }
 },
 "nbformat": 4,
 "nbformat_minor": 5
}
