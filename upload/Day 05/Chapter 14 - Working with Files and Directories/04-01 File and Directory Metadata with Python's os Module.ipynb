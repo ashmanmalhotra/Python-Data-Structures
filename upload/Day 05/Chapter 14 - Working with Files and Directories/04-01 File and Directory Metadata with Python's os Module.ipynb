{
 "cells": [
  {
   "cell_type": "markdown",
   "id": "67fb94b1",
   "metadata": {},
   "source": [
    "<h1>\n",
    "    <b style=\"color:maroon; background-color:yellow;padding:20px;\">File and Directory Metadata with Python's os Module</b>\n",
    "</h1>"
   ]
  },
  {
   "cell_type": "markdown",
   "id": "ce7fffae",
   "metadata": {},
   "source": [
    "      "
   ]
  },
  {
   "cell_type": "markdown",
   "id": "3c83a674",
   "metadata": {},
   "source": [
    "<pre>\n",
    "<h3><b>14.3 File and Directory Metadata</b></h3>\n",
    "    <b>1. Accessing file information:</b>\n",
    "       - os.stat and os.path.getsize, os.path.getmtime, os.path.getctime\n",
    "       - File permissions, ownership, creation/modification times<br>\n",
    "    <b>Examples:</b>\n",
    "       - Getting file size and creation time\n",
    "       - Checking file permissions\n",
    "       - Finding the oldest file in a directory\n",
    "       - Creating a file listing with metadata\n",
    "</pre>"
   ]
  },
  {
   "cell_type": "markdown",
   "id": "194f8ab1",
   "metadata": {},
   "source": [
    "      "
   ]
  },
  {
   "cell_type": "markdown",
   "id": "70ecbab1",
   "metadata": {},
   "source": [
    "# <b style=\"color:red;\">Understanding File Metadata</b>       \n",
    "**File metadata** refers to **information about a file or directory**, such as its **size**, **creation time**, **modification time**, **permissions** and **ownership**. Python's **os** module provides several functions to access and manipulate this information."
   ]
  },
  {
   "cell_type": "markdown",
   "id": "0e6cc3e0",
   "metadata": {},
   "source": [
    "### <b style=\"color:blue;\">os.stat() and its Attributes</b>        \n",
    "The **os.stat()** function returns an **object** containing various **file attributes**. This object has attributes like **st_size**, **st_mtime**, **st_ctime**, **st_mode** and more."
   ]
  },
  {
   "cell_type": "code",
   "execution_count": 1,
   "id": "c79cc37f",
   "metadata": {},
   "outputs": [],
   "source": [
    "# import libraries\n",
    "import os\n",
    "import time"
   ]
  },
  {
   "cell_type": "code",
   "execution_count": 4,
   "id": "0d22cbc2",
   "metadata": {},
   "outputs": [
    {
     "name": "stdout",
     "output_type": "stream",
     "text": [
      "File size: 51 bytes\n",
      "Last modified time: Thu Aug 15 17:04:38 2024\n",
      "Creation time: Thu Aug 15 17:03:44 2024\n",
      "File permissions: 0o100666\n"
     ]
    }
   ],
   "source": [
    "# The Current Working Folder contains directory 'dira' with 'ProgramOne.txt' file.\n",
    "# We will get metadata information of 'ProgramOne.txt' file.\n",
    "file_path = \"C:\\\\Users\\\\AshmanMalhotra\\\\Desktop\\\\Course\\\\AshmanTutsGH\\\\Python Tutorials - Level 1\\\\Chapter 14 - Working with Files and Directories\\\\dira\\\\ProgramOne.txt\"\n",
    "\n",
    "# Perform a stat system call on the given path.\n",
    "stat_info = os.stat(file_path)\n",
    "\n",
    "# Print meta data information of the file\n",
    "print(\"File size:\", stat_info.st_size, \"bytes\")\n",
    "print(\"Last modified time:\", time.ctime(stat_info.st_mtime))\n",
    "print(\"Creation time:\", time.ctime(stat_info.st_ctime))\n",
    "print(\"File permissions:\", oct(stat_info.st_mode))"
   ]
  },
  {
   "cell_type": "markdown",
   "id": "6d03133f",
   "metadata": {},
   "source": [
    "     "
   ]
  },
  {
   "cell_type": "markdown",
   "id": "0185e408",
   "metadata": {},
   "source": [
    "### <b style=\"color:blue;\">Access Specific Functions for Common Tasks using os.path module</b>        \n",
    "**Description:** While os.stat provides a comprehensive view of file attributes, os.path offers more specific functions for common tasks.      \n",
    "\n",
    "**Functions:**    \n",
    "- **os.path.getsize():** Returns the size of the file\n",
    "- **os.getmsize():** Returns the modification time of the file\n",
    "- **os.getctime():** Returns the File Creation Time\n"
   ]
  },
  {
   "cell_type": "code",
   "execution_count": 13,
   "id": "f550de19",
   "metadata": {},
   "outputs": [
    {
     "name": "stdout",
     "output_type": "stream",
     "text": [
      "File Size in Bytes:  51\n",
      "File Creation Time:  Thu Aug 15 17:03:44 2024\n",
      "File Size in Bytes:  Thu Aug 15 17:04:38 2024\n"
     ]
    }
   ],
   "source": [
    "# The Current Working Folder contains directory 'dira' with 'ProgramOne.txt' file.\n",
    "# We will get metadata information of 'ProgramOne.txt' file.\n",
    "file_path = \"C:\\\\Users\\\\AshmanMalhotra\\\\Desktop\\\\Course\\\\AshmanTutsGH\\\\Python Tutorials - Level 1\\\\Chapter 14 - Working with Files and Directories\\\\dira\\\\ProgramOne.txt\"\n",
    "\n",
    "# Getting the File Size in Bytes\n",
    "print(\"File Size in Bytes: \", os.path.getsize(file_path)) \n",
    "\n",
    "# Getting the Creation Time of the File\n",
    "print(\"File Creation Time: \", time.ctime(os.path.getctime(file_path)))\n",
    "\n",
    "# Getting the Modification Time of the File\n",
    "print(\"File Size in Bytes: \", time.ctime(os.path.getmtime(file_path)))"
   ]
  },
  {
   "cell_type": "code",
   "execution_count": 16,
   "id": "af832868",
   "metadata": {},
   "outputs": [
    {
     "data": {
      "text/plain": [
       "'C:\\\\Users\\\\AshmanMalhotra\\\\Desktop\\\\Course\\\\AshmanTutsGH\\\\Python Tutorials - Level 1\\\\Chapter 14 - Working with Files and Directories\\\\dira'"
      ]
     },
     "execution_count": 16,
     "metadata": {},
     "output_type": "execute_result"
    }
   ],
   "source": [
    "# Getting the Directory Name\n",
    "os.path.dirname(file_path)"
   ]
  },
  {
   "cell_type": "code",
   "execution_count": 18,
   "id": "21fca12b",
   "metadata": {},
   "outputs": [
    {
     "data": {
      "text/plain": [
       "True"
      ]
     },
     "execution_count": 18,
     "metadata": {},
     "output_type": "execute_result"
    }
   ],
   "source": [
    "# Checking whether File Exists at given path - Results are boolean (True / False)\n",
    "os.path.exists(file_path)"
   ]
  },
  {
   "cell_type": "markdown",
   "id": "5718cd98",
   "metadata": {},
   "source": [
    "      "
   ]
  },
  {
   "cell_type": "markdown",
   "id": "2ae98242",
   "metadata": {},
   "source": [
    "### <b style=\"color:blue;\">Checking File Permissions</b>        \n",
    "**Description:**      \n",
    "File permissions can determine who can read, write, or execute a file. Python can be used to check and manipulate these permissions."
   ]
  },
  {
   "cell_type": "markdown",
   "id": "f22b77ea",
   "metadata": {},
   "source": [
    "We will use 'os.access()' function in Python to check the accessibility of a file or directory based on the permissions of the effective user running the script. It determines whether the current user has specific permissions (like reading, writing, or executing) on a file or directory.    \n",
    "\n",
    "**Parameters:**\n",
    "- path (str): The file or directory path you want to check.\n",
    "- mode (int): The mode flag(s) that specify the type of access you want to check. The mode can be a combination of the following constants from the 'os' module:\n",
    "    - os.F_OK: Check if the file exists.\n",
    "    - os.R_OK: Check if the file is readable.\n",
    "    - os.W_OK: Check if the file is writable.\n",
    "    - os.X_OK: Check if the file is executable.      \n",
    "    \n",
    "We can combine these constants using the bitwise OR operator (|) in order to check multiple permissions.     \n",
    "\n",
    "**Return Value:**     \n",
    "Returns True if access is allowed for the specified mode; otherwise, it returns False.\n",
    "\n",
    "**How It Works:**\n",
    "The <code>os.access()</code> function checks the <code>file's permission</code> against the <code>real user ID</code> and <code>group ID</code> of the calling process, not the file owner or group. It’s mainly used to determine access permissions in scenarios like custom file handling or managing access control in your programs."
   ]
  },
  {
   "cell_type": "code",
   "execution_count": 26,
   "id": "b7c21bef",
   "metadata": {},
   "outputs": [
    {
     "name": "stdout",
     "output_type": "stream",
     "text": [
      "File exists.\n",
      "File is readable.\n",
      "File is writable.\n",
      "File is executable.\n"
     ]
    }
   ],
   "source": [
    "# Let's consider accessing file \"ProgramOne.txt\" inside directory 'dira' present in Current Working Directory\n",
    "# Then we will check file Permissions on it...\n",
    "\n",
    "file_path = 'dira/ProgramOne.txt'\n",
    "\n",
    "# Check if the file exists\n",
    "if os.access(file_path, os.F_OK):\n",
    "    print(\"File exists.\")\n",
    "else:\n",
    "    print(\"File does not exist.\")\n",
    "\n",
    "\n",
    "# Check if the file is readable\n",
    "if os.access(file_path, os.R_OK):\n",
    "    print(\"File is readable.\")\n",
    "else:\n",
    "    print(\"File is not readable.\")\n",
    "\n",
    "\n",
    "# Check if the file is writable\n",
    "if os.access(file_path, os.W_OK):\n",
    "    print(\"File is writable.\")\n",
    "else:\n",
    "    print(\"File is not writable.\")\n",
    "\n",
    "\n",
    "# Check if the file is executable\n",
    "if os.access(file_path, os.X_OK):\n",
    "    print(\"File is executable.\")\n",
    "else:\n",
    "    print(\"File is not executable.\")"
   ]
  },
  {
   "cell_type": "markdown",
   "id": "96a8e3f7",
   "metadata": {},
   "source": [
    "    "
   ]
  },
  {
   "cell_type": "markdown",
   "id": "8683b592",
   "metadata": {},
   "source": [
    "**Combining Modes:**      \n",
    "We can combine multiple mode-flags using the bitwise **OR operator (|)** to check for more than one condition at once."
   ]
  },
  {
   "cell_type": "code",
   "execution_count": 27,
   "id": "0604bdce",
   "metadata": {},
   "outputs": [
    {
     "name": "stdout",
     "output_type": "stream",
     "text": [
      "File is both readable and writable.\n"
     ]
    }
   ],
   "source": [
    "# Let's check whether 'dira/ProgramOne.txt' is both Readable & Writeable\n",
    "\n",
    "if os.access(file_path, os.R_OK | os.W_OK):\n",
    "    print(\"File is both readable and writable.\")\n",
    "else:\n",
    "    print(\"File does not have both read and write permissions.\")"
   ]
  },
  {
   "cell_type": "markdown",
   "id": "3ff722e1",
   "metadata": {},
   "source": [
    "     "
   ]
  },
  {
   "cell_type": "markdown",
   "id": "18e1b687",
   "metadata": {},
   "source": [
    "         "
   ]
  },
  {
   "cell_type": "markdown",
   "id": "327b7bd3",
   "metadata": {},
   "source": [
    "### <b style=\"color:blue;\">Using Bitwise Operations to detect Checking File Permissions</b>        \n",
    "**Description:**      \n",
    "File permissions can determine who can read, write, or execute a file. Python can be used to check and manipulate these permissions.     \n",
    "\n",
    "We can use ```os.stat() function``` and ```bitwise operations``` to manually check file permissions. It can be a bit tricky if you are unfamiliar with how Unix-style file permissions work.     "
   ]
  },
  {
   "cell_type": "markdown",
   "id": "8743be9b",
   "metadata": {},
   "source": [
    "#### i. File Permissions in Unix\n",
    "In Unix-like systems, file permissions are represented using a 3-digit octal number (base 8), where each digit corresponds to the permissions for the user (owner), group, and others.\n",
    "\n",
    "The permissions are represented as follows:\n",
    "- **Read (r):** 4\n",
    "- **Write (w):** 2\n",
    "- **Execute (x):** 1\n",
    "\n",
    "Each of these digits can be combined to represent the full permissions. For example:\n",
    "- **7** (read + write + execute) = **4 + 2 + 1**\n",
    "- **6** (read + write) = **4 + 2**\n",
    "- **5** (read + execute) = **4 + 1**\n",
    "- **4** (read) = **4**"
   ]
  },
  {
   "cell_type": "markdown",
   "id": "65603ffe",
   "metadata": {},
   "source": [
    "#### ii. Using os.stat() to Get File Metadata\n",
    "The **os.stat()** function in Python retrieves metadata about a file, including its permissions, owner, size, and more. The permissions are stored in the **st_mode** attribute.     \n",
    "\n",
    "```mode = os.stat(file_path).st_mode```   \n",
    "\n",
    "Here, **mode** is an integer that encodes all the file's metadata, including permissions, using a bitmask."
   ]
  },
  {
   "cell_type": "markdown",
   "id": "08ac54b8",
   "metadata": {},
   "source": [
    "#### iii. Understanding the Permission Bits\n",
    "File permissions are represented using a 12-bit field within the **st_mode**. Here’s the breakdown:\n",
    "\n",
    "The first 3 bits determine the file type (e.g., directory, regular file, symbolic link).\n",
    "The remaining 9 bits represent the permissions in three groups of 3:\n",
    "- **Owner (User) permissions**\n",
    "- **Group permissions**\n",
    "- **Others permissions**\n",
    "Each group contains 3 bits corresponding to **read (r)**, **write (w)** and **execute (x)**."
   ]
  },
  {
   "cell_type": "markdown",
   "id": "b7a8e98b",
   "metadata": {},
   "source": [
    "#### Checking Permissions Using Bitwise Operations\n",
    "The permissions can be checked using bitwise operations. Here’s how it works:\n",
    "- **Bitwise AND (&):** Used to isolate specific bits of interest.\n",
    "    if mode & 0o400:\n",
    "        print(\"User has read permission\")\n",
    "- **0o400** is an octal value that represents the bit pattern **100000000 (binary)**, which corresponds to the read permission for the owner.\n",
    "- The expression **mode & 0o400** checks if the corresponding bit is set (i.e., if the owner has read permission).    \n",
    "\n",
    "**Detailed Breakdown of Your Example:**\n",
    "```python\n",
    "import os\n",
    "\n",
    "file_path = 'ProgramOne.txt'\n",
    "mode = os.stat(file_path).st_mode\n",
    "print(\"File permissions:\", oct(mode))\n",
    "```\n",
    "\n",
    "- The **os.stat(file_path).st_mode** retrieves the file mode (including permissions).\n",
    "- **oct(mode)** converts the mode to an octal string so you can see the file permissions in a format similar to Unix **(rwxrwxrwx)**.   \n",
    "```python\n",
    "# Check specific permissions\n",
    "if mode & 0o400:\n",
    "    print(\"User has read permission\")\n",
    "if mode & 0o200:\n",
    "    print(\"User has write permission\")\n",
    "if mode & 0o100:\n",
    "    print(\"User has execute permission\")\n",
    "```\n",
    "\n",
    "- **0o400 (octal):** Checks the read permission bit for the user (owner). If this bit is set, the user has read permission.\n",
    "- **0o200 (octal):** Checks the write permission bit for the user (owner). If this bit is set, the user has write permission.\n",
    "- **0o100 (octal):** Checks the execute permission bit for the user (owner). If this bit is set, the user has execute permission."
   ]
  },
  {
   "cell_type": "markdown",
   "id": "1bd76b6d",
   "metadata": {},
   "source": [
    "#### How Bitwise AND (&) Works:\n",
    "The **&** operator compares each bit of the two numbers. If both bits are **1**, the result is **1**; otherwise, it’s **0**.\n",
    "\n",
    "For example:\n",
    "- Suppose the mode is **0o644 (octal)**, which corresponds to the **binary 110100100**.\n",
    "- **0o400** in binary is **100000000**.\n",
    "- The operation **mode & 0o400** results in **100000000 (non-zero)**, meaning the read permission is granted."
   ]
  },
  {
   "cell_type": "markdown",
   "id": "a3b64079",
   "metadata": {},
   "source": [
    "#### Converting Permission to Octal:\n",
    "When you print the file mode using **oct(mode)**, you may see something like **0o100644**. The first part **(0o100)** relates to the file type, while **644** represents the permissions:\n",
    "- **6 (user):** read + write (4 + 2)\n",
    "- **4 (group):** read only\n",
    "- **4 (others):** read only"
   ]
  },
  {
   "cell_type": "markdown",
   "id": "9e2dfa6a",
   "metadata": {},
   "source": [
    "#### How Permissions are Combined\n",
    "These values are added together to represent all possible permission combinations. For example:\n",
    "- **Read + Write** would be **4 + 2 = 6**\n",
    "- **Read + Execute** would be **4 + 1 = 5**\n",
    "- **Read + Write + Execute** would be **4 + 2 + 1 = 7**   \n",
    "\n",
    "Permissions for each category (owner, group, others) are represented by a single digit.   \n",
    "\n",
    "**Example:**    \n",
    "Let’s say a file has the permission **-rwxr-xr--**. This means:\n",
    "- **Owner:** rwx (read + write + execute) = **7**\n",
    "- **Group:** r-x (read + execute) = **5**\n",
    "- **Others:** r-- (read only) = **4**   \n",
    "\n",
    "So, this file’s permission would be represented as **754**."
   ]
  },
  {
   "cell_type": "markdown",
   "id": "2df16a45",
   "metadata": {},
   "source": [
    "        "
   ]
  },
  {
   "cell_type": "markdown",
   "id": "5998cfd1",
   "metadata": {},
   "source": [
    "## <span style=\"color:red;\">File Mode - In Binary Number System</span>   \n",
    "Suppose that the Binary File Mode of a File is **0b1000000110110110**.    \n",
    "\n",
    "### Understanding the Binary File Mode: 0b1000000110110110      \n",
    "```\n",
    "In Binary System:\n",
    "                               r w x                 r w x                 r w x\n",
    "|    1 0 0 0 0 0 0     |       1 1 0        |        1 1 0        |        1 1 0         |\n",
    "     └─────┬─────┘           └───┬───┘             └───┬───┘             └───┬───┘\n",
    "      Special Bits       Owner Permissions     Group Permissions      Others Permissions\n",
    "\n",
    "```\n",
    "**The breakdown is as follows:**   \n",
    "1. First 7 Bits (Special Bits): These are the special mode bits that include things like:\n",
    "    - **Setuid bit** (Bit 3 from the left)\n",
    "    - **Setgid bit** (Bit 2 from the left)\n",
    "    - **Sticky bit** (Bit 1 from the left)\n",
    "2. **Next 3 Bits:** Permissions for the **owner** (read, write, execute).\n",
    "3. **Next 3 Bits:** Permissions for the **group** (read, write, execute).\n",
    "4. **Last 3 Bits:** Permissions for **others** (read, write, execute).    \n",
    "\n",
    "<br>\n",
    "\n",
    "**The Special Bits (First 7 Bits):**\n",
    "These bits control specific behaviors of the file:\n",
    "1. **Bit 0 (Leftmost):** Not commonly used for standard permissions (system-dependent).\n",
    "2. **Bit 1:** Not commonly used for standard permissions (system-dependent).\n",
    "3. **Bit 2 (Sticky Bit):** This bit is used in directories to restrict deletion/movement of files (applies to others).\n",
    "4. **Bit 3 (Setgid Bit):** Controls group inheritance.\n",
    "5. **Bit 4 (Setuid Bit):** Controls privilege inheritance.\n",
    "6. **Bit 5 and 6:** Reserved/system-dependent.    \n",
    "\n",
    "<br>\n",
    "\n",
    "**Why the Special Bits Matter**\n",
    "The special bits (like setuid, setgid and sticky) have unique roles in controlling file behavior beyond just read, write and execute. For example:   \n",
    "- **setuid (set user ID):** Runs the file with the privileges of the file owner instead of the user running it.\n",
    "- **setgid (set group ID):** Runs the file with the group privileges of the file’s group.\n",
    "- **Sticky bit:** In a directory, prevents users from deleting or renaming files they don’t own."
   ]
  },
  {
   "cell_type": "markdown",
   "id": "41cd3ba0",
   "metadata": {},
   "source": [
    "**Bit Position from Left-to-Right:**   \n",
    "```python\n",
    "1 0 0 0 0 0 0\n",
    "| | | | | | |\n",
    "| | | | | | └─ Unused/Reserved bit (OS-dependent)\n",
    "| | | | | └── Unused/Reserved bit (OS-dependent)\n",
    "| | | | └─── Sticky bit (controls special behavior in directories)\n",
    "| | | └──── Setgid bit (group ID permission)\n",
    "| | └───── Setuid bit (user ID permission)\n",
    "| └────── Usually reserved (system-specific use)\n",
    "└─────── Unused/Reserved bit (OS-dependent)\n",
    "```\n",
    "<br>\n",
    "\n",
    "**Here’s what these bits mean:**     \n",
    "1. **Bits 1-2 (most left bits):** These bits are typically reserved by the operating system and have system-specific purposes. They are generally not relevant for standard file operations.\n",
    "2. **Bit 3 (Setuid bit):** If set, this bit allows a file to be executed with the privileges of its owner, rather than the user running the file. For example, if a user runs a program with the setuid bit set, the program runs with the privileges of the file owner (e.g., root).\n",
    "3. **Bit 4 (Setgid bit):** If set, this bit allows a file to be executed with the group privileges of its group. For directories, it ensures that new files created within inherit the directory’s group ownership.\n",
    "4. **Bit 5 (Sticky bit):** This is primarily used for directories. When the sticky bit is set, users can only delete or rename files within the directory if they own the files, even if they have write access to the directory.\n",
    "5. **Bits 6-7:** Typically unused or reserved by the operating system. These may vary based on the specific OS or file system.     \n",
    "\n",
    "**Real-World Example of Special Bits:**\n",
    "- **Setuid (Set User ID):** For a binary file like **/usr/bin/passwd**, the setuid bit is often set. This means when any user runs the **passwd** command to change their password, it runs with root privileges to modify the system’s password file.\n",
    "- **Setgid (Set Group ID):** For shared directories, the setgid bit ensures that new files created in the directory inherit the directory’s group ownership, promoting collaborative work.\n",
    "- **Sticky Bit:** The **/tmp** directory on Unix systems often has the sticky bit set, so users can only delete their own files within it, even though the directory is world-writable.    \n",
    "\n",
    "**Why These Bits Matter:**   \n",
    "These special bits provide enhanced control over how files and directories are accessed and manipulated:\n",
    "- **Security:** Setuid and setgid are critical for running programs with elevated privileges when necessary.\n",
    "- **Collaboration:** The setgid bit helps enforce group ownership on shared directories.\n",
    "- **File Integrity:** The sticky bit ensures that users can’t tamper with files they don’t own in shared directories."
   ]
  },
  {
   "cell_type": "markdown",
   "id": "13d6c385",
   "metadata": {},
   "source": [
    "### <span style=\"color:red;\">File Mode - In Octal System:</span>\n",
    "```\n",
    "          1    0    0     6      6      6\n",
    "         └┬┘  └┬┘  └┬┘   └┬┘    └┬┘    └┬┘\n",
    "          S    S    S   Owner  Group  Others\n",
    "```\n",
    "\n",
    "**Summary of What Each Integer in 0o100666 Means:**\n",
    "- **First Digit (1):** Indicates special permissions like **setuid**, **setgid** or **sticky bit**.\n",
    "- **Next Two Digits (00):** Padding zeros.\n",
    "- **Last Three Digits (666):** Represents the read/write permissions for owner, group and others."
   ]
  },
  {
   "cell_type": "markdown",
   "id": "a26baf32",
   "metadata": {},
   "source": [
    "## <span style=\"color:red;\">Understanding Bitwise Comparison (like mode & 0o400)</span>     "
   ]
  },
  {
   "cell_type": "markdown",
   "id": "84f2d050",
   "metadata": {},
   "source": [
    "#### Step 1: Permissions in Binary\n",
    "Let’s see how permissions are represented in binary:\n",
    "- ```0o400 (octal)``` in binary is ```100000000```. This corresponds to the **read** permission for the owner.     \n",
    "\n",
    "**Remember:**     \n",
    "- In binary, each ```1``` or ```0``` corresponds to a specific permission. For owner, group, and others:\n",
    "    - The first 3 bits are for the owner.\n",
    "    - The next 3 bits are for the group.\n",
    "    - The last 3 bits are for others.  \n",
    "\n",
    "**Here’s a breakdown:**    \n",
    "- ```rwx------ (owner)``` is represented as ```111000000``` in binary:\n",
    "    - **Read (r)** is **1**.\n",
    "    - **Write (w)** is **1**.\n",
    "    - **Execute (x)** is **1**.    \n",
    "- ```r-x------ (owner)``` is represented as ```101000000``` in binary:\n",
    "    - **Read (r)** is **1**.\n",
    "    - **Execute (x)** is **1**.   "
   ]
  },
  {
   "cell_type": "markdown",
   "id": "36200279",
   "metadata": {},
   "source": [
    "#### Step 2: Bitwise AND (**&**) Operation\n",
    "The bitwise AND operation compares each bit in two numbers:\n",
    "- If both bits are **1**, the result is **1**.\n",
    "- If either bit is **0**, the result is **0**.\n",
    "\n",
    "Let’s see it in action:    \n",
    "Assume ```mode``` is ```0o744```, which in binary is ```111100100``` (meaning the owner has ```rwx```, group has ```r```, others have ```r```).    \n",
    "\n",
    "**When you do:**     \n",
    "```python\n",
    "if mode & 0o400:\n",
    "    print(\"User has read permission\")\n",
    "```\n",
    "\n",
    "This compares mode with ```0o400```, which is ```100000000``` in binary.     \n",
    "The comparison looks like this:    \n",
    "```python\n",
    "mode:    111100100\n",
    "0o400:   100000000\n",
    "-----------------\n",
    "Result:  100000000 (non-zero)\n",
    "```      \n",
    "\n",
    "The result is non-zero (```100000000```), which means the owner has the read permission, so the code prints **\"User has read permission\"***.        \n",
    "<br/><br/>\n",
    "   \n",
    "**Breaking Down the Logic:**\n",
    "1. The value ```0o400``` specifically checks the owner’s read bit.\n",
    "2. The bitwise AND (```&```) isolates this bit. If it’s **1**, it means the owner has read permission.\n",
    "\n",
    "**What Happens if the Permission is Not Granted?**    \n",
    "If the file did not have read permission for the owner (say the permission was ```0o644```):     \n",
    "```python\n",
    "mode:    110100100\n",
    "0o400:   100000000\n",
    "-----------------\n",
    "Result:  000000000 (zero)\n",
    "```\n",
    "\n",
    "In this case, the result is **0**, meaning the owner doesn’t have read permission, so nothing gets printed."
   ]
  },
  {
   "cell_type": "markdown",
   "id": "234f3958",
   "metadata": {},
   "source": [
    "# <span style=\"color:red;\">Examples:</span>"
   ]
  },
  {
   "cell_type": "markdown",
   "id": "bf5c8c8f",
   "metadata": {},
   "source": [
    "#### Example 1:     \n",
    "Create a Test File and Check it's Read, Write and Execute Permissions for the Owner."
   ]
  },
  {
   "cell_type": "code",
   "execution_count": 9,
   "id": "3ef198a0",
   "metadata": {
    "scrolled": true
   },
   "outputs": [
    {
     "name": "stdout",
     "output_type": "stream",
     "text": [
      "File mode in Octal:   0o100666\n",
      "File mode in Binary:  0b1000000110110110\n",
      "\n",
      "Binary value of Read Mode:  0b100000000\n",
      "Owner has Read Permission - 0o400\n",
      "\n",
      "Binary value of Write Mode:  0b10000000\n",
      "Owner has Write Permission - 0o200\n",
      "\n",
      "Binary value of Execute Mode:  0b1000000\n",
      "Owner does not have Execute Permission.\n"
     ]
    }
   ],
   "source": [
    "import os\n",
    "\n",
    "file_path = \"test_file.txt\"\n",
    "\n",
    "# Creating a Text File with certain content\n",
    "with open('test_file.txt', 'w') as f:\n",
    "    f.write(\"This is a test file.\")\n",
    "\n",
    "# Getting the File's Mode\n",
    "mode = os.stat(file_path).st_mode\n",
    "print(\"File mode in Octal:  \", oct(mode))\n",
    "print(\"File mode in Binary: \", bin(mode))\n",
    "\n",
    "# 1. READ PERMISSION - Check if the owner has Read Permission (0o400)\n",
    "#                      File mode in Octal:                 0b1000000110110110\n",
    "#                      Binary value of Read Mode (0o400):  0b0000000100000000\n",
    "#                      Binary & Operation Result:            0000000100000000 => 256 in Decimal\n",
    "print(\"\\nBinary value of Read Mode: \", bin(0o400))\n",
    "if mode & 0o400:\n",
    "    print(\"Owner has Read Permission - 0o400\")\n",
    "else:\n",
    "    print(\"Owner does not have Read Permission.\")\n",
    "\n",
    "\n",
    "# 2. WRITE PERMISSION - Check if the owner has Write Permission (0o200)\n",
    "#                       File mode in Octal:                  0b1000000110110110\n",
    "#                       Binary value of Write Mode (0o200):  0b0000000010000000\n",
    "#                       Binary & Operation Result:             0000000010000000 => 128 in Decimal\n",
    "print(\"\\nBinary value of Write Mode: \", bin(0o200))\n",
    "if mode & 0o200:\n",
    "    print(\"Owner has Write Permission - 0o200\")\n",
    "else:\n",
    "    print(\"Owner does not have Write Permission.\")\n",
    "\n",
    "\n",
    "# 3. EXECUTE PERMISSION - Check if the owner has Execute Permission (0o100)\n",
    "#                         File mode in Octal:                    0b1000000110110110\n",
    "#                         Binary value of Execute Mode (0o100):  0b0000000001000000\n",
    "#                         Binary & Operation Result:               0000000000000000 => 0 in Decimal\n",
    "print(\"\\nBinary value of Execute Mode: \", bin(0o100))\n",
    "if mode & 0o100:\n",
    "    print(\"Owner has Execute Permission - 0o100\")\n",
    "else:\n",
    "    print(\"Owner does not have Execute Permission.\")"
   ]
  },
  {
   "cell_type": "markdown",
   "id": "025fa0bd",
   "metadata": {},
   "source": [
    "       "
   ]
  },
  {
   "cell_type": "markdown",
   "id": "7e7a8f33",
   "metadata": {},
   "source": [
    "       "
   ]
  },
  {
   "cell_type": "markdown",
   "id": "05d87cb0",
   "metadata": {},
   "source": [
    "#### Example 2:     \n",
    "Simulate Read-Only Permission of a File for Owner and check it's Read, Write and Execute Permissions for the Owner.      \n",
    "**We will set File Permission to Read-Only and then we will verify the permissions of a file.**"
   ]
  },
  {
   "cell_type": "code",
   "execution_count": 10,
   "id": "5e06c8b4",
   "metadata": {},
   "outputs": [
    {
     "name": "stdout",
     "output_type": "stream",
     "text": [
      "File mode in Octal:   0o100444\n",
      "File mode in Binary:  0b1000000100100100\n",
      "\n",
      "Binary value of Read Mode:  0b100000000\n",
      "Owner has Read Permission - 0o400\n",
      "\n",
      "Binary value of Write Mode:  0b10000000\n",
      "Owner does not have Write Permission.\n",
      "\n",
      "Binary value of Execute Mode:  0b1000000\n",
      "Owner does not have Execute Permission.\n"
     ]
    }
   ],
   "source": [
    "# We have already created a file -> test_file.txt\n",
    "#         We will set the file Permission to READ ONLY\n",
    "\n",
    "file_path = \"test_file.txt\"\n",
    "\n",
    "# Set the file permission to READ-ONLY for the owner\n",
    "os.chmod(file_path, 0o400)\n",
    "\n",
    "# Now, we will check the File Permissions Once Again\n",
    "\n",
    "# Getting the File's Mode\n",
    "mode = os.stat(file_path).st_mode\n",
    "print(\"File mode in Octal:  \", oct(mode))\n",
    "print(\"File mode in Binary: \", bin(mode))\n",
    "\n",
    "# 1. READ PERMISSION - Check if the owner has Read Permission (0o400)\n",
    "#                      File mode in Octal:                 0b1000000110110110\n",
    "#                      Binary value of Read Mode (0o400):  0b0000000100000000\n",
    "#                      Binary & Operation Result:            0000000100000000 => 256 in Decimal\n",
    "print(\"\\nBinary value of Read Mode: \", bin(0o400))\n",
    "if mode & 0o400:\n",
    "    print(\"Owner has Read Permission - 0o400\")\n",
    "else:\n",
    "    print(\"Owner does not have Read Permission.\")\n",
    "\n",
    "\n",
    "# 2. WRITE PERMISSION - Check if the owner has Write Permission (0o200)\n",
    "#                       File mode in Octal:                  0b1000000110110110\n",
    "#                       Binary value of Write Mode (0o200):  0b0000000010000000\n",
    "#                       Binary & Operation Result:             0000000010000000 => 128 in Decimal\n",
    "print(\"\\nBinary value of Write Mode: \", bin(0o200))\n",
    "if mode & 0o200:\n",
    "    print(\"Owner has Write Permission - 0o200\")\n",
    "else:\n",
    "    print(\"Owner does not have Write Permission.\")\n",
    "\n",
    "\n",
    "# 3. EXECUTE PERMISSION - Check if the owner has Execute Permission (0o100)\n",
    "#                         File mode in Octal:                    0b1000000110110110\n",
    "#                         Binary value of Execute Mode (0o100):  0b0000000001000000\n",
    "#                         Binary & Operation Result:               0000000000000000 => 0 in Decimal\n",
    "print(\"\\nBinary value of Execute Mode: \", bin(0o100))\n",
    "if mode & 0o100:\n",
    "    print(\"Owner has Execute Permission - 0o100\")\n",
    "else:\n",
    "    print(\"Owner does not have Execute Permission.\")"
   ]
  },
  {
   "cell_type": "markdown",
   "id": "2a8c54a7",
   "metadata": {},
   "source": [
    "**The above results shows that the file has only Read-Only Permissions.**"
   ]
  },
  {
   "cell_type": "markdown",
   "id": "ca85abf6",
   "metadata": {},
   "source": [
    "       "
   ]
  },
  {
   "cell_type": "markdown",
   "id": "85103a38",
   "metadata": {},
   "source": [
    "     "
   ]
  },
  {
   "cell_type": "markdown",
   "id": "4f008bb8",
   "metadata": {},
   "source": [
    "#### Example 3:     \n",
    "Simulate Execute-Only Permission of a File for Owner. Thereafter, check it's Read, Write and Execute Permissions for the Owner.      \n",
    "**We will set File Permission to Execute-Only and then we will verify the permissions of a file.**"
   ]
  },
  {
   "cell_type": "code",
   "execution_count": 12,
   "id": "03aeba0b",
   "metadata": {},
   "outputs": [
    {
     "name": "stdout",
     "output_type": "stream",
     "text": [
      "File mode in Octal:   0o100444\n",
      "File mode in Binary:  0b1000000100100100\n",
      "\n",
      "Binary value of Read Mode:  0b100000000\n",
      "Owner has Read Permission - 0o400\n",
      "\n",
      "Binary value of Write Mode:  0b10000000\n",
      "Owner does not have Write Permission.\n",
      "\n",
      "Binary value of Execute Mode:  0b1000000\n",
      "Owner does not have Execute Permission.\n"
     ]
    }
   ],
   "source": [
    "# We have already created a file -> test_file.txt\n",
    "#         We will set this file Permission to WRITE ONLY\n",
    "\n",
    "file_path = \"test_file.txt\"\n",
    "\n",
    "# Set the file permission to EXECUTE-ONLY for the owner\n",
    "os.chmod(file_path, 0o100)\n",
    "\n",
    "\n",
    "# Now, we will check the File Permissions Once Again\n",
    "\n",
    "# Getting the File's Mode\n",
    "mode = os.stat(file_path).st_mode\n",
    "print(\"File mode in Octal:  \", oct(mode))\n",
    "print(\"File mode in Binary: \", bin(mode))\n",
    "\n",
    "\n",
    "# 1. READ PERMISSION - Check if the owner has Read Permission (0o400)\n",
    "#                      File mode in Octal:                 0b1000000110110110\n",
    "#                      Binary value of Read Mode (0o400):  0b0000000100000000\n",
    "#                      Binary & Operation Result:            0000000100000000 => 256 in Decimal\n",
    "print(\"\\nBinary value of Read Mode: \", bin(0o400))\n",
    "if mode & 0o400:\n",
    "    print(\"Owner has Read Permission - 0o400\")\n",
    "else:\n",
    "    print(\"Owner does not have Read Permission.\")\n",
    "\n",
    "\n",
    "# 2. WRITE PERMISSION - Check if the owner has Write Permission (0o200)\n",
    "#                       File mode in Octal:                  0b1000000110110110\n",
    "#                       Binary value of Write Mode (0o200):  0b0000000010000000\n",
    "#                       Binary & Operation Result:             0000000010000000 => 128 in Decimal\n",
    "print(\"\\nBinary value of Write Mode: \", bin(0o200))\n",
    "if mode & 0o200:\n",
    "    print(\"Owner has Write Permission - 0o200\")\n",
    "else:\n",
    "    print(\"Owner does not have Write Permission.\")\n",
    "\n",
    "\n",
    "# 3. EXECUTE PERMISSION - Check if the owner has Execute Permission (0o100)\n",
    "#                         File mode in Octal:                    0b1000000110110110\n",
    "#                         Binary value of Execute Mode (0o100):  0b0000000001000000\n",
    "#                         Binary & Operation Result:               0000000000000000 => 0 in Decimal\n",
    "print(\"\\nBinary value of Execute Mode: \", bin(0o100))\n",
    "if mode & 0o100:\n",
    "    print(\"Owner has Execute Permission - 0o100\")\n",
    "else:\n",
    "    print(\"Owner does not have Execute Permission.\")"
   ]
  },
  {
   "cell_type": "markdown",
   "id": "e8ead468",
   "metadata": {},
   "source": [
    "**<span style=\"color:black; background-color:yellow;\">\n",
    "The above code shows that the file is not executable.<br>\n",
    "Windows OS works differently as that Linux. We can change Read/Write Permissions of Files in Windows easily.<br>\n",
    "In order to setexecutable permissions on files, they should be either 'exe' or 'bat' files.\n",
    "</span>**"
   ]
  },
  {
   "cell_type": "code",
   "execution_count": 21,
   "id": "5ae6f9e0",
   "metadata": {},
   "outputs": [
    {
     "name": "stdout",
     "output_type": "stream",
     "text": [
      "Owner has Execute Permission - 0o100\n"
     ]
    }
   ],
   "source": [
    "# Creating exe files and changing its permission to Executable.\n",
    "\n",
    "import os\n",
    "\n",
    "file_path = \"test_file.exe\"\n",
    "\n",
    "with open(file_path, \"w\") as f:\n",
    "    f.write(\"Hello World\")\n",
    "\n",
    "\n",
    "# Set the file permission to EXECUTE-ONLY for the owner\n",
    "os.chmod(file_path, 0o100)  # Execute-only for owner, no permissions for group or others\n",
    "\n",
    "mode = os.stat(file_path).st_mode\n",
    "\n",
    "if mode & 0o100:\n",
    "    print(\"Owner has Execute Permission - 0o100\")\n",
    "else:\n",
    "    print(\"Owner does not have Execute Permission.\")\n"
   ]
  },
  {
   "cell_type": "code",
   "execution_count": 22,
   "id": "b9c38186",
   "metadata": {},
   "outputs": [
    {
     "name": "stdout",
     "output_type": "stream",
     "text": [
      "File mode in Octal:   0o100555\n",
      "File mode in Binary:  0b1000000101101101\n",
      "\n",
      "Binary value of Read Mode:  0b100000000\n",
      "Owner has Read Permission - 0o400\n",
      "\n",
      "Binary value of Write Mode:  0b10000000\n",
      "Owner does not have Write Permission.\n",
      "\n",
      "Binary value of Execute Mode:  0b1000000\n",
      "Owner has Execute Permission - 0o100\n"
     ]
    }
   ],
   "source": [
    "# Set the file permission to EXECUTE-ONLY for the owner\n",
    "os.chmod(file_path, 0o100)\n",
    "\n",
    "\n",
    "# Now, we will check the File Permissions Once Again\n",
    "\n",
    "# Getting the File's Mode\n",
    "mode = os.stat(file_path).st_mode\n",
    "print(\"File mode in Octal:  \", oct(mode))\n",
    "print(\"File mode in Binary: \", bin(mode))\n",
    "\n",
    "\n",
    "# 1. READ PERMISSION - Check if the owner has Read Permission (0o400)\n",
    "#                      File mode in Octal:                 0b1000000110110110\n",
    "#                      Binary value of Read Mode (0o400):  0b0000000100000000\n",
    "#                      Binary & Operation Result:            0000000100000000 => 256 in Decimal\n",
    "print(\"\\nBinary value of Read Mode: \", bin(0o400))\n",
    "if mode & 0o400:\n",
    "    print(\"Owner has Read Permission - 0o400\")\n",
    "else:\n",
    "    print(\"Owner does not have Read Permission.\")\n",
    "\n",
    "\n",
    "# 2. WRITE PERMISSION - Check if the owner has Write Permission (0o200)\n",
    "#                       File mode in Octal:                  0b1000000110110110\n",
    "#                       Binary value of Write Mode (0o200):  0b0000000010000000\n",
    "#                       Binary & Operation Result:             0000000010000000 => 128 in Decimal\n",
    "print(\"\\nBinary value of Write Mode: \", bin(0o200))\n",
    "if mode & 0o200:\n",
    "    print(\"Owner has Write Permission - 0o200\")\n",
    "else:\n",
    "    print(\"Owner does not have Write Permission.\")\n",
    "\n",
    "\n",
    "# 3. EXECUTE PERMISSION - Check if the owner has Execute Permission (0o100)\n",
    "#                         File mode in Octal:                    0b1000000110110110\n",
    "#                         Binary value of Execute Mode (0o100):  0b0000000001000000\n",
    "#                         Binary & Operation Result:               0000000000000000 => 0 in Decimal\n",
    "print(\"\\nBinary value of Execute Mode: \", bin(0o100))\n",
    "if mode & 0o100:\n",
    "    print(\"Owner has Execute Permission - 0o100\")\n",
    "else:\n",
    "    print(\"Owner does not have Execute Permission.\")"
   ]
  },
  {
   "cell_type": "markdown",
   "id": "9ea7a162",
   "metadata": {},
   "source": [
    "**<span style=\"color:black; background-color:yellow;\">\n",
    "We may not be able to rewrite on `test_file.exe` file unless write permissions on the file are not revoked.\n",
    "</span>**"
   ]
  },
  {
   "cell_type": "code",
   "execution_count": null,
   "id": "4a01a91f",
   "metadata": {},
   "outputs": [],
   "source": []
  },
  {
   "cell_type": "code",
   "execution_count": null,
   "id": "c9d0f268",
   "metadata": {},
   "outputs": [],
   "source": []
  },
  {
   "cell_type": "code",
   "execution_count": null,
   "id": "c9108d75",
   "metadata": {},
   "outputs": [],
   "source": []
  },
  {
   "cell_type": "code",
   "execution_count": null,
   "id": "4200fb23",
   "metadata": {},
   "outputs": [],
   "source": []
  },
  {
   "cell_type": "code",
   "execution_count": 19,
   "id": "41ad83f7",
   "metadata": {},
   "outputs": [
    {
     "name": "stdout",
     "output_type": "stream",
     "text": [
      "File permissions: 0o100666\n",
      "User has read permission\n",
      "User has write permission\n"
     ]
    }
   ],
   "source": [
    "# The Current Working Folder contains directory 'dira' with 'ProgramOne.txt' file.\n",
    "# We will get metadata information of 'ProgramOne.txt' file.\n",
    "file_path = \"C:\\\\Users\\\\AshmanMalhotra\\\\Desktop\\\\Course\\\\AshmanTutsGH\\\\Python Tutorials - Level 1\\\\Chapter 14 - Working with Files and Directories\\\\dira\\\\ProgramOne.txt\"\n",
    "\n",
    "# Checks file permissions of 'ProgramOne.txt' \"\"\"\n",
    "mode = os.stat(file_path).st_mode\n",
    "print(\"File permissions:\", oct(mode))\n",
    "\n",
    "# Check specific permissions (example)\n",
    "if mode & 0o400:\n",
    "    print(\"User has read permission\")\n",
    "\n",
    "if mode & 0o200:\n",
    "    print(\"User has write permission\")\n",
    "\n",
    "if mode & 0o100:\n",
    "    print(\"User has execute permission\")"
   ]
  },
  {
   "cell_type": "code",
   "execution_count": 24,
   "id": "52e83646",
   "metadata": {},
   "outputs": [
    {
     "data": {
      "text/plain": [
       "128"
      ]
     },
     "execution_count": 24,
     "metadata": {},
     "output_type": "execute_result"
    }
   ],
   "source": [
    "mode & 0o200"
   ]
  },
  {
   "cell_type": "code",
   "execution_count": 21,
   "id": "76c0aeb3",
   "metadata": {},
   "outputs": [
    {
     "data": {
      "text/plain": [
       "128"
      ]
     },
     "execution_count": 21,
     "metadata": {},
     "output_type": "execute_result"
    }
   ],
   "source": [
    "0o200"
   ]
  },
  {
   "cell_type": "code",
   "execution_count": 28,
   "id": "943cd6d5",
   "metadata": {},
   "outputs": [
    {
     "data": {
      "text/plain": [
       "'0b1000000110110110'"
      ]
     },
     "execution_count": 28,
     "metadata": {},
     "output_type": "execute_result"
    }
   ],
   "source": [
    "bin(mode)"
   ]
  },
  {
   "cell_type": "code",
   "execution_count": 29,
   "id": "af686267",
   "metadata": {},
   "outputs": [
    {
     "data": {
      "text/plain": [
       "'0b10000000'"
      ]
     },
     "execution_count": 29,
     "metadata": {},
     "output_type": "execute_result"
    }
   ],
   "source": [
    "bin(0o200)"
   ]
  },
  {
   "cell_type": "code",
   "execution_count": null,
   "id": "145414e5",
   "metadata": {},
   "outputs": [],
   "source": []
  },
  {
   "cell_type": "code",
   "execution_count": null,
   "id": "922d5045",
   "metadata": {},
   "outputs": [],
   "source": []
  },
  {
   "cell_type": "code",
   "execution_count": null,
   "id": "527b2986",
   "metadata": {},
   "outputs": [],
   "source": []
  },
  {
   "cell_type": "code",
   "execution_count": null,
   "id": "4fda7a1b",
   "metadata": {},
   "outputs": [],
   "source": []
  },
  {
   "cell_type": "code",
   "execution_count": null,
   "id": "5a8cf154",
   "metadata": {},
   "outputs": [],
   "source": []
  },
  {
   "cell_type": "markdown",
   "id": "15c6ad6e",
   "metadata": {},
   "source": [
    "**Important Notes:**     \n",
    "<pre>\n",
    "1. <b>Cross-Platform Behavior:</b> The 'os.access()' is available on most operating systems (Unix, Linux, Windows, etc.),\n",
    "   but it might behave differently depending on the platform.\n",
    "\n",
    "2. <b>Security Consideration:</b> The 'os.access()' check is based on the effective permissions at the time of the check,\n",
    "   but it doesn’t guarantee that the permission remains unchanged when you attempt to access the file afterward. \n",
    "   Therefore, relying on 'os.access()' for critical security decisions is generally discouraged.\n",
    "\n",
    "3. <b>Real User vs. Effective User:</b> This function checks permissions for the real user, not the effective user, making\n",
    "   it useful in scripts that switch users (e.g., when using <b>os.setuid</b> or <b>os.seteuid</b>)\n",
    "</pre>"
   ]
  },
  {
   "cell_type": "code",
   "execution_count": null,
   "id": "37da5854",
   "metadata": {},
   "outputs": [],
   "source": []
  },
  {
   "cell_type": "code",
   "execution_count": null,
   "id": "ab231dc3",
   "metadata": {},
   "outputs": [],
   "source": []
  },
  {
   "cell_type": "code",
   "execution_count": null,
   "id": "51378c03",
   "metadata": {},
   "outputs": [],
   "source": []
  },
  {
   "cell_type": "code",
   "execution_count": null,
   "id": "b8e90cb3",
   "metadata": {},
   "outputs": [],
   "source": []
  },
  {
   "cell_type": "code",
   "execution_count": null,
   "id": "e6c2e9e9",
   "metadata": {},
   "outputs": [],
   "source": []
  },
  {
   "cell_type": "code",
   "execution_count": null,
   "id": "9d1e4633",
   "metadata": {},
   "outputs": [],
   "source": []
  },
  {
   "cell_type": "code",
   "execution_count": null,
   "id": "891775d3",
   "metadata": {},
   "outputs": [],
   "source": []
  }
 ],
 "metadata": {
  "kernelspec": {
   "display_name": "Python 3 (ipykernel)",
   "language": "python",
   "name": "python3"
  },
  "language_info": {
   "codemirror_mode": {
    "name": "ipython",
    "version": 3
   },
   "file_extension": ".py",
   "mimetype": "text/x-python",
   "name": "python",
   "nbconvert_exporter": "python",
   "pygments_lexer": "ipython3",
   "version": "3.9.12"
  }
 },
 "nbformat": 4,
 "nbformat_minor": 5
}
