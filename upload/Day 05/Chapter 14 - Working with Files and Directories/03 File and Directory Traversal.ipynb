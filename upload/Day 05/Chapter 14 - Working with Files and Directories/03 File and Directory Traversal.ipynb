{
 "cells": [
  {
   "cell_type": "markdown",
   "id": "6517a150",
   "metadata": {},
   "source": [
    "# <b style=\"color:maroon; background-color:yellow;\">Recursive Directory Traversal</b>"
   ]
  },
  {
   "cell_type": "markdown",
   "id": "6f524d4d",
   "metadata": {},
   "source": [
    "### <b style=\"color:red;\">1. Import 'os' Library</b>"
   ]
  },
  {
   "cell_type": "code",
   "execution_count": 1,
   "id": "7ba03a0b",
   "metadata": {},
   "outputs": [],
   "source": [
    "import os"
   ]
  },
  {
   "cell_type": "markdown",
   "id": "7312f7e4",
   "metadata": {},
   "source": [
    "### <b style=\"color:red;\">2. Understanding os.walk</b>"
   ]
  },
  {
   "cell_type": "markdown",
   "id": "2fe282ba",
   "metadata": {},
   "source": [
    "The **os.walk()** function is a powerful tool for **traversing directory trees** in Python. It **yields** a **3-tuple** for each directory in the tree:     \n",
    "- **dirpath:** The path to the directory.   \n",
    "- **dirnames:** A list of subdirectory names in dirpath.\n",
    "- **filenames:** A list of filenames in dirpath.      \n",
    "\n",
    "The **result** is a **generator** and we can iterate using a loop."
   ]
  },
  {
   "cell_type": "markdown",
   "id": "b8b32a86",
   "metadata": {},
   "source": [
    "**Example:**      \n",
    "This following code iterates through all subdirectories and files in the specified directory, printing their paths.        "
   ]
  },
  {
   "cell_type": "code",
   "execution_count": 5,
   "id": "6ac37902",
   "metadata": {},
   "outputs": [
    {
     "name": "stdout",
     "output_type": "stream",
     "text": [
      "Root directory: C:\\Users\\AshmanMalhotra\\Desktop\\Course\\AshmanTutsGH\\Python Tutorials - Level 1\\Chapter 14 - Working with Files and Directories\n",
      "Subdirectories: ['.ipynb_checkpoints', 'dira', 'dirb', 'dirc_project']\n",
      "Files: ['01 Introduction.ipynb', '02 Common Functions and Attributes.ipynb', '03 File and Directory Traversal.ipynb']\n",
      "\n",
      "Root directory: C:\\Users\\AshmanMalhotra\\Desktop\\Course\\AshmanTutsGH\\Python Tutorials - Level 1\\Chapter 14 - Working with Files and Directories\\.ipynb_checkpoints\n",
      "Subdirectories: []\n",
      "Files: ['01 Introduction-checkpoint.ipynb', '02 Common Functions and Attributes-checkpoint.ipynb', '03 File and Directory Traversal-checkpoint.ipynb']\n",
      "\n",
      "Root directory: C:\\Users\\AshmanMalhotra\\Desktop\\Course\\AshmanTutsGH\\Python Tutorials - Level 1\\Chapter 14 - Working with Files and Directories\\dira\n",
      "Subdirectories: []\n",
      "Files: []\n",
      "\n",
      "Root directory: C:\\Users\\AshmanMalhotra\\Desktop\\Course\\AshmanTutsGH\\Python Tutorials - Level 1\\Chapter 14 - Working with Files and Directories\\dirb\n",
      "Subdirectories: []\n",
      "Files: []\n",
      "\n",
      "Root directory: C:\\Users\\AshmanMalhotra\\Desktop\\Course\\AshmanTutsGH\\Python Tutorials - Level 1\\Chapter 14 - Working with Files and Directories\\dirc_project\n",
      "Subdirectories: ['dirc_c1', 'dirc_c2']\n",
      "Files: []\n",
      "\n",
      "Root directory: C:\\Users\\AshmanMalhotra\\Desktop\\Course\\AshmanTutsGH\\Python Tutorials - Level 1\\Chapter 14 - Working with Files and Directories\\dirc_project\\dirc_c1\n",
      "Subdirectories: ['dirc_c1_01']\n",
      "Files: []\n",
      "\n",
      "Root directory: C:\\Users\\AshmanMalhotra\\Desktop\\Course\\AshmanTutsGH\\Python Tutorials - Level 1\\Chapter 14 - Working with Files and Directories\\dirc_project\\dirc_c1\\dirc_c1_01\n",
      "Subdirectories: []\n",
      "Files: ['dirc_c1_01_file.txt']\n",
      "\n",
      "Root directory: C:\\Users\\AshmanMalhotra\\Desktop\\Course\\AshmanTutsGH\\Python Tutorials - Level 1\\Chapter 14 - Working with Files and Directories\\dirc_project\\dirc_c2\n",
      "Subdirectories: []\n",
      "Files: []\n",
      "\n"
     ]
    }
   ],
   "source": [
    "# Get path to the directory or Current Working Directory\n",
    "# Let's get path to the Current Working Directory\n",
    "path = os.getcwd()\n",
    "\n",
    "for root, dirs, files in os.walk(path):\n",
    "    print(f\"Root directory: {root}\")\n",
    "    print(f\"Subdirectories: {dirs}\")\n",
    "    print(f\"Files: {files}\")\n",
    "    print()"
   ]
  },
  {
   "cell_type": "code",
   "execution_count": 7,
   "id": "7d948ee7",
   "metadata": {},
   "outputs": [],
   "source": [
    "# Example: \n",
    "# This code processes each file found in the directory and its subdirectories. \n",
    "# You can replace the comment with your desired file processing logic."
   ]
  },
  {
   "cell_type": "code",
   "execution_count": 8,
   "id": "ae113681",
   "metadata": {},
   "outputs": [
    {
     "name": "stdout",
     "output_type": "stream",
     "text": [
      "Processing file: C:\\Users\\AshmanMalhotra\\Desktop\\Course\\AshmanTutsGH\\Python Tutorials - Level 1\\Chapter 14 - Working with Files and Directories\\01 Introduction.ipynb\n",
      "Processing file: C:\\Users\\AshmanMalhotra\\Desktop\\Course\\AshmanTutsGH\\Python Tutorials - Level 1\\Chapter 14 - Working with Files and Directories\\02 Common Functions and Attributes.ipynb\n",
      "Processing file: C:\\Users\\AshmanMalhotra\\Desktop\\Course\\AshmanTutsGH\\Python Tutorials - Level 1\\Chapter 14 - Working with Files and Directories\\03 File and Directory Traversal.ipynb\n",
      "Processing file: C:\\Users\\AshmanMalhotra\\Desktop\\Course\\AshmanTutsGH\\Python Tutorials - Level 1\\Chapter 14 - Working with Files and Directories\\.ipynb_checkpoints\\01 Introduction-checkpoint.ipynb\n",
      "Processing file: C:\\Users\\AshmanMalhotra\\Desktop\\Course\\AshmanTutsGH\\Python Tutorials - Level 1\\Chapter 14 - Working with Files and Directories\\.ipynb_checkpoints\\02 Common Functions and Attributes-checkpoint.ipynb\n",
      "Processing file: C:\\Users\\AshmanMalhotra\\Desktop\\Course\\AshmanTutsGH\\Python Tutorials - Level 1\\Chapter 14 - Working with Files and Directories\\.ipynb_checkpoints\\03 File and Directory Traversal-checkpoint.ipynb\n",
      "Processing file: C:\\Users\\AshmanMalhotra\\Desktop\\Course\\AshmanTutsGH\\Python Tutorials - Level 1\\Chapter 14 - Working with Files and Directories\\dirc_project\\dirc_c1\\dirc_c1_01\\dirc_c1_01_file.txt\n"
     ]
    }
   ],
   "source": [
    "for root, _, files in os.walk(os.getcwd()):\n",
    "    for file in files:\n",
    "      file_path = os.path.join(root, file)\n",
    "      # Process the file here (e.g., read, modify, copy)\n",
    "      print(f\"Processing file: {file_path}\")"
   ]
  },
  {
   "cell_type": "code",
   "execution_count": null,
   "id": "ec212c1c",
   "metadata": {},
   "outputs": [],
   "source": []
  },
  {
   "cell_type": "code",
   "execution_count": 10,
   "id": "e7605742",
   "metadata": {},
   "outputs": [
    {
     "name": "stdout",
     "output_type": "stream",
     "text": [
      "Filtered file: C:\\Users\\AshmanMalhotra\\Desktop\\Course\\AshmanTutsGH\\Python Tutorials - Level 1\\Chapter 14 - Working with Files and Directories\\01 Introduction.ipynb\n",
      "Filtered file: C:\\Users\\AshmanMalhotra\\Desktop\\Course\\AshmanTutsGH\\Python Tutorials - Level 1\\Chapter 14 - Working with Files and Directories\\02 Common Functions and Attributes.ipynb\n",
      "Filtered file: C:\\Users\\AshmanMalhotra\\Desktop\\Course\\AshmanTutsGH\\Python Tutorials - Level 1\\Chapter 14 - Working with Files and Directories\\03 File and Directory Traversal.ipynb\n",
      "Filtered directory: C:\\Users\\AshmanMalhotra\\Desktop\\Course\\AshmanTutsGH\\Python Tutorials - Level 1\\Chapter 14 - Working with Files and Directories\\dira\n",
      "Filtered directory: C:\\Users\\AshmanMalhotra\\Desktop\\Course\\AshmanTutsGH\\Python Tutorials - Level 1\\Chapter 14 - Working with Files and Directories\\dirb\n",
      "Filtered file: C:\\Users\\AshmanMalhotra\\Desktop\\Course\\AshmanTutsGH\\Python Tutorials - Level 1\\Chapter 14 - Working with Files and Directories\\.ipynb_checkpoints\\01 Introduction-checkpoint.ipynb\n",
      "Filtered file: C:\\Users\\AshmanMalhotra\\Desktop\\Course\\AshmanTutsGH\\Python Tutorials - Level 1\\Chapter 14 - Working with Files and Directories\\.ipynb_checkpoints\\02 Common Functions and Attributes-checkpoint.ipynb\n",
      "Filtered file: C:\\Users\\AshmanMalhotra\\Desktop\\Course\\AshmanTutsGH\\Python Tutorials - Level 1\\Chapter 14 - Working with Files and Directories\\.ipynb_checkpoints\\03 File and Directory Traversal-checkpoint.ipynb\n",
      "Filtered file: C:\\Users\\AshmanMalhotra\\Desktop\\Course\\AshmanTutsGH\\Python Tutorials - Level 1\\Chapter 14 - Working with Files and Directories\\dirc_project\\dirc_c1\\dirc_c1_01\\dirc_c1_01_file.txt\n"
     ]
    }
   ],
   "source": [
    "def filter_files_and_directories(directory, file_extensions, directory_names):\n",
    "  for root, dirs, files in os.walk(directory):\n",
    "    # Filter files\n",
    "    filtered_files = [f for f in files if f.endswith(tuple(file_extensions))]\n",
    "    \n",
    "    # Filter directories\n",
    "    filtered_dirs = [d for d in dirs if d in directory_names]\n",
    "    \n",
    "    for file in filtered_files:\n",
    "      file_path = os.path.join(root, file)\n",
    "      # Process filtered files\n",
    "      print(f\"Filtered file: {file_path}\")\n",
    "    \n",
    "    for dir in filtered_dirs:\n",
    "      dir_path = os.path.join(root, dir)\n",
    "      # Process filtered directories\n",
    "      print(f\"Filtered directory: {dir_path}\")\n",
    "\n",
    "# Example usage:\n",
    "file_extensions = (\".txt\", \".ipynb\")\n",
    "directory_names = (\"dira\", \"dirb\", \"dirc\")\n",
    "filter_files_and_directories(os.getcwd(), file_extensions, directory_names)"
   ]
  },
  {
   "cell_type": "markdown",
   "id": "6a968572",
   "metadata": {},
   "source": [
    "#### Example:\n",
    "This code creates a JSON file containing information about the directory structure, including subdirectories and files."
   ]
  },
  {
   "cell_type": "code",
   "execution_count": 11,
   "id": "07904d6f",
   "metadata": {},
   "outputs": [],
   "source": [
    "import os\n",
    "import json\n",
    "\n",
    "def create_file_structure_report(directory, output_file):\n",
    "  file_structure = {}\n",
    "  for root, dirs, files in os.walk(directory):\n",
    "    relative_path = os.path.relpath(root, directory)\n",
    "    file_structure[relative_path] = {\n",
    "      \"subdirectories\": dirs,\n",
    "      \"files\": files\n",
    "    }\n",
    "  \n",
    "  with open(output_file, \"w\") as f:\n",
    "    json.dump(file_structure, f, indent=4)\n",
    "\n",
    "# Example usage:\n",
    "create_file_structure_report(os.getcwd(), \"file_structure.json\")"
   ]
  },
  {
   "cell_type": "code",
   "execution_count": null,
   "id": "382070a4",
   "metadata": {},
   "outputs": [],
   "source": []
  },
  {
   "cell_type": "markdown",
   "id": "bb19fc42",
   "metadata": {},
   "source": [
    "### <b style=\"color:red\">Iterative Directory Reversal</b>     \n",
    "**Function:** os.listdir(path)       \n",
    "The **os.listdir()** function in Python returns a list of **names of files** and **directories** in the specified directory. It's a fundamental tool for directory traversal, but unlike os.walk, it doesn't recursively explore subdirectories by default."
   ]
  },
  {
   "cell_type": "code",
   "execution_count": 12,
   "id": "5e99e457",
   "metadata": {},
   "outputs": [
    {
     "name": "stdout",
     "output_type": "stream",
     "text": [
      "Directory: C:\\Users\\AshmanMalhotra\\Desktop\\Course\\AshmanTutsGH\\Python Tutorials - Level 1\\Chapter 14 - Working with Files and Directories\\.ipynb_checkpoints\n",
      "File: C:\\Users\\AshmanMalhotra\\Desktop\\Course\\AshmanTutsGH\\Python Tutorials - Level 1\\Chapter 14 - Working with Files and Directories\\01 Introduction.ipynb\n",
      "File: C:\\Users\\AshmanMalhotra\\Desktop\\Course\\AshmanTutsGH\\Python Tutorials - Level 1\\Chapter 14 - Working with Files and Directories\\02 Common Functions and Attributes.ipynb\n",
      "File: C:\\Users\\AshmanMalhotra\\Desktop\\Course\\AshmanTutsGH\\Python Tutorials - Level 1\\Chapter 14 - Working with Files and Directories\\03 File and Directory Traversal.ipynb\n",
      "Directory: C:\\Users\\AshmanMalhotra\\Desktop\\Course\\AshmanTutsGH\\Python Tutorials - Level 1\\Chapter 14 - Working with Files and Directories\\dira\n",
      "Directory: C:\\Users\\AshmanMalhotra\\Desktop\\Course\\AshmanTutsGH\\Python Tutorials - Level 1\\Chapter 14 - Working with Files and Directories\\dirb\n",
      "Directory: C:\\Users\\AshmanMalhotra\\Desktop\\Course\\AshmanTutsGH\\Python Tutorials - Level 1\\Chapter 14 - Working with Files and Directories\\dirc_project\n"
     ]
    }
   ],
   "source": [
    "def list_directory_contents(directory):\n",
    "  \"\"\"Lists the contents of a directory iteratively.\"\"\"\n",
    "  for item in os.listdir(directory):\n",
    "    full_path = os.path.join(directory, item)\n",
    "    if os.path.isfile(full_path):\n",
    "      print(f\"File: {full_path}\")\n",
    "    elif os.path.isdir(full_path):\n",
    "      print(f\"Directory: {full_path}\")\n",
    "\n",
    "# Example usage:\n",
    "list_directory_contents(os.getcwd())"
   ]
  },
  {
   "cell_type": "code",
   "execution_count": 14,
   "id": "b07a8971",
   "metadata": {},
   "outputs": [
    {
     "data": {
      "text/plain": [
       "['.ipynb_checkpoints',\n",
       " '01 Introduction.ipynb',\n",
       " '02 Common Functions and Attributes.ipynb',\n",
       " '03 File and Directory Traversal.ipynb',\n",
       " 'dira',\n",
       " 'dirb',\n",
       " 'dirc_project']"
      ]
     },
     "execution_count": 14,
     "metadata": {},
     "output_type": "execute_result"
    }
   ],
   "source": [
    "# Example: List files and Directories inside the specified directory (or path)\n",
    "path = os.getcwd()\n",
    "os.listdir(path)"
   ]
  },
  {
   "cell_type": "code",
   "execution_count": null,
   "id": "5e5d1245",
   "metadata": {},
   "outputs": [],
   "source": []
  },
  {
   "cell_type": "code",
   "execution_count": null,
   "id": "f8fdb4af",
   "metadata": {},
   "outputs": [],
   "source": []
  },
  {
   "cell_type": "code",
   "execution_count": null,
   "id": "936a42c3",
   "metadata": {},
   "outputs": [],
   "source": []
  },
  {
   "cell_type": "code",
   "execution_count": null,
   "id": "1dc4af3f",
   "metadata": {},
   "outputs": [],
   "source": []
  },
  {
   "cell_type": "code",
   "execution_count": null,
   "id": "0b690568",
   "metadata": {},
   "outputs": [],
   "source": []
  },
  {
   "cell_type": "code",
   "execution_count": null,
   "id": "c5d9cbf0",
   "metadata": {},
   "outputs": [],
   "source": []
  },
  {
   "cell_type": "code",
   "execution_count": null,
   "id": "90c54fad",
   "metadata": {},
   "outputs": [],
   "source": []
  },
  {
   "cell_type": "code",
   "execution_count": null,
   "id": "1baa9ddc",
   "metadata": {},
   "outputs": [],
   "source": []
  },
  {
   "cell_type": "code",
   "execution_count": null,
   "id": "f5305d70",
   "metadata": {},
   "outputs": [],
   "source": []
  },
  {
   "cell_type": "code",
   "execution_count": null,
   "id": "50ff5b16",
   "metadata": {},
   "outputs": [],
   "source": []
  },
  {
   "cell_type": "code",
   "execution_count": null,
   "id": "f698a74c",
   "metadata": {},
   "outputs": [],
   "source": []
  },
  {
   "cell_type": "code",
   "execution_count": null,
   "id": "27da6cc3",
   "metadata": {},
   "outputs": [],
   "source": []
  },
  {
   "cell_type": "code",
   "execution_count": null,
   "id": "b56e0816",
   "metadata": {},
   "outputs": [],
   "source": []
  },
  {
   "cell_type": "code",
   "execution_count": null,
   "id": "2fc48f5a",
   "metadata": {},
   "outputs": [],
   "source": []
  },
  {
   "cell_type": "code",
   "execution_count": null,
   "id": "051cd80c",
   "metadata": {},
   "outputs": [],
   "source": []
  },
  {
   "cell_type": "code",
   "execution_count": null,
   "id": "7f5edfb4",
   "metadata": {},
   "outputs": [],
   "source": []
  },
  {
   "cell_type": "code",
   "execution_count": null,
   "id": "ef9485a5",
   "metadata": {},
   "outputs": [],
   "source": []
  },
  {
   "cell_type": "code",
   "execution_count": null,
   "id": "0d15fdab",
   "metadata": {},
   "outputs": [],
   "source": []
  },
  {
   "cell_type": "code",
   "execution_count": null,
   "id": "8d1345e9",
   "metadata": {},
   "outputs": [],
   "source": []
  },
  {
   "cell_type": "code",
   "execution_count": null,
   "id": "ca1188e1",
   "metadata": {},
   "outputs": [],
   "source": []
  },
  {
   "cell_type": "code",
   "execution_count": null,
   "id": "05cc4d0e",
   "metadata": {},
   "outputs": [],
   "source": []
  },
  {
   "cell_type": "code",
   "execution_count": null,
   "id": "f6345047",
   "metadata": {},
   "outputs": [],
   "source": []
  }
 ],
 "metadata": {
  "kernelspec": {
   "display_name": "Python 3 (ipykernel)",
   "language": "python",
   "name": "python3"
  },
  "language_info": {
   "codemirror_mode": {
    "name": "ipython",
    "version": 3
   },
   "file_extension": ".py",
   "mimetype": "text/x-python",
   "name": "python",
   "nbconvert_exporter": "python",
   "pygments_lexer": "ipython3",
   "version": "3.9.12"
  }
 },
 "nbformat": 4,
 "nbformat_minor": 5
}
