{
 "cells": [
  {
   "cell_type": "markdown",
   "id": "765d40d6",
   "metadata": {},
   "source": [
    "# <span style=\"color:maroon;\">Chapter 14 - Working with Files and Directories</span>     \n",
    "#### **Overview:**  \n",
    "This chapter delves into the essential tools and techniques for managing files and directories in Python. We'll explore the ***os module***, ***file*** and ***directory traversal***, ***metadata manipulation***, ***path handling*** and ***file compression/archiving***."
   ]
  },
  {
   "cell_type": "markdown",
   "id": "47ecf144",
   "metadata": {},
   "source": [
    "## 14.1 File and Directory Manipulation using the **os** module    \n",
    "#### Introduction to the **os** module   \n",
    "- Importing the **os** module  \n",
    "- Common functions and attributes: **getcwd**, **chdir**, **listdir**, **mkdir**, **makedirs**, **rmdir**, **removedirs**, **rename**, **remove**, **path.join**, **path.split**, **path.splitext**   \n",
    "\n",
    "#### Examples:      \n",
    "1. Getting the current working directory    \n",
    "2. Changing the current working directory    \n",
    "3. Listing files and directories in a directory   \n",
    "4. Creating directories (single and nested)    \n",
    "5. Renaming files and directories   \n",
    "6. Deleting files and directories"
   ]
  },
  {
   "cell_type": "markdown",
   "id": "5bf3e335",
   "metadata": {},
   "source": [
    "## 14.2 Files and Directories Traversal    \n",
    "#### Recursive directory traversal    \n",
    "- using **os.walk**    \n",
    "- Processing files and subdirectories     \n",
    "\n",
    "#### Iterative directory traversal       \n",
    "- using **os.listdir** and loops     \n",
    "\n",
    "#### Examples:      \n",
    "1. Finding all Python files in a directory tree    \n",
    "2. Calculating directory size     \n",
    "3. Copying files to a new directory     \n",
    "4. Deleting empty directory/directories       "
   ]
  },
  {
   "cell_type": "markdown",
   "id": "69c21744",
   "metadata": {},
   "source": [
    "## <b>14.3 File and Directory Metadata</b>\n",
    "#### 1. Accessing File Information:\n",
    "       - os.stat and os.path.getsize, os.path.getmtime, os.path.getctime\n",
    "       - File permissions, ownership, creation/modification times<br>\n",
    "\n",
    "#### Examples:\n",
    "       - Getting file size and creation time\n",
    "       - Checking file permissions\n",
    "       - Finding the oldest file in a directory\n",
    "       - Creating a file listing with metadata"
   ]
  },
  {
   "cell_type": "markdown",
   "id": "f219ab36",
   "metadata": {},
   "source": [
    "## 14.4 Working with Path and File Extensions     \n",
    "#### Path Manipulation:    \n",
    "- Joining and Splitting Paths\n",
    "- Getting File Name and Extension     \n",
    "- Normalizing Paths    \n",
    "\n",
    "#### File Extension Handling:     \n",
    "- Filtering Files by Extension     \n",
    "- Changing File Extensions      \n",
    "\n",
    "#### Examples:    \n",
    "- Creating Absolute Paths\n",
    "- Extracting File Name and Extension\n",
    "- Filetering Image Files    \n",
    "- Renaming Files with a Specific Extension"
   ]
  },
  {
   "cell_type": "markdown",
   "id": "f89e0b1e",
   "metadata": {},
   "source": [
    "## 14.5 File Compression and Archiving      \n",
    "#### Introducing to Compression Formats    \n",
    "- **ZIP**, **gzip**, **tar**      \n",
    "\n",
    "#### Using **zipfile** and **shutil** modules    \n",
    "- Creating and Extracting ZIP archives    \n",
    "- Compressing and Decompressing files     \n",
    "\n",
    "#### Exmamples:    \n",
    "1. Creating a ZIP archive of files.\n",
    "2. Extracting Files from a ZIP archive\n",
    "3. Compressing a Directory   \n",
    "4. Decompressing a Compressed file"
   ]
  },
  {
   "cell_type": "markdown",
   "id": "2f2f9fc0",
   "metadata": {},
   "source": [
    "## Additional Considerations:     \n",
    "- **Error Handling:** Incorporate **try-except** blocks to handle potential exceptions like file not found, permission denied, etc.   \n",
    "- **Best Practices:** Emphasize Code Readability, Efficiency and Maintainability.     \n",
    "- **Real-World Applications:** Provide examples of how these concepts can be applied in practical scenarios (e.g. File Backup, Data Analysis, Web Applications).    \n",
    "\n",
    "\n",
    "- **Exercises:** Include practice Exercises at the end of each Section to reinforce learning"
   ]
  },
  {
   "cell_type": "code",
   "execution_count": null,
   "id": "6ae61021",
   "metadata": {},
   "outputs": [],
   "source": []
  },
  {
   "cell_type": "code",
   "execution_count": null,
   "id": "bf4a1804",
   "metadata": {},
   "outputs": [],
   "source": []
  },
  {
   "cell_type": "code",
   "execution_count": null,
   "id": "e8a21fb5",
   "metadata": {},
   "outputs": [],
   "source": []
  },
  {
   "cell_type": "code",
   "execution_count": null,
   "id": "3772d1cd",
   "metadata": {},
   "outputs": [],
   "source": []
  }
 ],
 "metadata": {
  "kernelspec": {
   "display_name": "Python 3 (ipykernel)",
   "language": "python",
   "name": "python3"
  },
  "language_info": {
   "codemirror_mode": {
    "name": "ipython",
    "version": 3
   },
   "file_extension": ".py",
   "mimetype": "text/x-python",
   "name": "python",
   "nbconvert_exporter": "python",
   "pygments_lexer": "ipython3",
   "version": "3.9.12"
  }
 },
 "nbformat": 4,
 "nbformat_minor": 5
}
