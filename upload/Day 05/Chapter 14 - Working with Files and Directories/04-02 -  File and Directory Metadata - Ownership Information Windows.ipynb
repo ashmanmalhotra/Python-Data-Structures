{
 "cells": [
  {
   "cell_type": "markdown",
   "id": "0e496acf",
   "metadata": {},
   "source": [
    "# <span style=\"color:red;\">1. Ownership Information on Windows</span>"
   ]
  },
  {
   "cell_type": "markdown",
   "id": "6fcac460",
   "metadata": {},
   "source": [
    "**In Windows**, ownership is often represented differently than on Unix systems. While `os.stat()` still provides `st_uid` and `st_gid`, these may not directly translate to meaningful user or group names without using `Windows-specific` APIs like `win32security`."
   ]
  },
  {
   "cell_type": "markdown",
   "id": "d0a16e4e",
   "metadata": {},
   "source": [
    "It is possible to retrieve ownership information using Python’s `os` and `win32api` modules."
   ]
  },
  {
   "cell_type": "code",
   "execution_count": 5,
   "id": "5eab66c3",
   "metadata": {},
   "outputs": [
    {
     "name": "stdout",
     "output_type": "stream",
     "text": [
      "Owner: AshmanMalhotra\n"
     ]
    }
   ],
   "source": [
    "# 1. Retrieve Ownership Information using win32security\n",
    "\n",
    "import win32security\n",
    "\n",
    "def get_file_owner(file_path):\n",
    "    sd = win32security.GetFileSecurity(file_path, win32security.OWNER_SECURITY_INFORMATION)\n",
    "    owner_sid   = sd.GetSecurityDescriptorOwner()\n",
    "    owner, _, _ = win32security.LookupAccountSid(None, owner_sid)\n",
    "    \n",
    "    print(f\"Owner: {owner}\")\n",
    "\n",
    "\n",
    "get_file_owner('test_file.txt')"
   ]
  },
  {
   "cell_type": "markdown",
   "id": "27280246",
   "metadata": {},
   "source": [
    "**⬆️ It shows the owner of the file `test_file.txt`.**"
   ]
  },
  {
   "cell_type": "markdown",
   "id": "d1cada89",
   "metadata": {},
   "source": [
    "**Insights:**    \n",
    "- The `win32security` module is part of the `pywin32` library, which provides access to many Windows APIs for file and security management.\n",
    "- On Windows, the owner is determined based on the security identifier (SID) associated with the file."
   ]
  },
  {
   "cell_type": "code",
   "execution_count": null,
   "id": "df178773",
   "metadata": {},
   "outputs": [],
   "source": []
  },
  {
   "cell_type": "code",
   "execution_count": null,
   "id": "bf94774f",
   "metadata": {},
   "outputs": [],
   "source": []
  },
  {
   "cell_type": "code",
   "execution_count": null,
   "id": "3ac5f75a",
   "metadata": {},
   "outputs": [],
   "source": []
  },
  {
   "cell_type": "code",
   "execution_count": null,
   "id": "f3ab9b20",
   "metadata": {},
   "outputs": [],
   "source": []
  },
  {
   "cell_type": "code",
   "execution_count": null,
   "id": "59c1ed1b",
   "metadata": {},
   "outputs": [],
   "source": []
  },
  {
   "cell_type": "code",
   "execution_count": null,
   "id": "28e7375d",
   "metadata": {},
   "outputs": [],
   "source": []
  },
  {
   "cell_type": "code",
   "execution_count": null,
   "id": "f35669e1",
   "metadata": {},
   "outputs": [],
   "source": []
  },
  {
   "cell_type": "code",
   "execution_count": null,
   "id": "7645ee0c",
   "metadata": {},
   "outputs": [],
   "source": []
  },
  {
   "cell_type": "code",
   "execution_count": null,
   "id": "7c8fb881",
   "metadata": {},
   "outputs": [],
   "source": []
  },
  {
   "cell_type": "code",
   "execution_count": null,
   "id": "cd31ffb4",
   "metadata": {},
   "outputs": [],
   "source": []
  },
  {
   "cell_type": "code",
   "execution_count": null,
   "id": "293eaff5",
   "metadata": {},
   "outputs": [],
   "source": []
  },
  {
   "cell_type": "code",
   "execution_count": null,
   "id": "6e0f17e7",
   "metadata": {},
   "outputs": [],
   "source": []
  },
  {
   "cell_type": "code",
   "execution_count": null,
   "id": "78b4a63a",
   "metadata": {},
   "outputs": [],
   "source": []
  },
  {
   "cell_type": "code",
   "execution_count": null,
   "id": "9867ef2a",
   "metadata": {},
   "outputs": [],
   "source": []
  },
  {
   "cell_type": "code",
   "execution_count": null,
   "id": "9087a5e7",
   "metadata": {},
   "outputs": [],
   "source": []
  },
  {
   "cell_type": "code",
   "execution_count": null,
   "id": "c842b5f3",
   "metadata": {},
   "outputs": [],
   "source": []
  },
  {
   "cell_type": "markdown",
   "id": "59a7f8d8",
   "metadata": {},
   "source": [
    "# <span style=\"color:red;\">2. Creation and Modification Times (Windows-Specific)</span>     \n",
    "Windows handles file creation time (`st_ctime`) differently from Unix. On Windows, `st_ctime` represents the file's creation time, while on Unix it represents the inode change time."
   ]
  },
  {
   "cell_type": "code",
   "execution_count": 7,
   "id": "2d318c9e",
   "metadata": {},
   "outputs": [
    {
     "name": "stdout",
     "output_type": "stream",
     "text": [
      "Creation time: Sun Aug 25 18:23:23 2024\n",
      "Last modified: Mon Aug 26 00:36:31 2024\n",
      "\n",
      "Creation time: Sun Aug 25 18:23:23 2024\n",
      "Last modified: Mon Aug 26 00:36:31 2024\n"
     ]
    }
   ],
   "source": [
    "import os\n",
    "import time\n",
    "\n",
    "file_path = 'test_file.txt'\n",
    "\n",
    "# Using os.stat()\n",
    "stat_info         = os.stat(file_path)\n",
    "creation_time     = stat_info.st_ctime\n",
    "modification_time = stat_info.st_mtime\n",
    "\n",
    "print(\"Creation time:\", time.ctime(creation_time))\n",
    "print(\"Last modified:\", time.ctime(modification_time))\n",
    "\n",
    "# Using os.path for convenience\n",
    "print(\"\\nCreation time:\", time.ctime(os.path.getctime(file_path)))\n",
    "print(\"Last modified:\", time.ctime(os.path.getmtime(file_path)))"
   ]
  },
  {
   "cell_type": "markdown",
   "id": "f6632645",
   "metadata": {},
   "source": [
    "**Tips:**     \n",
    "- The `time.ctime()` function converts a timestamp to a readable format (e.g., `Wed Aug 17 15:35:29 2023`).\n",
    "- On Windows, the creation time retrieved from `os.path.getctime()` accurately represents when the file was created."
   ]
  },
  {
   "cell_type": "code",
   "execution_count": null,
   "id": "e8ad41a8",
   "metadata": {},
   "outputs": [],
   "source": []
  },
  {
   "cell_type": "code",
   "execution_count": null,
   "id": "13a8a467",
   "metadata": {},
   "outputs": [],
   "source": []
  },
  {
   "cell_type": "code",
   "execution_count": null,
   "id": "c7c26436",
   "metadata": {},
   "outputs": [],
   "source": []
  },
  {
   "cell_type": "code",
   "execution_count": null,
   "id": "e77c736e",
   "metadata": {},
   "outputs": [],
   "source": []
  },
  {
   "cell_type": "code",
   "execution_count": null,
   "id": "b3f8d0c4",
   "metadata": {},
   "outputs": [],
   "source": []
  },
  {
   "cell_type": "code",
   "execution_count": null,
   "id": "68a04e3e",
   "metadata": {},
   "outputs": [],
   "source": []
  },
  {
   "cell_type": "code",
   "execution_count": null,
   "id": "53f8491b",
   "metadata": {},
   "outputs": [],
   "source": []
  },
  {
   "cell_type": "code",
   "execution_count": null,
   "id": "657fac6b",
   "metadata": {},
   "outputs": [],
   "source": []
  },
  {
   "cell_type": "code",
   "execution_count": null,
   "id": "41e509ff",
   "metadata": {},
   "outputs": [],
   "source": []
  },
  {
   "cell_type": "code",
   "execution_count": null,
   "id": "6529627f",
   "metadata": {},
   "outputs": [],
   "source": []
  },
  {
   "cell_type": "code",
   "execution_count": null,
   "id": "5a615024",
   "metadata": {},
   "outputs": [],
   "source": []
  },
  {
   "cell_type": "markdown",
   "id": "90707d65",
   "metadata": {},
   "source": [
    "# <span style=\"color:red;\">3. Practical Examples and Use Cases for Windows</span>     "
   ]
  },
  {
   "cell_type": "markdown",
   "id": "9c0fae35",
   "metadata": {},
   "source": [
    "## <span style=\"color:blue;\">A. File Size and Creation Time (Windows)</span>"
   ]
  },
  {
   "cell_type": "markdown",
   "id": "ec90d863",
   "metadata": {},
   "source": [
    "### Example 1: Getting the File Size and Creation Time (Windows)"
   ]
  },
  {
   "cell_type": "code",
   "execution_count": 8,
   "id": "a0700c77",
   "metadata": {},
   "outputs": [
    {
     "name": "stdout",
     "output_type": "stream",
     "text": [
      "File Size: 20 bytes\n",
      "Creation Time: Sun Aug 25 18:23:23 2024\n"
     ]
    }
   ],
   "source": [
    "import os\n",
    "import time\n",
    "\n",
    "def get_file_info(file_path):\n",
    "    if os.path.exists(file_path):\n",
    "        file_size = os.path.getsize(file_path)\n",
    "        creation_time = os.path.getctime(file_path)\n",
    "        \n",
    "        print(f\"File Size: {file_size} bytes\")\n",
    "        print(f\"Creation Time: {time.ctime(creation_time)}\")\n",
    "    else:\n",
    "        print(\"File does not exist.\")\n",
    "\n",
    "\n",
    "get_file_info('test_file.txt')"
   ]
  },
  {
   "cell_type": "code",
   "execution_count": null,
   "id": "5874839c",
   "metadata": {},
   "outputs": [],
   "source": []
  },
  {
   "cell_type": "code",
   "execution_count": null,
   "id": "cc3b8218",
   "metadata": {},
   "outputs": [],
   "source": []
  },
  {
   "cell_type": "markdown",
   "id": "b4bd75a9",
   "metadata": {},
   "source": [
    "## <span style=\"color:blue;\">B. File Permissions (Windows)</span>"
   ]
  },
  {
   "cell_type": "markdown",
   "id": "45ddaff9",
   "metadata": {},
   "source": [
    "### Example 1: Checking File Permissions (Windows)      \n",
    "On Windows, the `os.access()` method can still be used to check `read`, `write` and `execute` permissions. However, it’s worth noting that permissions on Windows are managed differently from Unix, relying on ACLs (Access Control Lists) rather than the traditional Unix `rwx` model."
   ]
  },
  {
   "cell_type": "code",
   "execution_count": 9,
   "id": "33976a8d",
   "metadata": {},
   "outputs": [
    {
     "name": "stdout",
     "output_type": "stream",
     "text": [
      "File is readable.\n",
      "File is not writable.\n"
     ]
    }
   ],
   "source": [
    "import os\n",
    "\n",
    "file_path = 'test_file.txt'\n",
    "\n",
    "\n",
    "# Check if the file is readable\n",
    "if os.access(file_path, os.R_OK):\n",
    "    print(\"File is readable.\")\n",
    "else:\n",
    "    print(\"File is not readable.\")\n",
    "\n",
    "\n",
    "# Check if the file is writable\n",
    "if os.access(file_path, os.W_OK):\n",
    "    print(\"File is writable.\")\n",
    "else:\n",
    "    print(\"File is not writable.\")"
   ]
  },
  {
   "cell_type": "code",
   "execution_count": null,
   "id": "a5c84a61",
   "metadata": {},
   "outputs": [],
   "source": []
  },
  {
   "cell_type": "markdown",
   "id": "12e4f187",
   "metadata": {},
   "source": [
    "### Example 2: Finding the Oldest File in a Directory (Windows)     \n",
    "The following example scans a directory to find the oldest file based on creation time:"
   ]
  },
  {
   "cell_type": "code",
   "execution_count": 12,
   "id": "6bb191ae",
   "metadata": {},
   "outputs": [
    {
     "name": "stdout",
     "output_type": "stream",
     "text": [
      "Oldest file: C:\\Users\\AshmanMalhotra\\Desktop\\Course\\AshmanTutsGH\\Python Tutorials - Level 1\\Chapter 14 - Working with Files and Directories\\01 Introduction.ipynb\n",
      "\n",
      "Creation time: Wed Aug 14 01:29:36 2024\n"
     ]
    }
   ],
   "source": [
    "import os\n",
    "import time\n",
    "\n",
    "def find_oldest_file(directory):\n",
    "    oldest_file = None\n",
    "    oldest_time = float('inf')             # Start with a very large timestamp\n",
    "\n",
    "    for root, dirs, files in os.walk(directory):\n",
    "        for file_name in files:\n",
    "            file_path = os.path.join(root, file_name)\n",
    "            creation_time = os.path.getctime(file_path)\n",
    "            \n",
    "            if creation_time < oldest_time:\n",
    "                oldest_time = creation_time\n",
    "                oldest_file = file_path\n",
    "\n",
    "    if oldest_file:\n",
    "        print(f\"Oldest file: {oldest_file}\")\n",
    "        print(f\"\\nCreation time: {time.ctime(oldest_time)}\")\n",
    "    else:\n",
    "        print(\"No files found.\")\n",
    "\n",
    "\n",
    "find_oldest_file(os.getcwd())"
   ]
  },
  {
   "cell_type": "markdown",
   "id": "a39b3086",
   "metadata": {},
   "source": [
    "**We can also pass the different directory path to track files inside the given directory.**"
   ]
  },
  {
   "cell_type": "code",
   "execution_count": null,
   "id": "178a0721",
   "metadata": {},
   "outputs": [],
   "source": []
  },
  {
   "cell_type": "markdown",
   "id": "f058a44e",
   "metadata": {},
   "source": [
    "### Example 3: Creating a File Listing with Metadata (Windows)\n",
    "This example generates a list of files in a directory along with their size, creation time and permissions:"
   ]
  },
  {
   "cell_type": "code",
   "execution_count": 14,
   "id": "323e516c",
   "metadata": {},
   "outputs": [
    {
     "name": "stdout",
     "output_type": "stream",
     "text": [
      "File: 01 Introduction.ipynb\n",
      "  Size: 5528 bytes\n",
      "  Readable: True\n",
      "  Writable: True\n",
      "  Executable: True\n",
      "  Creation Time: Wed Aug 14 01:29:36 2024\n",
      "  Last Modified: Sun Aug 25 15:49:51 2024\n",
      "--------------------------------------------------\n",
      "\n",
      "File: 02 Common Functions and Attributes.ipynb\n",
      "  Size: 123833 bytes\n",
      "  Readable: True\n",
      "  Writable: True\n",
      "  Executable: True\n",
      "  Creation Time: Wed Aug 14 01:34:21 2024\n",
      "  Last Modified: Sun Aug 25 15:22:32 2024\n",
      "--------------------------------------------------\n",
      "\n",
      "File: 03 File and Directory Traversal.ipynb\n",
      "  Size: 17457 bytes\n",
      "  Readable: True\n",
      "  Writable: True\n",
      "  Executable: True\n",
      "  Creation Time: Thu Aug 15 13:38:28 2024\n",
      "  Last Modified: Thu Aug 15 16:49:33 2024\n",
      "--------------------------------------------------\n",
      "\n",
      "File: 04-01 File and Directory Metadata with Python's os Module.ipynb\n",
      "  Size: 48025 bytes\n",
      "  Readable: True\n",
      "  Writable: True\n",
      "  Executable: True\n",
      "  Creation Time: Thu Aug 15 16:49:41 2024\n",
      "  Last Modified: Mon Aug 26 17:26:18 2024\n",
      "--------------------------------------------------\n",
      "\n",
      "File: 04-02 -  File and Directory Metadata - Ownership Information Windows.ipynb\n",
      "  Size: 19252 bytes\n",
      "  Readable: True\n",
      "  Writable: True\n",
      "  Executable: True\n",
      "  Creation Time: Mon Aug 26 17:52:12 2024\n",
      "  Last Modified: Mon Aug 26 23:54:14 2024\n",
      "--------------------------------------------------\n",
      "\n",
      "File: test_file.exe\n",
      "  Size: 11 bytes\n",
      "  Readable: True\n",
      "  Writable: False\n",
      "  Executable: True\n",
      "  Creation Time: Mon Aug 26 16:28:10 2024\n",
      "  Last Modified: Mon Aug 26 17:23:15 2024\n",
      "--------------------------------------------------\n",
      "\n",
      "File: test_file.txt\n",
      "  Size: 20 bytes\n",
      "  Readable: True\n",
      "  Writable: False\n",
      "  Executable: True\n",
      "  Creation Time: Sun Aug 25 18:23:23 2024\n",
      "  Last Modified: Mon Aug 26 00:36:31 2024\n",
      "--------------------------------------------------\n",
      "\n",
      "File: Untitled.ipynb\n",
      "  Size: 72 bytes\n",
      "  Readable: True\n",
      "  Writable: True\n",
      "  Executable: True\n",
      "  Creation Time: Mon Aug 26 17:52:07 2024\n",
      "  Last Modified: Mon Aug 26 17:52:07 2024\n",
      "--------------------------------------------------\n",
      "\n",
      "File: 01 Introduction-checkpoint.ipynb\n",
      "  Size: 1086 bytes\n",
      "  Readable: True\n",
      "  Writable: True\n",
      "  Executable: True\n",
      "  Creation Time: Wed Aug 14 01:29:36 2024\n",
      "  Last Modified: Wed Aug 14 01:34:06 2024\n",
      "--------------------------------------------------\n",
      "\n",
      "File: 02 Common Functions and Attributes-checkpoint.ipynb\n",
      "  Size: 123833 bytes\n",
      "  Readable: True\n",
      "  Writable: True\n",
      "  Executable: True\n",
      "  Creation Time: Wed Aug 14 01:34:21 2024\n",
      "  Last Modified: Thu Aug 15 13:38:14 2024\n",
      "--------------------------------------------------\n",
      "\n",
      "File: 03 File and Directory Traversal-checkpoint.ipynb\n",
      "  Size: 17457 bytes\n",
      "  Readable: True\n",
      "  Writable: True\n",
      "  Executable: True\n",
      "  Creation Time: Thu Aug 15 13:38:28 2024\n",
      "  Last Modified: Thu Aug 15 16:49:33 2024\n",
      "--------------------------------------------------\n",
      "\n",
      "File: 04-01 File and Directory Metadata with Python's os Module-checkpoint.ipynb\n",
      "  Size: 16339 bytes\n",
      "  Readable: True\n",
      "  Writable: True\n",
      "  Executable: True\n",
      "  Creation Time: Thu Aug 15 16:49:41 2024\n",
      "  Last Modified: Wed Aug 21 22:37:01 2024\n",
      "--------------------------------------------------\n",
      "\n",
      "File: 04-02 -  File and Directory Metadata - Ownership Information Windows-checkpoint.ipynb\n",
      "  Size: 72 bytes\n",
      "  Readable: True\n",
      "  Writable: True\n",
      "  Executable: True\n",
      "  Creation Time: Mon Aug 26 17:52:12 2024\n",
      "  Last Modified: Mon Aug 26 17:52:12 2024\n",
      "--------------------------------------------------\n",
      "\n",
      "File: Untitled-checkpoint.ipynb\n",
      "  Size: 72 bytes\n",
      "  Readable: True\n",
      "  Writable: True\n",
      "  Executable: True\n",
      "  Creation Time: Mon Aug 26 17:52:07 2024\n",
      "  Last Modified: Mon Aug 26 17:52:07 2024\n",
      "--------------------------------------------------\n",
      "\n",
      "File: ProgramOne.txt\n",
      "  Size: 51 bytes\n",
      "  Readable: True\n",
      "  Writable: True\n",
      "  Executable: True\n",
      "  Creation Time: Thu Aug 15 17:03:44 2024\n",
      "  Last Modified: Thu Aug 15 17:04:38 2024\n",
      "--------------------------------------------------\n",
      "\n",
      "File: dirc_c1_01_file.txt\n",
      "  Size: 0 bytes\n",
      "  Readable: True\n",
      "  Writable: True\n",
      "  Executable: True\n",
      "  Creation Time: Thu Aug 15 14:14:30 2024\n",
      "  Last Modified: Thu Aug 15 14:14:30 2024\n",
      "--------------------------------------------------\n",
      "\n"
     ]
    }
   ],
   "source": [
    "import os\n",
    "import time\n",
    "\n",
    "def list_files_with_metadata(directory):\n",
    "    for root, dirs, files in os.walk(directory):\n",
    "        for file_name in files:\n",
    "            file_path = os.path.join(root, file_name)\n",
    "            stat_info = os.stat(file_path)\n",
    "\n",
    "            # File size\n",
    "            file_size = stat_info.st_size\n",
    "\n",
    "            # Permissions (using os.access)\n",
    "            readable = os.access(file_path, os.R_OK)\n",
    "            writable = os.access(file_path, os.W_OK)\n",
    "            executable = os.access(file_path, os.X_OK)\n",
    "\n",
    "            # Timestamps\n",
    "            creation_time = time.ctime(os.path.getctime(file_path))\n",
    "            modification_time = time.ctime(os.path.getmtime(file_path))\n",
    "\n",
    "            print(f\"File: {file_name}\")\n",
    "            print(f\"  Size: {file_size} bytes\")\n",
    "            print(f\"  Readable: {readable}\")\n",
    "            print(f\"  Writable: {writable}\")\n",
    "            print(f\"  Executable: {executable}\")\n",
    "            print(f\"  Creation Time: {creation_time}\")\n",
    "            print(f\"  Last Modified: {modification_time}\")\n",
    "            print(\"-\" * 50)\n",
    "            print()\n",
    "\n",
    "\n",
    "            \n",
    "list_files_with_metadata(os.getcwd())"
   ]
  },
  {
   "cell_type": "code",
   "execution_count": null,
   "id": "ae1fc8ef",
   "metadata": {},
   "outputs": [],
   "source": []
  },
  {
   "cell_type": "markdown",
   "id": "296cf650",
   "metadata": {},
   "source": [
    "**Additional Pointers:**   \n",
    "- On Windows, you can use the `win32api` and `win32security` modules for more granular control over file security and ownership.\n",
    "- The `os.walk()` function is highly useful for recursively scanning directories and listing files, making it easier to gather metadata for all files in a directory.\n",
    "- Use `pathlib` for a more object-oriented approach to file handling. It works seamlessly across platforms and provides higher-level abstractions."
   ]
  },
  {
   "cell_type": "code",
   "execution_count": null,
   "id": "af2f7271",
   "metadata": {},
   "outputs": [],
   "source": []
  },
  {
   "cell_type": "code",
   "execution_count": null,
   "id": "1863940d",
   "metadata": {},
   "outputs": [],
   "source": []
  },
  {
   "cell_type": "code",
   "execution_count": null,
   "id": "ba643210",
   "metadata": {},
   "outputs": [],
   "source": []
  },
  {
   "cell_type": "code",
   "execution_count": null,
   "id": "5cc993cb",
   "metadata": {},
   "outputs": [],
   "source": []
  },
  {
   "cell_type": "code",
   "execution_count": null,
   "id": "b4fc57c5",
   "metadata": {},
   "outputs": [],
   "source": []
  },
  {
   "cell_type": "code",
   "execution_count": null,
   "id": "a8ad11fd",
   "metadata": {},
   "outputs": [],
   "source": []
  },
  {
   "cell_type": "code",
   "execution_count": null,
   "id": "224a89fe",
   "metadata": {},
   "outputs": [],
   "source": []
  },
  {
   "cell_type": "code",
   "execution_count": null,
   "id": "03ecc7ed",
   "metadata": {},
   "outputs": [],
   "source": []
  },
  {
   "cell_type": "markdown",
   "id": "55543bb8",
   "metadata": {},
   "source": [
    "**Ownership information includes:**\n",
    "- **User ID (UID):** The owner of the file.\n",
    "- **Group ID (GID):** The group associated with the file.    \n",
    "\n",
    "This information can be accessed using `os.stat()`."
   ]
  },
  {
   "cell_type": "code",
   "execution_count": 2,
   "id": "379437ae",
   "metadata": {},
   "outputs": [
    {
     "name": "stdout",
     "output_type": "stream",
     "text": [
      "Owner's User ID: 0\n",
      "Owner's Group ID: 0\n"
     ]
    }
   ],
   "source": [
    "import os\n",
    "\n",
    "file_path = 'test_file.txt'\n",
    "stat_info = os.stat(file_path)\n",
    "\n",
    "# Getting UID and GID\n",
    "uid = stat_info.st_uid\n",
    "gid = stat_info.st_gid\n",
    "\n",
    "print(f\"Owner's User ID: {uid}\")\n",
    "print(f\"Owner's Group ID: {gid}\")"
   ]
  },
  {
   "cell_type": "code",
   "execution_count": 3,
   "id": "1af1d8f3",
   "metadata": {},
   "outputs": [
    {
     "name": "stdout",
     "output_type": "stream",
     "text": [
      "Owner: AshmanMalhotra\n"
     ]
    }
   ],
   "source": [
    "import os\n",
    "import win32security\n",
    "\n",
    "def get_file_owner(file_path):\n",
    "    sd = win32security.GetFileSecurity(file_path, win32security.OWNER_SECURITY_INFORMATION)\n",
    "    owner_sid = sd.GetSecurityDescriptorOwner()\n",
    "    owner, _, _ = win32security.LookupAccountSid(None, owner_sid)\n",
    "    \n",
    "    print(f\"Owner: {owner}\")\n",
    "\n",
    "get_file_owner('test_file.txt')"
   ]
  },
  {
   "cell_type": "code",
   "execution_count": null,
   "id": "4a08bfff",
   "metadata": {},
   "outputs": [],
   "source": []
  },
  {
   "cell_type": "code",
   "execution_count": null,
   "id": "d53fe8db",
   "metadata": {},
   "outputs": [],
   "source": []
  },
  {
   "cell_type": "code",
   "execution_count": null,
   "id": "18501e16",
   "metadata": {},
   "outputs": [],
   "source": []
  },
  {
   "cell_type": "code",
   "execution_count": null,
   "id": "90723d1c",
   "metadata": {},
   "outputs": [],
   "source": []
  },
  {
   "cell_type": "code",
   "execution_count": null,
   "id": "94bfdbee",
   "metadata": {},
   "outputs": [],
   "source": []
  },
  {
   "cell_type": "code",
   "execution_count": null,
   "id": "b68d0cda",
   "metadata": {},
   "outputs": [],
   "source": []
  },
  {
   "cell_type": "code",
   "execution_count": null,
   "id": "75846679",
   "metadata": {},
   "outputs": [],
   "source": []
  },
  {
   "cell_type": "code",
   "execution_count": null,
   "id": "b6fd62ed",
   "metadata": {},
   "outputs": [],
   "source": []
  },
  {
   "cell_type": "code",
   "execution_count": null,
   "id": "8fa3f5c3",
   "metadata": {},
   "outputs": [],
   "source": []
  },
  {
   "cell_type": "code",
   "execution_count": null,
   "id": "fd18cb98",
   "metadata": {},
   "outputs": [],
   "source": []
  },
  {
   "cell_type": "code",
   "execution_count": null,
   "id": "ab9d3268",
   "metadata": {},
   "outputs": [],
   "source": []
  },
  {
   "cell_type": "code",
   "execution_count": null,
   "id": "7179e1b5",
   "metadata": {},
   "outputs": [],
   "source": []
  },
  {
   "cell_type": "code",
   "execution_count": null,
   "id": "1991b5c4",
   "metadata": {},
   "outputs": [],
   "source": []
  },
  {
   "cell_type": "code",
   "execution_count": null,
   "id": "175d521b",
   "metadata": {},
   "outputs": [],
   "source": []
  },
  {
   "cell_type": "code",
   "execution_count": null,
   "id": "869aaa7d",
   "metadata": {},
   "outputs": [],
   "source": []
  },
  {
   "cell_type": "code",
   "execution_count": null,
   "id": "179a1769",
   "metadata": {},
   "outputs": [],
   "source": []
  }
 ],
 "metadata": {
  "kernelspec": {
   "display_name": "Python 3 (ipykernel)",
   "language": "python",
   "name": "python3"
  },
  "language_info": {
   "codemirror_mode": {
    "name": "ipython",
    "version": 3
   },
   "file_extension": ".py",
   "mimetype": "text/x-python",
   "name": "python",
   "nbconvert_exporter": "python",
   "pygments_lexer": "ipython3",
   "version": "3.9.12"
  }
 },
 "nbformat": 4,
 "nbformat_minor": 5
}
