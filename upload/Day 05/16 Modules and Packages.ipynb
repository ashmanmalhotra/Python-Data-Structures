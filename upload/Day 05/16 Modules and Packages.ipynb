{
 "cells": [
  {
   "cell_type": "markdown",
   "id": "b9a23a1a-e706-4cf9-88e5-1333a687a880",
   "metadata": {},
   "source": [
    "# <span style=\"color:red; background-color:yellow\">Modules and Packages</span>"
   ]
  },
  {
   "cell_type": "markdown",
   "id": "83293e15-5712-4054-b873-b06c506decde",
   "metadata": {},
   "source": [
    "#### 1. What is a Module in Python?     \n",
    "A **module** in Python is **just a file that contains Python code**.      \n",
    "```\n",
    "You can write:\n",
    " - functions,\n",
    " - variables, and\n",
    " - classes inside a module and use them in other programs.\n",
    "```\n",
    "This helps organize code and reuse it across multiple programs."
   ]
  },
  {
   "cell_type": "markdown",
   "id": "60a24e99-bc83-420b-94bb-310ece1f25a6",
   "metadata": {},
   "source": [
    "**Example:**    \n",
    "```python\n",
    "# create a file: my_module.py with following code:\n",
    "def greeting(name):\n",
    "    return f\"Hello, {name}!\"\n",
    "\n",
    "pi = 3.14159\n",
    "```    \n",
    "\n",
    "**Using the Module - my_module.py**     \n",
    "```python\n",
    "# Import the module\n",
    "import my_module\n",
    "\n",
    "# Using the greet function from my_module\n",
    "message = my_module.greeting(\"Alice\")\n",
    "print(message)                            # Output: Hello, Alice!\n",
    "\n",
    "# Accessing the pi variable from my_module\n",
    "print(my_module.pi)                      # Output: 3.14159\n",
    "```"
   ]
  },
  {
   "cell_type": "code",
   "execution_count": null,
   "id": "480464d7-c002-4194-9be7-436587e9c20f",
   "metadata": {},
   "outputs": [],
   "source": []
  },
  {
   "cell_type": "code",
   "execution_count": null,
   "id": "5761ec27-c84c-4ec6-a956-96e5974da4b4",
   "metadata": {},
   "outputs": [],
   "source": []
  },
  {
   "cell_type": "code",
   "execution_count": null,
   "id": "1b9448f2-e27f-462e-aebe-5de9f3226f18",
   "metadata": {},
   "outputs": [],
   "source": []
  },
  {
   "cell_type": "markdown",
   "id": "d4712e57-2fc6-41b6-934a-447e7cca3629",
   "metadata": {},
   "source": [
    "# <span style=\"color:red; background-color:yellow\">2. What is a Package in Python?</span>     \n",
    "A **package** is a **collection of Python modules grouped into a directory**.      \n",
    "Each **package contains** an **additional file** called **__init__.py** to tell Python that the directory should be treated as a package.     \n",
    "\n",
    "Packages allow you to structure large programs into smaller, manageable pieces."
   ]
  },
  {
   "cell_type": "markdown",
   "id": "77248162-d3c3-4acb-88ec-5d0584d4c91a",
   "metadata": {},
   "source": [
    "#### **Example: Creating and Using a Package**     \n",
    "**Step 1: Create a Directory for the Package**     \n",
    "Let’s create a package called ```math_operations``. The ```directory structure``` will look like this:     \n",
    "```\n",
    "math_operations/\n",
    "    __init__.py    \n",
    "    basic_operations.py\n",
    "    advanced_operations.py     \n",
    "```\n",
    "\n",
    "**Step 2: Add Code to the Modules - basic_operations.py and advanced_operations.py:**    \n",
    "```python\n",
    "# basic_operations.py\n",
    "def add(a, b):\n",
    "    return a + b\n",
    "\n",
    "def subtract(a, b):\n",
    "    return a - b\n",
    "```\n",
    "<br>\n",
    "\n",
    "```python\n",
    "# advanced_operations.py\n",
    "def square(a):\n",
    "    return a * a\n",
    "\n",
    "def cube(a):\n",
    "    return a * a * a\n",
    "```\n",
    "\n",
    "**Step 3: Use the Package in a Script:**\n",
    "```python    \n",
    "# main.py\n",
    "from math_operations import basic_operations, advanced_operations\n",
    "\n",
    "# Using functions from basic_operations\n",
    "print(basic_operations.add(5, 3))  # Output: 8\n",
    "print(basic_operations.subtract(5, 3))  # Output: 2\n",
    "\n",
    "# Using functions from advanced_operations\n",
    "print(advanced_operations.square(4))  # Output: 16\n",
    "print(advanced_operations.cube(2))  # Output: 8\n",
    "```\n",
    "\n",
    "Here, we import specific modules (basic_operations and advanced_operations) from the math_operations package."
   ]
  },
  {
   "cell_type": "code",
   "execution_count": null,
   "id": "9910960d-985e-46af-a408-7c260a2941df",
   "metadata": {},
   "outputs": [],
   "source": []
  },
  {
   "cell_type": "markdown",
   "id": "a796872e-55cd-4571-8131-da18bd92734c",
   "metadata": {},
   "source": [
    "**Using the Package:**"
   ]
  },
  {
   "cell_type": "code",
   "execution_count": 16,
   "id": "e9182a37-add5-434f-a4b9-4ef9afd07df9",
   "metadata": {},
   "outputs": [
    {
     "name": "stdout",
     "output_type": "stream",
     "text": [
      "8\n",
      "2\n",
      "16\n",
      "8\n"
     ]
    }
   ],
   "source": [
    "# main.py\n",
    "from math_operations import basic_operations, advanced_operations\n",
    "\n",
    "# Using functions from basic_operations\n",
    "print(basic_operations.add(5, 3))  # Output: 8\n",
    "print(basic_operations.subtract(5, 3))  # Output: 2\n",
    "\n",
    "# Using functions from advanced_operations\n",
    "print(advanced_operations.square(4))  # Output: 16\n",
    "print(advanced_operations.cube(2))  # Output: 8"
   ]
  },
  {
   "cell_type": "code",
   "execution_count": 18,
   "id": "3f54d354-84ff-4460-9302-367fcfd4b43e",
   "metadata": {},
   "outputs": [
    {
     "data": {
      "text/plain": [
       "30"
      ]
     },
     "execution_count": 18,
     "metadata": {},
     "output_type": "execute_result"
    }
   ],
   "source": [
    "# math_operations/__init__.py\n",
    "\n",
    "from math_operations import add, subtract\n",
    "add(10, 20)\n"
   ]
  },
  {
   "cell_type": "code",
   "execution_count": null,
   "id": "bded8466-43b7-411a-bd00-18f6a1d34ee1",
   "metadata": {},
   "outputs": [],
   "source": []
  },
  {
   "cell_type": "code",
   "execution_count": 1,
   "id": "7bda4337-6e99-42c8-a157-9f780cb6e686",
   "metadata": {},
   "outputs": [],
   "source": [
    "import my_module"
   ]
  },
  {
   "cell_type": "code",
   "execution_count": 5,
   "id": "ca0c019f-a408-4dbf-aa6a-1a03c994b288",
   "metadata": {},
   "outputs": [
    {
     "data": {
      "text/plain": [
       "'Hello, Ashman!'"
      ]
     },
     "execution_count": 5,
     "metadata": {},
     "output_type": "execute_result"
    }
   ],
   "source": [
    "my_module.greeting(\"Ashman\")"
   ]
  },
  {
   "cell_type": "code",
   "execution_count": null,
   "id": "74911aa4-2a2d-471d-ac88-7ff060082d27",
   "metadata": {},
   "outputs": [],
   "source": []
  }
 ],
 "metadata": {
  "kernelspec": {
   "display_name": "Python 3 (ipykernel)",
   "language": "python",
   "name": "python3"
  },
  "language_info": {
   "codemirror_mode": {
    "name": "ipython",
    "version": 3
   },
   "file_extension": ".py",
   "mimetype": "text/x-python",
   "name": "python",
   "nbconvert_exporter": "python",
   "pygments_lexer": "ipython3",
   "version": "3.11.4"
  }
 },
 "nbformat": 4,
 "nbformat_minor": 5
}
